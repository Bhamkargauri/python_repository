{
 "cells": [
  {
   "cell_type": "markdown",
   "id": "ab0cc7f0-ed19-4db7-b0ad-62b777a3a0d8",
   "metadata": {},
   "source": [
    "# <center><span style='color:red; font-family:Britannic Bold'>Regular Expression</span></center>"
   ]
  },
  {
   "cell_type": "markdown",
   "id": "a94a3498-d971-41ba-b437-50f1239ff41d",
   "metadata": {},
   "source": [
    "In Python, regular expressions (regex) are used for searching, matching, and manipulating strings. They are part of the re module, which provides functions to work with patterns of text. Here's a quick overview of how to use regular expressions in Python"
   ]
  },
  {
   "cell_type": "markdown",
   "id": "520eea03-0298-4a93-992d-a12522e4e0c3",
   "metadata": {},
   "source": [
    "<span style='color:darkblue; font-family:Times New Roman (Headings CS)'>Basic Regular Expression Syntax:</span><br>\n",
    "<span style='color:brown; font-family:Times New Roman (Headings CS)'>1) . : Matches any single character except a newline.</span><br>\n",
    "<span style='color:brown; font-family:Times New Roman (Headings CS)'>2) ^ : Anchors the match to the start of the string.</span><br>\n",
    "<span style='color:brown; font-family:Times New Roman (Headings CS)'>3) $ : Anchors the match to the end of the string.</span><br>\n",
    "<span style='color:brown; font-family:Times New Roman (Headings CS)'>4) * : Matches zero or more repetitions of the previous chapter or group.</span><br>\n",
    "<span style='color:brown; font-family:Times New Roman (Headings CS)'>5) + : Matches one or more repetitions of the previous chapter or group.</span><br>\n",
    "<span style='color:brown; font-family:Times New Roman (Headings CS)'>6) ? : Matches zero or more repetitions of previous character or group (makes it optional).</span><br>\n",
    "<span style='color:brown; font-family:Times New Roman (Headings CS)'>7) {m} : Matches exactly m repetitions of previous character or group.</span><br>\n",
    "<span style='color:brown; font-family:Times New Roman (Headings CS)'>8) {m,n} : Matches any number from m to n repetitions of the previous character or group.</span><br>\n",
    "<span style='color:brown; font-family:Times New Roman (Headings CS)'>9) \\ : Escape character used to match special characters literally (e.g.,\\\\to match a backslash).</span><br>"
   ]
  },
  {
   "cell_type": "markdown",
   "id": "0537bb65-6501-4077-82f6-d363059df702",
   "metadata": {},
   "source": [
    "<span style='color:darkblue; font-family:Times New Roman (Headings CS)'>Character Classes and Groups:</span><br>\n",
    "<span style='color:brown; font-family:Times New Roman (Headings CS)'>1) [] : A set of character to match one character from within the brackets.<br>\n",
    "Example : [A-Z] matches any uppercase letter from A to Z.</span><br>\n",
    "<span style='color:brown; font-family:Times New Roman (Headings CS)'>2) () : Groups a pattern together, useful for capturing or repeting patterns as a unit.<br>\n",
    "Example : (ab)+matches one or more repetitions of \"ab\".</span><br>"
   ]
  },
  {
   "cell_type": "markdown",
   "id": "88e0d7b1-c131-4c93-be19-e7c71f5c3e87",
   "metadata": {},
   "source": [
    "<span style='color:darkblue; font-family:Times New Roman (Headings CS)'>Special sequences:</span><br>\n",
    "<span style='color:brown; font-family:Times New Roman (Headings CS)'>1) \\d : Matches any digit (0-9).</span><br>\n",
    "<span style='color:brown; font-family:Times New Roman (Headings CS)'>2) \\D : Matches any non-digit character (opposite of \\d).</span><br>\n",
    "<span style='color:brown; font-family:Times New Roman (Headings CS)'>3) \\s : Matches any whitespace character (space, tab, newline).</span><br>\n",
    "<span style='color:brown; font-family:Times New Roman (Headings CS)'>4) \\S : Matches any non-whitespace character (opposite of \\s).</span><br>\n",
    "<span style='color:brown; font-family:Times New Roman (Headings CS)'>5) \\w : Matches any word character (alphanumeric plus underscore).</span><br>\n",
    "<span style='color:brown; font-family:Times New Roman (Headings CS)'>6) \\W : Matches any non-word character (opposite of \\w).</span><br>\n",
    "<span style='color:brown; font-family:Times New Roman (Headings CS)'>7) \\b : Matches a word boundary (e.g., space or punctuation).</span><br>\n",
    "<span style='color:brown; font-family:Times New Roman (Headings CS)'>8) \\A : Matches only at the start of the string (similar to ^ but more specific).</span><br>\n",
    "<span style='color:brown; font-family:Times New Roman (Headings CS)'>9) \\Z : Matches only at the end of the string (similar to $ but more specific).</span><br>"
   ]
  },
  {
   "cell_type": "markdown",
   "id": "858af814-83d4-4f57-8471-3cf5525f4c1c",
   "metadata": {},
   "source": [
    "<table align=\"left\">\n",
    "     <tr>\n",
    "    <th>Pattern</th>\n",
    "    <th>Description</th>\n",
    "    <th>Example match</th>\n",
    "     </tr>\n",
    "   <tr>\n",
    "    <td>.</td>\n",
    "    <td>Any single character except newline</td>\n",
    "    <td>a, 9, #</td>\n",
    "  </tr>\n",
    "  <tr>\n",
    "      <td>^hello</td>\n",
    "      <td>“hello” at the start of the string</td>\n",
    "      <td>“hello world”</td>\n",
    "  </tr>\n",
    "    <tr>\n",
    "      <td>World$</td>\n",
    "      <td>“world” at the end of the string</td>\n",
    "      <td>“hello world”</td>\n",
    "  </tr>\n",
    "    <tr>\n",
    "      <td>a*</td>\n",
    "      <td>Zero or more “a” character</td>\n",
    "      <td>“aaa”, “”</td>\n",
    "  </tr>\n",
    "    <tr>\n",
    "      <td>a+</td>\n",
    "      <td>One or more “a” character</td>\n",
    "      <td>“a”, “aaa”</td>\n",
    "  </tr>\n",
    "    <tr>\n",
    "      <td>a?</td>\n",
    "      <td>Zero or one “a” character</td>\n",
    "      <td>“aaa”</td>\n",
    "  </tr>\n",
    "    <tr>\n",
    "      <td>a{3}</td>\n",
    "      <td>Exactly 3 “a” characters</td>\n",
    "      <td>“aaa”</td>\n",
    "  </tr>\n",
    "     <tr>\n",
    "      <td>a{2,4}</td>\n",
    "      <td>Between 2 and 4 “a” character</td>\n",
    "      <td>“aa”, “aaa”</td>\n",
    "  </tr>\n",
    "    <tr>\n",
    "      <td>[A-Z]</td>\n",
    "      <td>Any uppercase letter</td>\n",
    "      <td>“A”, “Z”</td>\n",
    "  </tr>\n",
    "    <tr>\n",
    "      <td>(abc)+</td>\n",
    "      <td>One or more repetions of “abc”</td>\n",
    "      <td>“abcabc”</td>\n",
    "  </tr>\n",
    "</table>"
   ]
  },
  {
   "cell_type": "code",
   "execution_count": 31,
   "id": "1c8cf3fe-f6ac-4733-9071-d3ea2292c6b9",
   "metadata": {},
   "outputs": [],
   "source": [
    "# Sample text to use in examples\n",
    "import re\n",
    "text=\"Example 123 text with numbers 456, symbols #, and whitespace. Tab\\tNewline\\nEnd.\""
   ]
  },
  {
   "cell_type": "markdown",
   "id": "6007f452-20d1-490a-85af-8b25b5b15bf3",
   "metadata": {},
   "source": [
    "## 1) . (Any Character)\n",
    "Matches any charater except newline."
   ]
  },
  {
   "cell_type": "code",
   "execution_count": 37,
   "id": "0e7106a3-5142-47ce-8d0e-95fed8b88e94",
   "metadata": {},
   "outputs": [
    {
     "name": "stdout",
     "output_type": "stream",
     "text": [
      "['H', 'e', 'l', 'l', 'o', '!', ' ', 'M', 'y', ' ', 'N', 'a', 'm', 'e', ' ', 'i', 's', ' ', 'G', 'a', 'u', 'r', 'i', ',', ' ', 'I', ' ', 'a', 'm', ' ', 'f', 'r', 'o', 'm', ' ', 'M', 'a', 'h', 'a', 'r', 'a', 's', 'h', 't', 'r', 'a']\n",
      "['H', 'e', 'l', 'l', 'o', '!', ' ', 'M', 'y', ' ', 'N', 'a', 'm', 'e', ' ', 'i', 's', ' ', 'G', 'a', 'u', 'r', 'i', ',', ' ', 'I', ' ', 'a', 'm', ' ', 'f', 'r', 'o', 'm', ' ', 'M', 'a', 'h', 'a', 'r', 'a', 's', 'h', 't', 'r', 'a']\n"
     ]
    }
   ],
   "source": [
    "import re\n",
    "text=\"Hello! My Name is Gauri, I am from Maharashtra\"\n",
    "# with r\n",
    "print(re.findall(r\".\",text))        # Matches every character except newline\n",
    "\n",
    "#without r\n",
    "print(re.findall(\".\",text))        # Matches every character except newline"
   ]
  },
  {
   "cell_type": "markdown",
   "id": "bbbb2306-2b0d-4910-8bc6-516a6562a5f7",
   "metadata": {},
   "source": [
    "## 2) ^ (Start of String)\n",
    "Matches if the string with the pattern."
   ]
  },
  {
   "cell_type": "code",
   "execution_count": 47,
   "id": "68292905-ca5a-44bf-872b-a20c35eeda59",
   "metadata": {},
   "outputs": [
    {
     "name": "stdout",
     "output_type": "stream",
     "text": [
      "['Happiness']\n",
      "['Happiness']\n"
     ]
    }
   ],
   "source": [
    "import re\n",
    "text=\"Happiness is not something ready-made. It comes from your own actions.\"\n",
    "# with r\n",
    "print(re.findall(r\"^Happiness\", text))       # matches if text starts with \"Happiness\"\n",
    "#without r\n",
    "print(re.findall(\"^Happiness\", text))        # matches if text starts with \"Happiness\""
   ]
  },
  {
   "cell_type": "markdown",
   "id": "74b2e4a2-0286-42a1-bc64-5af374c7faf2",
   "metadata": {},
   "source": [
    "## 3) $ (End of String)\n",
    "Matches if the string ends with the pattern."
   ]
  },
  {
   "cell_type": "code",
   "execution_count": 56,
   "id": "2e2669d5-7cee-4a62-a789-8d747f31f706",
   "metadata": {},
   "outputs": [
    {
     "name": "stdout",
     "output_type": "stream",
     "text": [
      "['actions.']\n",
      "['actions.']\n"
     ]
    }
   ],
   "source": [
    "import re\n",
    "text=\"Happiness is not something ready-made. It comes from your own actions.\"\n",
    "print(re.findall(r\"actions\\.$\", text))    # Matches \"End. \" if it appears at the end of text\n",
    "\n",
    "print(re.findall(\"actions\\\\.$\", text))    # Matches \"End.\" if it appears at the end of text"
   ]
  },
  {
   "cell_type": "markdown",
   "id": "73e162fa-73ce-45ae-942d-97b7d1095f56",
   "metadata": {},
   "source": [
    "## 4) * (Zero or more Repetitions)\n",
    "Matches zero or more of the preceding character."
   ]
  },
  {
   "cell_type": "code",
   "execution_count": 59,
   "id": "d295af8c-8a2c-4a78-86e8-5c480e9c92fd",
   "metadata": {},
   "outputs": [
    {
     "name": "stdout",
     "output_type": "stream",
     "text": [
      "['Happiness']\n"
     ]
    }
   ],
   "source": [
    "import re\n",
    "text=\"Happiness is not something ready-made. It comes from your own actions.\"\n",
    "#with r\n",
    "print(re.findall(r\"Hap*piness\", text))       # Matches \"Happiness\" with zero or more \n",
    "# without r\n",
    "print(re.findall(\"Hap*piness\", text           # Matches \"Example\" with zero or more"
   ]
  },
  {
   "cell_type": "markdown",
   "id": "1ed182de-d749-4b1e-9aed-57243aa05323",
   "metadata": {},
   "source": [
    "## 5) + (One or More Repetitions)\n",
    "Matches one or more of the preceding character."
   ]
  },
  {
   "cell_type": "code",
   "execution_count": 72,
   "id": "8c776860-9cdb-4956-b516-666cc946b878",
   "metadata": {},
   "outputs": [
    {
     "name": "stdout",
     "output_type": "stream",
     "text": [
      "['124', '143']\n",
      "['124', '143']\n"
     ]
    }
   ],
   "source": [
    "import re\n",
    "text=\"Happiness is not something ready-made. It comes from your own actions.124,143\"\n",
    "# with r\n",
    "print(re.findall(r\"\\d+\", text))         # matches \"124\" and \"143\" (one or more digits)\n",
    "\n",
    "# without r\n",
    "print(re.findall(\"\\\\d+\", text))         # matches \"124\" and \"143\" (one or more digits)"
   ]
  },
  {
   "cell_type": "markdown",
   "id": "e6270060-68c2-4991-9ad6-8f72403fa60e",
   "metadata": {},
   "source": [
    "## 6) ? (Zero or One Repetition)\n",
    "Matches zero or more of the preceding character."
   ]
  },
  {
   "cell_type": "code",
   "execution_count": 81,
   "id": "b97763ff-0426-4773-8573-41fbc0b52d3e",
   "metadata": {},
   "outputs": [
    {
     "name": "stdout",
     "output_type": "stream",
     "text": [
      "['Happiness']\n",
      "['Happiness']\n"
     ]
    }
   ],
   "source": [
    "import re\n",
    "text=\"Happiness is not something ready-made. It comes from your own actions.\"\n",
    "# with r\n",
    "print(re.findall(r\"Happ?iness\", text))          # matches \"Happiness\" and \"Hapiness\" (optional \"p\")\n",
    "# without r\n",
    "print(re.findall(\"Happ?iness\", text))           # matches \"Happiness\" and \"Hapiness\" (optional \"p\")"
   ]
  },
  {
   "cell_type": "markdown",
   "id": "f7c1b675-ea86-4d8d-be0b-c72d5293f865",
   "metadata": {},
   "source": [
    "## 7) {m} (Exactly m Repetitions)\n",
    "Matches exactly m rrpetitions of the preceding charater."
   ]
  },
  {
   "cell_type": "code",
   "execution_count": 92,
   "id": "4f4a6c17-32db-4a28-9136-882cf6bc70ec",
   "metadata": {},
   "outputs": [
    {
     "name": "stdout",
     "output_type": "stream",
     "text": [
      "['ee', 'ee']\n",
      "['ee', 'ee']\n"
     ]
    }
   ],
   "source": [
    "import re\n",
    "text=\"Happiness is not something ready-made. It comes from your own actions.\"\n",
    "# with r\n",
    "print(re.findall(r\"e{2}\", \"Feeeel\"))       # matches \"ee\" in \"Feeel\"\n",
    "\n",
    "# without r\n",
    "print(re.findall(\"e{2}\", \"Feeeel\"))        # matches \"ee\" in \"Feeel\""
   ]
  },
  {
   "cell_type": "markdown",
   "id": "ddf701d5-7c1b-4e0b-97ef-5e026c0e9084",
   "metadata": {},
   "source": [
    "## 8) {m,n} (Between m and n Repetitions)\n",
    "Matches between m and n repetitions of the preceding character."
   ]
  },
  {
   "cell_type": "code",
   "execution_count": 99,
   "id": "ea97117d-a9e9-4251-8f8d-99778cb8e1d7",
   "metadata": {},
   "outputs": [
    {
     "name": "stdout",
     "output_type": "stream",
     "text": [
      "['145', '2', '257']\n",
      "['145', '2', '257']\n"
     ]
    }
   ],
   "source": [
    "import re\n",
    "text=\"Happiness is not something ready-made. It comes from your own actions, 1452, 257\"\n",
    "# with r\n",
    "print(re.findall(r\"\\d{1,3}\", text))         # Matches \"145\" and \"257\" (1 to 3 digits)\n",
    "\n",
    "# without r\n",
    "print(re.findall(\"\\\\d{1,3}\", text))         # Matches \"145\" and \"257\" (1 to 3 digits)"
   ]
  },
  {
   "cell_type": "markdown",
   "id": "2b144a59-b74d-4865-b073-5c166c657eec",
   "metadata": {},
   "source": [
    "## 9) \\d (Digit)\n",
    "Matches any digit(0-9)"
   ]
  },
  {
   "cell_type": "code",
   "execution_count": 104,
   "id": "262aa1f1-d40e-49e7-be32-d4623fcc22b6",
   "metadata": {},
   "outputs": [
    {
     "name": "stdout",
     "output_type": "stream",
     "text": [
      "['1', '4', '5', '2', '2', '5', '7']\n",
      "['1', '4', '5', '2', '2', '5', '7']\n"
     ]
    }
   ],
   "source": [
    "import re\n",
    "text=\"Happiness is not something ready-made. It comes from your own actions, 1452, 257\"\n",
    "# with r\n",
    "print(re.findall(r\"\\d\", text))            # Matches each individual digit\n",
    "\n",
    "# without r\n",
    "print(re.findall(\"\\\\d\", text))            # Matches each individual digit"
   ]
  },
  {
   "cell_type": "markdown",
   "id": "bf5e672e-7fb0-4aca-ba11-53af3f49dbd4",
   "metadata": {},
   "source": [
    "## 10) \\D (Non-Digit)\n",
    "Matches any character that is not a digit."
   ]
  },
  {
   "cell_type": "code",
   "execution_count": 117,
   "id": "b1a86f50-2a2c-41db-9435-cc4254669e8a",
   "metadata": {},
   "outputs": [
    {
     "name": "stdout",
     "output_type": "stream",
     "text": [
      "['H', 'a', 'p', 'p', 'i', 'n', 'e', 's', 's', ' ', 'i', 's', ' ', 'n', 'o', 't', ' ', 's', 'o', 'm', 'e', 't', 'h', 'i', 'n', 'g', ' ', 'r', 'e', 'a', 'd', 'y', '-', 'm', 'a', 'd', 'e', '.', ' ', 'I', 't', ' ', 'c', 'o', 'm', 'e', 's', ' ', 'f', 'r', 'o', 'm', ' ', 'y', 'o', 'u', 'r', ' ', 'o', 'w', 'n', ' ', 'a', 'c', 't', 'i', 'o', 'n', 's', ',', ' ', ',', ' ']\n",
      "--------------------------------------------------------------------------------------------------------------------------------------\n",
      "['H', 'a', 'p', 'p', 'i', 'n', 'e', 's', 's', ' ', 'i', 's', ' ', 'n', 'o', 't', ' ', 's', 'o', 'm', 'e', 't', 'h', 'i', 'n', 'g', ' ', 'r', 'e', 'a', 'd', 'y', '-', 'm', 'a', 'd', 'e', '.', ' ', 'I', 't', ' ', 'c', 'o', 'm', 'e', 's', ' ', 'f', 'r', 'o', 'm', ' ', 'y', 'o', 'u', 'r', ' ', 'o', 'w', 'n', ' ', 'a', 'c', 't', 'i', 'o', 'n', 's', ',', ' ', ',', ' ']\n"
     ]
    }
   ],
   "source": [
    "import re\n",
    "text=\"Happiness is not something ready-made. It comes from your own actions, 1452, 257\"\n",
    "# with r\n",
    "print(re.findall(r\"\\D\", text))           # Matches non-digit character\n",
    "print(\"--------------------------------------------------------------------------------------------------------------------------------------\")\n",
    "# without r\n",
    "print(re.findall(\"\\\\D\", text))           # Matches non-digit character"
   ]
  },
  {
   "cell_type": "markdown",
   "id": "5d8ed711-6528-436c-9216-68efac616fb9",
   "metadata": {},
   "source": [
    "## 11) \\s (Whitespace)\n",
    "Matches any whitespaces character (space, tab, newline)"
   ]
  },
  {
   "cell_type": "code",
   "execution_count": 124,
   "id": "f573674c-e6c7-4d2c-ae46-e890897d9cbc",
   "metadata": {},
   "outputs": [
    {
     "name": "stdout",
     "output_type": "stream",
     "text": [
      "[' ', ' ', ' ', ' ', ' ', ' ', ' ', ' ', ' ', ' ', ' ', ' ', ' ', '\\t', '\\n']\n",
      "[' ', ' ', ' ', ' ', ' ', ' ', ' ', ' ', ' ', ' ', ' ', ' ', ' ', '\\t', '\\n']\n"
     ]
    }
   ],
   "source": [
    "import re\n",
    "text=\"Happiness is not something ready-made. It comes from your own actions, 1452, 257, Tab\\tNewline\\n\"\n",
    "\n",
    "# with r\n",
    "print(re.findall(r\"\\s\", text))            # Matches spaces, tabs, newline\n",
    "# without r\n",
    "print(re.findall(\"\\\\s\", text))            # Matches spaces, tabs, newline"
   ]
  },
  {
   "cell_type": "markdown",
   "id": "d318da27-a06c-412b-b406-64a0922d5b05",
   "metadata": {},
   "source": [
    "## 12) \\S (Non-Whitespace)\n",
    "Matches any non-whitespace character."
   ]
  },
  {
   "cell_type": "code",
   "execution_count": 131,
   "id": "2c8cfd66-e28a-406b-8ab5-48f198b9d1ed",
   "metadata": {},
   "outputs": [
    {
     "name": "stdout",
     "output_type": "stream",
     "text": [
      "['H', 'a', 'p', 'p', 'i', 'n', 'e', 's', 's', 'i', 's', 'n', 'o', 't', 's', 'o', 'm', 'e', 't', 'h', 'i', 'n', 'g', 'r', 'e', 'a', 'd', 'y', '-', 'm', 'a', 'd', 'e', '.', 'I', 't', 'c', 'o', 'm', 'e', 's', 'f', 'r', 'o', 'm', 'y', 'o', 'u', 'r', 'o', 'w', 'n', 'a', 'c', 't', 'i', 'o', 'n', 's', ',', '1', '4', '5', '2', ',', '2', '5', '7', ',', 'T', 'a', 'b', 'N', 'e', 'w', 'l', 'i', 'n', 'e']\n",
      "-----------------------------------------------------------------------------------------------------\n",
      "['H', 'a', 'p', 'p', 'i', 'n', 'e', 's', 's', 'i', 's', 'n', 'o', 't', 's', 'o', 'm', 'e', 't', 'h', 'i', 'n', 'g', 'r', 'e', 'a', 'd', 'y', '-', 'm', 'a', 'd', 'e', '.', 'I', 't', 'c', 'o', 'm', 'e', 's', 'f', 'r', 'o', 'm', 'y', 'o', 'u', 'r', 'o', 'w', 'n', 'a', 'c', 't', 'i', 'o', 'n', 's', ',', '1', '4', '5', '2', ',', '2', '5', '7', ',', 'T', 'a', 'b', 'N', 'e', 'w', 'l', 'i', 'n', 'e']\n"
     ]
    }
   ],
   "source": [
    "import re\n",
    "text=\"Happiness is not something ready-made. It comes from your own actions, 1452, 257, Tab\\tNewline\\n\"\n",
    "# with r\n",
    "print(re.findall(r\"\\S\", text))                   # Matches each non-whitespace character \n",
    "print(\"-----------------------------------------------------------------------------------------------------\")\n",
    "# without r\n",
    "print(re.findall(\"\\\\S\", text))                  # Matches each non-whitespace character "
   ]
  },
  {
   "cell_type": "markdown",
   "id": "fa833d72-6e13-4cdd-a62e-3ed3a09a63bc",
   "metadata": {},
   "source": [
    "## 13) \\w (Word Character)\n",
    "Matches any alphnumeric character and underscore."
   ]
  },
  {
   "cell_type": "code",
   "execution_count": 140,
   "id": "65fd8370-7fc0-469f-aae2-78f8e29cf4ac",
   "metadata": {},
   "outputs": [
    {
     "name": "stdout",
     "output_type": "stream",
     "text": [
      "['Happiness', 'is', 'not', 'something', 'ready', 'made', 'It', 'comes', 'from', 'your', 'own', 'actions', '124', '236', '5654']\n",
      "['Happiness', 'is', 'not', 'something', 'ready', 'made', 'It', 'comes', 'from', 'your', 'own', 'actions', '124', '236', '5654']\n"
     ]
    }
   ],
   "source": [
    "import re\n",
    "text=\"Happiness is not something ready-made. It comes from your own actions, 124, 236, 5654\"\n",
    "# with r\n",
    "print(re.findall(r\"\\w+\", text))       # Matches words and numbers   \n",
    "\n",
    "# without r\n",
    "print(re.findall(\"\\\\w+\", text))       # Matches words and numbers   "
   ]
  },
  {
   "cell_type": "markdown",
   "id": "c9969933-28dc-4463-9ebd-e70592a9fb49",
   "metadata": {},
   "source": [
    "## 14) \\W (Non-Word Character)\n",
    "Matches any character that is not a word character."
   ]
  },
  {
   "cell_type": "code",
   "execution_count": 149,
   "id": "45581e1b-0707-4557-865f-63c196521bec",
   "metadata": {},
   "outputs": [
    {
     "name": "stdout",
     "output_type": "stream",
     "text": [
      "[' ', ' ', ' ', ' ', '-', '.', ' ', ' ', ' ', ' ', ' ', ' ', '.', ' ', '\\t', '\\n']\n",
      "[' ', ' ', ' ', ' ', '-', '.', ' ', ' ', ' ', ' ', ' ', ' ', '.', ' ', '\\t', '\\n']\n"
     ]
    }
   ],
   "source": [
    "import re\n",
    "text=\"Happiness is not something ready-made. It comes from your own actions. \\t\\n\"\n",
    "# with r\n",
    "print(re.findall(r\"\\W\", text))              # Matches spaces, punctuation, etc.\n",
    "\n",
    "# without r\n",
    "print(re.findall(\"\\\\W\", text))              # Matches spaces, punctuation, etc."
   ]
  },
  {
   "cell_type": "markdown",
   "id": "526a2cbb-a405-48c4-93e2-09291d7db22c",
   "metadata": {},
   "source": [
    "## 15) \\b (Word Boundary)\n",
    "Matches the position between a word and non-word character."
   ]
  },
  {
   "cell_type": "code",
   "execution_count": 158,
   "id": "2a048cfd-efe9-43f3-8270-af4cc37f7f8f",
   "metadata": {},
   "outputs": [
    {
     "name": "stdout",
     "output_type": "stream",
     "text": [
      "['ready']\n",
      "['ready']\n"
     ]
    }
   ],
   "source": [
    "import re\n",
    "text=\"Happiness is not something ready-made. It comes from your own actions.\"\n",
    "# with r\n",
    "print(re.findall(r\"\\bready\\b\", text))      # Matches \"ready\" as whole word\n",
    "# without r\n",
    "print(re.findall(\"\\\\bready\\\\b\", text))     # Matches \"ready\" as whole word"
   ]
  },
  {
   "cell_type": "markdown",
   "id": "a08e1ad2-5f2f-4598-abeb-754ecfa270fd",
   "metadata": {},
   "source": [
    "## 16) \\A (Start of String)\n",
    "Matches only at the start of the string."
   ]
  },
  {
   "cell_type": "code",
   "execution_count": 165,
   "id": "32a86e2f-be52-4260-91c6-8e704c4c8d8c",
   "metadata": {},
   "outputs": [
    {
     "name": "stdout",
     "output_type": "stream",
     "text": [
      "['Happiness']\n",
      "['Happiness']\n"
     ]
    }
   ],
   "source": [
    "import re\n",
    "text=\"Happiness is not something ready-made. It comes from your own actions.\"\n",
    "# with r\n",
    "print(re.findall(r\"\\AHappiness\", text))        # Matches if text starts with \"Happiness\"\n",
    "# without r\n",
    "print(re.findall(\"\\\\AHappiness\", text))        # Matches if text starts with \"Happiness\""
   ]
  },
  {
   "cell_type": "markdown",
   "id": "fe6508db-debd-4259-ada0-20e6ed7e6b74",
   "metadata": {},
   "source": [
    "## 17) \\Z (End of String)\n",
    "Matches only at the end of the string."
   ]
  },
  {
   "cell_type": "code",
   "execution_count": 171,
   "id": "c8078589-0657-496d-a4be-313d52b38da5",
   "metadata": {},
   "outputs": [
    {
     "name": "stdout",
     "output_type": "stream",
     "text": [
      "['actions.']\n",
      "['actions.']\n"
     ]
    }
   ],
   "source": [
    "import re\n",
    "text=\"Happiness is not something ready-made. It comes from your own actions.\"\n",
    "# with r\n",
    "print(re.findall(r\"actions\\.\\Z\", text))        # Matches if text ends with \"actions\"\n",
    "# without r\n",
    "print(re.findall(\"actions\\\\.\\\\Z\", text))        # Matches if text ends with \"actions\""
   ]
  },
  {
   "cell_type": "markdown",
   "id": "b3bdddb4-770f-487c-8989-a80881417c88",
   "metadata": {},
   "source": [
    "## 1) Email Matching \n",
    " <ul>\n",
    "  <li>pattern : r\"\\b[A-Za-z0-9._%+-]+@[A-Za-z0-9.-]+.[A-Za-z]{2,}\\b\"</li>\n",
    "  <li>Explanation : This pattern matches typical email addresses.</li>\n",
    "  <li>\\b ensures the email is matched as a whole word.</li>\n",
    "  <li>[A-Za-z0-9._%+-]+matches the local part(username).</li>\n",
    "  <li>@ matches the \"@\" symbols</li>\n",
    "  <li>[A-Za-z0-9.-]+ matches the domain name.</li>\n",
    "  <li>.[A-Za-z]{2,}matches the top-level domain(e.g., .com)</li>\n",
    "</ul> "
   ]
  },
  {
   "cell_type": "code",
   "execution_count": 184,
   "id": "44855375-20af-4a72-a211-eb1a85f2091f",
   "metadata": {},
   "outputs": [
    {
     "name": "stdout",
     "output_type": "stream",
     "text": [
      "['riyagaikwad@123.com for']\n"
     ]
    }
   ],
   "source": [
    "text=\"Contact us at riyagaikwad@123.com for more information.\"\n",
    "print(re.findall(r\"\\b[A-Za-z0-9._%+-]+@[A-Za-z0-9.-]+.[A-Za-z]{2,}\\b\", text))"
   ]
  },
  {
   "cell_type": "markdown",
   "id": "0399e519-285e-4f49-9bff-7ef4df64c290",
   "metadata": {},
   "source": [
    "## 2) URL Matching \n",
    " <ul>\n",
    "  <li>pattern : r\"https:?://\\S+.\\S+\"</li>\n",
    "  <li>Explanation : Matches a URL starting with \"http\" or \"https\".</li>\n",
    "  <li>https?matches \"http\" or \"https\"(s?makes the \"s\" optional).</li>\n",
    "  <li>://matches \"://\".</li>\n",
    "  <li>\\S+ matches any non-whitespace character for the rest of the URL.</li>\n",
    "</ul> "
   ]
  },
  {
   "cell_type": "code",
   "execution_count": 190,
   "id": "5ea27fb8-9c16-48d4-90be-6276e4c4851a",
   "metadata": {},
   "outputs": [
    {
     "name": "stdout",
     "output_type": "stream",
     "text": [
      "['https://www.gauri-b.com', 'http://gauri-b.org.com']\n"
     ]
    }
   ],
   "source": [
    "text=\"Visit our website at https://www.gauri-b.com or http://gauri-b.org.com\" \n",
    "print(re.findall(r\"https?://\\S+\\.\\S+\", text))"
   ]
  },
  {
   "cell_type": "markdown",
   "id": "ea3748ea-bdc6-4eea-ab3a-3b92f96e109b",
   "metadata": {},
   "source": [
    "## 3) Phone Number Matching\n",
    " <ul>\n",
    "  <li>pattern : r\"\\b\\d{3}[-.\\s]?\\d{3}[-.\\s]?\\d{4}\\b\"</li>\n",
    "  <li>Explanation : Matches phone numbers in formats like 123-456-7890, 123.456.7890 or 123 456 7890\".</li>\n",
    "  <li>\\b denotes a word boundary.</li>\n",
    "  <li>\\d{3} matches the area code.</li>\n",
    "  <li>[-.\\s]? matches an optional separator(-,., or whitespace).</li>\n",
    "  <li>\\d{3} and \\d{4} match the remaining parts of the phone number.</li>\n",
    "</ul> "
   ]
  },
  {
   "cell_type": "code",
   "execution_count": 196,
   "id": "94ca44c3-6cf1-4034-8bb5-72527ee10bbf",
   "metadata": {},
   "outputs": [
    {
     "name": "stdout",
     "output_type": "stream",
     "text": [
      "['456.123.7894', '456 123 7894']\n"
     ]
    }
   ],
   "source": [
    "text=\"You can reach me at 456.123.7894 or 456 123 7894.\"\n",
    "print(re.findall(r\"\\b\\d{3}[-.\\s]?\\d{3}[-.\\s]?\\d{4}\\b\", text))"
   ]
  },
  {
   "cell_type": "markdown",
   "id": "77eaf2a1-0bdb-4250-9fe0-5e84cedbf677",
   "metadata": {},
   "source": [
    "## 4) Date Matching(MM/DD/YYYY)\n",
    " <ul>\n",
    "  <li>pattern : r\"\\b\\d{2}/\\d{2}/\\d{4}\\b\"</li>\n",
    "  <li>Explanation : Matches dates in the format MM/DD/YYYY\".</li>\n",
    "  <li>\\b enforce a word boundaries.</li>\n",
    "  <li>\\d{2} matches two digits for month and day.</li>\n",
    "  <li>\\d{4} matches four digit for the year.</li>\n",
    "</ul> "
   ]
  },
  {
   "cell_type": "code",
   "execution_count": 200,
   "id": "e408af81-fc4c-4018-bd53-aa3dc7c6a123",
   "metadata": {},
   "outputs": [
    {
     "name": "stdout",
     "output_type": "stream",
     "text": [
      "['08/11/2024']\n"
     ]
    }
   ],
   "source": [
    "text=\"Today's date is 08/11/2024\"\n",
    "print(re.findall( r\"\\b\\d{2}/\\d{2}/\\d{4}\\b\", text))"
   ]
  },
  {
   "cell_type": "markdown",
   "id": "7bb8f25f-8eed-4bfc-977c-9e0381768ed7",
   "metadata": {},
   "source": [
    "## 5) Hex Color Code Matching\n",
    " <ul>\n",
    "  <li>pattern : r\"#(?:[A-Fa-f0-9]{3}){1,2}\\b\"</li>\n",
    "  <li>Explanation : Matches hex color codes like #FFF, #ffffff.</li>\n",
    "  <li>#matches the hash symbol.</li>\n",
    "  <li>(?:[A-Fa-f0-9]{3}){1,2} matches either 3 or 6 hexadecimal digits.</li>\n",
    "</ul> "
   ]
  },
  {
   "cell_type": "code",
   "execution_count": 210,
   "id": "d5a998ef-34e8-4359-be0b-957e51cf2cf4",
   "metadata": {},
   "outputs": [
    {
     "name": "stdout",
     "output_type": "stream",
     "text": [
      "['#FFF', '#125ABD', '#f2f2f2']\n"
     ]
    }
   ],
   "source": [
    "text=\"The color codes are #FFF, #125ABD, #f2f2f2 and #0000.\"\n",
    "print(re.findall(r\"#(?:[A-Fa-f0-9]{3}){1,2}\\b\", text))"
   ]
  },
  {
   "cell_type": "markdown",
   "id": "e600603c-1d9d-468d-9aa8-7393a33a887d",
   "metadata": {},
   "source": [
    "## 6) IP Address Matching\n",
    " <ul>\n",
    "  <li>pattern : r\"\\b\\d{1,3}.\\d{1,3}.\\d{1,3}.\\d{1,3}\\b\"</li>\n",
    "  <li>Explanation : Matches an IPv4 address.</li>\n",
    "  <li>\\d{1,3} matches 1 to 3 digits, separated by..</li>\n",
    "</ul> "
   ]
  },
  {
   "cell_type": "code",
   "execution_count": 219,
   "id": "e0aba0d2-f9b0-4ddf-abbb-5c2d394670b0",
   "metadata": {},
   "outputs": [
    {
     "name": "stdout",
     "output_type": "stream",
     "text": [
      "['563.456.8.6', '45.2.6.8']\n"
     ]
    }
   ],
   "source": [
    "text=\"ping a server at 563.456.8.6 or 45.2.6.8\"\n",
    "print(re.findall(r\"\\b\\d{1,3}.\\d{1,3}.\\d{1,3}.\\d{1,3}\\b\", text))"
   ]
  },
  {
   "cell_type": "markdown",
   "id": "1327d5d3-8c2e-494f-b10a-f407707e7892",
   "metadata": {},
   "source": [
    "## 7) Time matching(HH Format)\n",
    " <ul>\n",
    "  <li>pattern : r\"\\b\\d{1,2}:\\d{2}\\b\"</li>\n",
    "  <li>Explanation : Matches time in HH:MM format.</li>\n",
    "  <li>\\d{1,2} matches 1 to 2 digits for the hour.</li>\n",
    "  <li>\\d{2} matches 2 digits for the minutes.</li>\n",
    "</ul> "
   ]
  },
  {
   "cell_type": "code",
   "execution_count": 224,
   "id": "f7abd211-86fb-4397-98ef-a7091c022681",
   "metadata": {},
   "outputs": [
    {
     "name": "stdout",
     "output_type": "stream",
     "text": [
      "['09:45', '8:00']\n"
     ]
    }
   ],
   "source": [
    "text=\"The meeting is at 09:45, but you can come by 8:00\"\n",
    "print(re.findall(r\"\\b\\d{1,2}:\\d{2}\\b\", text))"
   ]
  },
  {
   "cell_type": "markdown",
   "id": "cd9b1fd5-9ace-4443-91c8-b29a06e88018",
   "metadata": {},
   "source": [
    "## 8) Hashtag Matching\n",
    " <ul>\n",
    "  <li>pattern : r\"#\\w+\"</li>\n",
    "  <li>Explanation : Matches words starting with #, like hashtags.</li>\n",
    "  <li>#matches the hashtag symbol.</li>\n",
    "  <li>\\w+ matches the word following it.</li>\n",
    "</ul> "
   ]
  },
  {
   "cell_type": "code",
   "execution_count": 229,
   "id": "9b0676e9-a032-46e4-8646-effed06d384f",
   "metadata": {},
   "outputs": [
    {
     "name": "stdout",
     "output_type": "stream",
     "text": [
      "['#Codebun', '#90DaysOfCode']\n"
     ]
    }
   ],
   "source": [
    "text=\"Check out #Codebun and #90DaysOfCode!\"\n",
    "print(re.findall( r\"#\\w+\", text))"
   ]
  },
  {
   "cell_type": "markdown",
   "id": "94161cf4-1a87-46e0-8f20-e28f9c011c6d",
   "metadata": {},
   "source": [
    "## 9) Alphanumeric Word Boundary\n",
    " <ul>\n",
    "  <li>pattern : r\"\\b\\w+\\b\"</li>\n",
    "  <li>Explanation : Matches whole words.</li>\n",
    "  <li>\\b at both ends ensures it's a full word.</li>\n",
    "  <li>\\w+ matches word charaters in between</li>\n",
    "</ul> "
   ]
  },
  {
   "cell_type": "code",
   "execution_count": 235,
   "id": "b48ea382-0241-40b9-ba93-09d489c019bd",
   "metadata": {},
   "outputs": [
    {
     "name": "stdout",
     "output_type": "stream",
     "text": [
      "['Hello', 'World', 'Welcome', 'to', 'the', 'World']\n"
     ]
    }
   ],
   "source": [
    "text=\"Hello World! Welcome to the World\"\n",
    "print(re.findall(r\"\\b\\w+\\b\", text))"
   ]
  },
  {
   "cell_type": "markdown",
   "id": "7c4edd0a-80bf-4967-b12c-503a0587e3c9",
   "metadata": {},
   "source": [
    "## 10) Capitalized Words\n",
    " <ul>\n",
    "  <li>pattern : r\"\\b[A-Z][a-z]*\\b\"</li>\n",
    "  <li>Explanation : Matches capitalized words, like names.</li>\n",
    "  <li>[A-Z] matches a capita letter.</li>\n",
    "  <li>[a-z]* matches zero or more lowercase letters.</li>\n",
    "</ul> "
   ]
  },
  {
   "cell_type": "code",
   "execution_count": 241,
   "id": "ffe28bad-d364-4155-a9f5-c618cd7ddbd5",
   "metadata": {},
   "outputs": [
    {
     "name": "stdout",
     "output_type": "stream",
     "text": [
      "['Gauri', 'Mayuri', 'Event', 'New', 'York']\n"
     ]
    }
   ],
   "source": [
    "text=\"Gauri and Mayuri are attending the Event in New York.\"\n",
    "print(re.findall(r\"\\b[A-Z][a-z]*\\b\", text))"
   ]
  }
 ],
 "metadata": {
  "kernelspec": {
   "display_name": "Python 3 (ipykernel)",
   "language": "python",
   "name": "python3"
  },
  "language_info": {
   "codemirror_mode": {
    "name": "ipython",
    "version": 3
   },
   "file_extension": ".py",
   "mimetype": "text/x-python",
   "name": "python",
   "nbconvert_exporter": "python",
   "pygments_lexer": "ipython3",
   "version": "3.12.4"
  }
 },
 "nbformat": 4,
 "nbformat_minor": 5
}
