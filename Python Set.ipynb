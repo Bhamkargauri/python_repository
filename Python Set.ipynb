{
 "cells": [
  {
   "cell_type": "markdown",
   "id": "b8008518-3a30-4ccb-9752-eba34285cebc",
   "metadata": {},
   "source": [
    "# Set\n",
    "\n",
    "sets are used to store multiple items in a single variable. A set is a collection which is unordered, unchangeable*, and unidexed."
   ]
  },
  {
   "cell_type": "markdown",
   "id": "453e0255-5abf-4190-b78c-e4a2f463761e",
   "metadata": {},
   "source": [
    "# Creating a Set\n",
    "\n",
    "Sets can be created by using the built-in set() function with an iterable object or a sequence by placing the sequence inside curly braces {}, separately by a 'comma'.\n",
    "\n",
    "Sets are written with curly brackets.\n"
   ]
  },
  {
   "cell_type": "code",
   "execution_count": 6,
   "id": "3c85d6cf-0674-4571-9dfa-d645588fad4a",
   "metadata": {},
   "outputs": [
    {
     "name": "stdout",
     "output_type": "stream",
     "text": [
      "[0, 1, 2, 3, 4] <class 'list'>\n",
      "(0, 1, 2, 3, 4) <class 'tuple'>\n",
      "{0, 1, 2, 3, 4} <class 'set'>\n"
     ]
    }
   ],
   "source": [
    "x=[0,1,2,3,4]\n",
    "print(x,end=\" \")\n",
    "print(type(x))\n",
    "y=(0,1,2,3,4)\n",
    "print(y,end=\" \")\n",
    "print(type(y))\n",
    "z={0,1,2,3,4}\n",
    "print(z,end=\" \")\n",
    "print(type(z))"
   ]
  },
  {
   "cell_type": "markdown",
   "id": "d55a00c8-cedc-47f9-9b2b-78b4a086b839",
   "metadata": {},
   "source": [
    "# Set Items\n",
    "\n",
    "Set items are unordered, unchangeable, and do not allow duplicate values."
   ]
  },
  {
   "cell_type": "markdown",
   "id": "6fa604b8-4cde-46df-8f0a-0bc4ce6f8ea1",
   "metadata": {},
   "source": [
    "# Unordered\n",
    "\n",
    "Unordered means that the item in a set do not have a defined order. set items can appear in a different order every time you use them, and cannot be referred to by index or key."
   ]
  },
  {
   "cell_type": "markdown",
   "id": "052081b4-6023-4b6a-910c-4e1647afe3f5",
   "metadata": {},
   "source": [
    "# Unchangeable\n",
    "\n",
    "Set items are unchangeable, meaning that we cannot change the items after the set has been created."
   ]
  },
  {
   "cell_type": "markdown",
   "id": "54e1fddb-5fdf-48b6-8d21-f147fda5693b",
   "metadata": {},
   "source": [
    "# Duplicate Not Allowed\n",
    "\n",
    "Sets cannot have two items with the same value."
   ]
  },
  {
   "cell_type": "code",
   "execution_count": 12,
   "id": "4d9f4ed1-f2a6-460f-a890-47567f38235a",
   "metadata": {},
   "outputs": [
    {
     "name": "stdout",
     "output_type": "stream",
     "text": [
      "{'ma', 'ga', 'sa', 're'}\n"
     ]
    }
   ],
   "source": [
    "# Duplicate values will be ignored\n",
    "thisset={'sa','re','ga','ma','sa'}\n",
    "print(thisset)"
   ]
  },
  {
   "cell_type": "markdown",
   "id": "01069423-8cfb-4d70-b8a2-74709a52b691",
   "metadata": {},
   "source": [
    "# Get the Length of a Set\n",
    "\n",
    "To determine how many items a set has, use the len() function."
   ]
  },
  {
   "cell_type": "code",
   "execution_count": 15,
   "id": "e811c0f6-4da9-410c-8f41-f444f160fe4a",
   "metadata": {},
   "outputs": [
    {
     "name": "stdout",
     "output_type": "stream",
     "text": [
      "4\n"
     ]
    }
   ],
   "source": [
    "thisset={'sa','re','ga','ma','sa'}\n",
    "print(len(thisset))"
   ]
  },
  {
   "cell_type": "markdown",
   "id": "f0968df2-347d-4c42-986a-2241d38a0811",
   "metadata": {},
   "source": [
    "# Set Items-Data Types\n",
    "\n",
    "Set items can be of any data type\n"
   ]
  },
  {
   "cell_type": "code",
   "execution_count": 18,
   "id": "89bdade9-223f-4fdf-b476-849eefae8337",
   "metadata": {},
   "outputs": [
    {
     "name": "stdout",
     "output_type": "stream",
     "text": [
      "{'a', 'c', 'b'}\n",
      "{1, 2, 3, 4, 5}\n",
      "{False, True}\n"
     ]
    }
   ],
   "source": [
    "# String, int, boolean data types\n",
    "set1={'a','b','c'}\n",
    "set2={1,2,3,4,5}\n",
    "set3={True,False,False}\n",
    "print(set1)\n",
    "print(set2)\n",
    "print(set3)"
   ]
  },
  {
   "cell_type": "code",
   "execution_count": 20,
   "id": "aa9790af-e965-48f9-a474-007dc622a553",
   "metadata": {},
   "outputs": [
    {
     "name": "stdout",
     "output_type": "stream",
     "text": [
      "{True, 1245, 'abs'}\n"
     ]
    }
   ],
   "source": [
    "# Set can contains different data types\n",
    "set1={'abs',1245,True}\n",
    "print(set1)"
   ]
  },
  {
   "cell_type": "markdown",
   "id": "56e73125-769a-4d80-800e-0d2fa3892f98",
   "metadata": {},
   "source": [
    "# set() Constructor\n",
    "\n",
    "It is possible to use the set() constructor to make a set."
   ]
  },
  {
   "cell_type": "code",
   "execution_count": 23,
   "id": "9460c725-e81f-449a-a059-ca39565d3f28",
   "metadata": {},
   "outputs": [
    {
     "name": "stdout",
     "output_type": "stream",
     "text": [
      "<class 'set'>\n",
      "{False, 'abc', 12}\n"
     ]
    }
   ],
   "source": [
    "# Using the set() constructor to make set\n",
    "thisset=set(('abc',12,False))\n",
    "print(type(thisset))\n",
    "print(thisset)"
   ]
  },
  {
   "cell_type": "markdown",
   "id": "c2004f53-87a2-423f-912c-af2946177fe0",
   "metadata": {},
   "source": [
    "# Access Set Item\n",
    "\n",
    "We cannot access items in a set by referring to an index or a key, but you can loop through the set items using a for loop, or ask if a specified value is present in a set, by using the keyword."
   ]
  },
  {
   "cell_type": "code",
   "execution_count": 26,
   "id": "fa138840-2601-48c6-8733-279b7e2d68ba",
   "metadata": {},
   "outputs": [
    {
     "name": "stdout",
     "output_type": "stream",
     "text": [
      "pink\n",
      "white\n",
      "red\n",
      "black\n"
     ]
    }
   ],
   "source": [
    "# Loop through the set, and print the values\n",
    "thisset={'red','black','white','pink'}\n",
    "for x in thisset:\n",
    "    print(x)"
   ]
  },
  {
   "cell_type": "code",
   "execution_count": 28,
   "id": "0e3d68d2-32ec-42f2-8092-5d079cc60cc6",
   "metadata": {},
   "outputs": [
    {
     "name": "stdout",
     "output_type": "stream",
     "text": [
      "Yes\n"
     ]
    }
   ],
   "source": [
    "thisset={'red','black','white','pink'}\n",
    "if \"pink\" in thisset:\n",
    "    print(\"Yes\")\n",
    "else:\n",
    "    print(\"No\")"
   ]
  },
  {
   "cell_type": "code",
   "execution_count": 30,
   "id": "01ba5385-2d7e-4a0b-b10a-2265062a5ed0",
   "metadata": {},
   "outputs": [
    {
     "name": "stdout",
     "output_type": "stream",
     "text": [
      "True\n"
     ]
    }
   ],
   "source": [
    "# check if \"white\" is present in the set\n",
    "thisset={'red','black','white','pink'}\n",
    "print('white' in thisset)"
   ]
  },
  {
   "cell_type": "markdown",
   "id": "4521039a-92f9-42e6-8afe-b19c9e2bd5d4",
   "metadata": {},
   "source": [
    "# Add Set Items\n",
    "\n",
    "Once a set is created, you cannot change its items, but you can add new items. by using add() method."
   ]
  },
  {
   "cell_type": "code",
   "execution_count": 33,
   "id": "305f4e00-5073-439a-95de-01da210994ae",
   "metadata": {},
   "outputs": [
    {
     "name": "stdout",
     "output_type": "stream",
     "text": [
      "{'white', 'pink', 'indigo', 'black', 'red'}\n"
     ]
    }
   ],
   "source": [
    "thisset={'red','black','white','pink'}\n",
    "thisset.add('indigo')\n",
    "print(thisset)"
   ]
  },
  {
   "cell_type": "markdown",
   "id": "14e24495-232e-4b06-8134-2f87d6e88d42",
   "metadata": {},
   "source": [
    "# Update Sets\n",
    "\n",
    "To add items from another set into the current set, use update() method."
   ]
  },
  {
   "cell_type": "code",
   "execution_count": 36,
   "id": "5b17f823-9630-4d0c-80c2-f11a038fe63f",
   "metadata": {},
   "outputs": [
    {
     "name": "stdout",
     "output_type": "stream",
     "text": [
      "{'pink', 'violet', 'blue', 'red', 'green'}\n",
      "{'red', 'blue', 'pink', 'violet', 'green'}\n"
     ]
    }
   ],
   "source": [
    "x={'pink','blue','green'}\n",
    "y={'red','pink','violet'}\n",
    "x.update(y)\n",
    "y.update(x)\n",
    "print(y)\n",
    "print(x)"
   ]
  },
  {
   "cell_type": "markdown",
   "id": "bf6f6b2f-a9e0-4cfc-865d-938e64539cdf",
   "metadata": {},
   "source": [
    "# Add any Iterable\n",
    "\n",
    "The object in the update() method does not have to be set, it can be any iterable object (lists, tuples, sets, dictionaries)"
   ]
  },
  {
   "cell_type": "code",
   "execution_count": 39,
   "id": "1c3c7288-7c66-4eb9-ac42-d80615803b91",
   "metadata": {},
   "outputs": [
    {
     "name": "stdout",
     "output_type": "stream",
     "text": [
      "{'pink', 'violet', 'indigo', 'blue', 'red', 'green', 'orange'}\n"
     ]
    }
   ],
   "source": [
    "my_set={'pink','blue','green'}\n",
    "my_list=['orange','red']\n",
    "my_tuple=('violet','indigo')\n",
    "\n",
    "my_set.update(my_list)\n",
    "my_set.update(my_tuple)\n",
    "print(my_set)"
   ]
  },
  {
   "cell_type": "markdown",
   "id": "a695f1a4-5a9a-4d2d-a3c5-c2c19f3889f5",
   "metadata": {},
   "source": [
    "# Remove Set Items\n",
    "\n",
    "To remove an item in a set, use the remove(), or discard() method."
   ]
  },
  {
   "cell_type": "code",
   "execution_count": 42,
   "id": "12a8e4b5-4a73-4ed2-a9a0-3740e6853920",
   "metadata": {},
   "outputs": [
    {
     "name": "stdout",
     "output_type": "stream",
     "text": [
      "{'white', 'red', 'black'}\n"
     ]
    }
   ],
   "source": [
    "thisset={'red','black','white','pink'}\n",
    "thisset.remove('pink') # using remove() method\n",
    "print(thisset)"
   ]
  },
  {
   "cell_type": "code",
   "execution_count": 44,
   "id": "acb7a081-b7e7-479d-aed9-2d19d0d11a97",
   "metadata": {},
   "outputs": [
    {
     "name": "stdout",
     "output_type": "stream",
     "text": [
      "{'pink', 'white', 'red'}\n"
     ]
    }
   ],
   "source": [
    "thisset={'red','black','white','pink'}\n",
    "thisset.discard('black') # using discard() method\n",
    "print(thisset)"
   ]
  },
  {
   "cell_type": "code",
   "execution_count": 46,
   "id": "e71fc1a1-7648-4b33-ad38-dad0b91af1c9",
   "metadata": {},
   "outputs": [
    {
     "name": "stdout",
     "output_type": "stream",
     "text": [
      "{'white', 'red', 'black'}\n"
     ]
    }
   ],
   "source": [
    "# remove random item by using pop() method\n",
    "thisset={'red','black','white','pink'}\n",
    "x=thisset.pop()\n",
    "#print(x)\n",
    "print(thisset)"
   ]
  },
  {
   "cell_type": "code",
   "execution_count": 48,
   "id": "af23879f-b4d8-4b8c-8c26-e8ee1778ecba",
   "metadata": {},
   "outputs": [
    {
     "name": "stdout",
     "output_type": "stream",
     "text": [
      "pink\n",
      "{'white', 'red', 'black'}\n"
     ]
    }
   ],
   "source": [
    "thisset={'red','black','white','pink'}\n",
    "x=thisset.pop()\n",
    "print(x)\n",
    "print(thisset)"
   ]
  },
  {
   "cell_type": "code",
   "execution_count": 50,
   "id": "763fdb5f-3811-442f-a0d8-05066c43fd41",
   "metadata": {},
   "outputs": [
    {
     "name": "stdout",
     "output_type": "stream",
     "text": [
      "cherry\n",
      "{'apple', 'banana'}\n"
     ]
    }
   ],
   "source": [
    "# return removed element\n",
    "fruits={'apple','banana','cherry'}\n",
    "x=fruits.pop()\n",
    "print(x)\n",
    "print(fruits)"
   ]
  },
  {
   "cell_type": "code",
   "execution_count": 52,
   "id": "ee7c90e4-1b78-4bb0-a3ad-9bac382cc296",
   "metadata": {},
   "outputs": [
    {
     "name": "stdout",
     "output_type": "stream",
     "text": [
      "set()\n"
     ]
    }
   ],
   "source": [
    "# clear() method empties the set\n",
    "thisset={'red','black','white','pink'}\n",
    "thisset.clear()\n",
    "print(thisset)"
   ]
  },
  {
   "cell_type": "markdown",
   "id": "0cca0a9e-b994-4e67-b7c2-1a7b9d613589",
   "metadata": {},
   "source": [
    "# Loop Sets\n",
    "\n",
    "we can print set items using 'for loop'"
   ]
  },
  {
   "cell_type": "code",
   "execution_count": 55,
   "id": "1346b84a-ad93-4c38-bf08-04ca4a5210bf",
   "metadata": {},
   "outputs": [
    {
     "name": "stdout",
     "output_type": "stream",
     "text": [
      "pink\n",
      "white\n",
      "red\n",
      "black\n"
     ]
    }
   ],
   "source": [
    "thisset={'red','black','white','pink'}\n",
    "for i in thisset:\n",
    "    print(i)"
   ]
  },
  {
   "cell_type": "markdown",
   "id": "4ed17ec5-b6a0-447b-9558-2771f9e00d70",
   "metadata": {},
   "source": [
    "# copy() Method"
   ]
  },
  {
   "cell_type": "code",
   "execution_count": 58,
   "id": "0e10bff7-f6b8-4693-a7dd-6dcedcb3088f",
   "metadata": {},
   "outputs": [
    {
     "name": "stdout",
     "output_type": "stream",
     "text": [
      "{'mango', 'pineapple', 'papaya'}\n"
     ]
    }
   ],
   "source": [
    "# copy fruits set\n",
    "fruits={'mango','papaya','pineapple'}\n",
    "x=fruits.copy()\n",
    "print(x)\n",
    "#print(fruits)"
   ]
  },
  {
   "cell_type": "code",
   "execution_count": 60,
   "id": "f85819c4-a0cd-43e3-a395-6cc002279ca0",
   "metadata": {},
   "outputs": [
    {
     "name": "stdout",
     "output_type": "stream",
     "text": [
      "Original Set:  {1, 2, 3, 4, 5, 6, 'Green'}\n",
      "  Copied Set:  {1, 2, 3, 4, 5, 6, 'Green'}\n"
     ]
    }
   ],
   "source": [
    "original_set={1,2,3,4,5,6,True,'Green'}\n",
    "copied_set=original_set.copy()\n",
    "print('Original Set: ',original_set)\n",
    "print('  Copied Set: ',copied_set)"
   ]
  },
  {
   "cell_type": "markdown",
   "id": "0fa6c083-273a-41fa-b8ca-3c9c6e0fd205",
   "metadata": {},
   "source": [
    "# Set difference() Method\n",
    "\n",
    "The difference() method returns a set that contains the difference between two sets.(The returned set contains items that exist only in the first set, and not in both sets)"
   ]
  },
  {
   "cell_type": "code",
   "execution_count": 63,
   "id": "aadd99f5-caaa-4ba1-bf41-578d075c8b0e",
   "metadata": {},
   "outputs": [
    {
     "name": "stdout",
     "output_type": "stream",
     "text": [
      "{1, 2, 3}\n"
     ]
    }
   ],
   "source": [
    "set1={1,2,3,4,5}\n",
    "set2={4,5,6,7}\n",
    "z=set1.difference(set2)\n",
    "print(z)"
   ]
  },
  {
   "cell_type": "code",
   "execution_count": 65,
   "id": "83edbc33-2148-486d-8228-c7d8eec747fa",
   "metadata": {},
   "outputs": [
    {
     "name": "stdout",
     "output_type": "stream",
     "text": [
      "{'white'}\n"
     ]
    }
   ],
   "source": [
    "# return set that contains items that only exist in set1 and not in set2\n",
    "set1={'grey','white',120}\n",
    "set2={'golden','grey',120}\n",
    "z=set1.difference(set2)\n",
    "print(z)"
   ]
  },
  {
   "cell_type": "markdown",
   "id": "5485552a-7161-4151-8b89-ce713b3f81a6",
   "metadata": {},
   "source": [
    "The difference() method in python is used to find the difference between two or more sets. It returns a new set containing elements that are in the first set but not in any of the other sets provided."
   ]
  },
  {
   "cell_type": "code",
   "execution_count": 68,
   "id": "d9c32cd6-5ffc-447c-bec3-6d5bffdc8a95",
   "metadata": {},
   "outputs": [
    {
     "name": "stdout",
     "output_type": "stream",
     "text": [
      "{1, 2, 3}\n"
     ]
    }
   ],
   "source": [
    "set1={1,2,3,4,5}\n",
    "set2={4,5,6,7}\n",
    "set3={7,8,9}\n",
    "diff1=set1.difference(set2,set3)\n",
    "#diff2=set1.difference(set2)\n",
    "#diff3=set2.difference(set1)\n",
    "\n",
    "print(diff1)\n",
    "#print(diff3)"
   ]
  },
  {
   "cell_type": "code",
   "execution_count": 70,
   "id": "66276351-6eae-4855-ae7e-bdc6fab91b88",
   "metadata": {},
   "outputs": [
    {
     "name": "stdout",
     "output_type": "stream",
     "text": [
      "{'google', 'microsoft'}\n"
     ]
    }
   ],
   "source": [
    "# items that only exist in set y not in set x\n",
    "x={'apple','banana','cherry'}\n",
    "y={'google','microsoft','apple'}\n",
    "z=y.difference(x)\n",
    "print(z)"
   ]
  },
  {
   "cell_type": "markdown",
   "id": "a1027443-7f05-44bd-9403-4d5cfcca4cff",
   "metadata": {},
   "source": [
    "# Set difference_update() Method\n",
    "\n",
    "difference_update() Method removes the items that exist in both sets."
   ]
  },
  {
   "cell_type": "code",
   "execution_count": 73,
   "id": "9599b1c2-36c1-4492-8ff2-fac4ccb13ed1",
   "metadata": {},
   "outputs": [
    {
     "name": "stdout",
     "output_type": "stream",
     "text": [
      "None\n"
     ]
    }
   ],
   "source": [
    "# The difference_update() method doesn't return a new set, it returns None.\n",
    "# s will be none, and the content of y will be updated in place.\n",
    "x={'a','b','c'}\n",
    "y={'x','y','a'}\n",
    "s=y.difference_update(x)\n",
    "print(s)"
   ]
  },
  {
   "cell_type": "code",
   "execution_count": 75,
   "id": "7f203da4-a6ac-45f1-854b-b0aeae2d4533",
   "metadata": {},
   "outputs": [
    {
     "name": "stdout",
     "output_type": "stream",
     "text": [
      "{'y', 'x'}\n"
     ]
    }
   ],
   "source": [
    "x={'a','b','c'}\n",
    "y={'x','y','a'}\n",
    "y.difference_update(x)\n",
    "print(y)"
   ]
  },
  {
   "cell_type": "markdown",
   "id": "804630b9-31c0-4248-b360-c736740ee7e9",
   "metadata": {},
   "source": [
    "# Join Two Sets\n",
    "\n",
    "There are several ways to join two or more sets in python.\n",
    "\n",
    "we can use union() method that returns a new set containing all items from both sets, or the update() method that insert all the items from one set into another."
   ]
  },
  {
   "cell_type": "markdown",
   "id": "ec168081-9d3c-4a59-8270-a00d59e22fa9",
   "metadata": {},
   "source": [
    "# Set union() and update() Method\n",
    "\n",
    "union means take all elements without reapeating"
   ]
  },
  {
   "cell_type": "code",
   "execution_count": 79,
   "id": "3226d87f-642b-4844-87fa-8775d1ceac6b",
   "metadata": {},
   "outputs": [
    {
     "name": "stdout",
     "output_type": "stream",
     "text": [
      "{'a', 1, 2, 3, 'c', 'b'}\n"
     ]
    }
   ],
   "source": [
    "# The union() method returns a new set with all items from both sets\n",
    "set1={'a','b','c'}\n",
    "set2={1,2,3}\n",
    "set3=set1.union(set2)\n",
    "print(set3)"
   ]
  },
  {
   "cell_type": "code",
   "execution_count": 81,
   "id": "7f6b911e-671a-4f5d-a2b0-71c12be038ca",
   "metadata": {},
   "outputs": [
    {
     "name": "stdout",
     "output_type": "stream",
     "text": [
      "{'a', 1, 2, 3, 'c', 4, 'b'}\n"
     ]
    }
   ],
   "source": [
    "# The update() method insert the items in set1 from set2\n",
    "set1={'a','b','c'}\n",
    "set2={1,2,3,4}\n",
    "set1.update(set2)\n",
    "print(set1)"
   ]
  },
  {
   "cell_type": "code",
   "execution_count": 83,
   "id": "9df4349a-4d3d-4852-a4f5-38aec9c37ab4",
   "metadata": {},
   "outputs": [
    {
     "name": "stdout",
     "output_type": "stream",
     "text": [
      "{1, 2, 3, 4, 5}\n"
     ]
    }
   ],
   "source": [
    "#Return total items without duplicate\n",
    "set_A={1,2,3}\n",
    "set_B={3,4,5}\n",
    "c=set_A.union(set_B)\n",
    "print(c)"
   ]
  },
  {
   "cell_type": "code",
   "execution_count": 85,
   "id": "16052768-de55-43ea-93f6-076ef44864e2",
   "metadata": {},
   "outputs": [
    {
     "name": "stdout",
     "output_type": "stream",
     "text": [
      "{'AAAAA', 'AAA', 'AAAA', 'AA', 'A'}\n"
     ]
    }
   ],
   "source": [
    "A={'A','AA','AAA'}\n",
    "B={'AA','AAAA','AAAAA'}\n",
    "C=A.union(B)\n",
    "print(C)"
   ]
  },
  {
   "cell_type": "code",
   "execution_count": 87,
   "id": "4285a8e3-5e53-409f-9ccf-cd71498312fb",
   "metadata": {},
   "outputs": [
    {
     "name": "stdout",
     "output_type": "stream",
     "text": [
      "{1, 2, 3, 4, 5, 6, 7}\n"
     ]
    }
   ],
   "source": [
    "# union of more than 2 sets\n",
    "A={1,2,3,4}\n",
    "B={4,5}\n",
    "C={5,6,7}\n",
    "result=A.union(B,C)\n",
    "print(result)"
   ]
  },
  {
   "cell_type": "code",
   "execution_count": 89,
   "id": "c6ee4bc9-36b0-4dd5-b59c-3baa10a365d9",
   "metadata": {},
   "outputs": [
    {
     "name": "stdout",
     "output_type": "stream",
     "text": [
      "{'B', 'G', 'H', 'C', 'E', 'D', 'F', 'A'}\n"
     ]
    }
   ],
   "source": [
    "set1={'A','B','C','D','E'}\n",
    "set2={'E'}\n",
    "set3={'F','G','H'}\n",
    "final_set=set1.union(set2,set3)\n",
    "print(final_set)"
   ]
  },
  {
   "cell_type": "markdown",
   "id": "75470ba3-3a0a-4a08-b18d-0d5445dc6ffd",
   "metadata": {},
   "source": [
    "# Intersection\n",
    "\n",
    "it uses intersection() returns a new set containing only elements found in both sets(common elements)."
   ]
  },
  {
   "cell_type": "code",
   "execution_count": 92,
   "id": "18d47576-c3cd-4141-83a6-1661610081b7",
   "metadata": {},
   "outputs": [
    {
     "name": "stdout",
     "output_type": "stream",
     "text": [
      "{3, 4}\n"
     ]
    }
   ],
   "source": [
    "A={1,2,3,4}\n",
    "B={3,4,5,6}\n",
    "X=A.intersection(B)\n",
    "print(X)"
   ]
  },
  {
   "cell_type": "code",
   "execution_count": 94,
   "id": "9d59986d-1290-40de-8530-1d10a6def97d",
   "metadata": {},
   "outputs": [
    {
     "name": "stdout",
     "output_type": "stream",
     "text": [
      "{'grey'}\n"
     ]
    }
   ],
   "source": [
    "set1={'pink','grey','black'}\n",
    "set2={'grey','red','silver'}\n",
    "\n",
    "A=set1.intersection(set2)\n",
    "print(A)"
   ]
  },
  {
   "cell_type": "markdown",
   "id": "1476e1c1-23d7-4c0b-8f93-08d957c8b9af",
   "metadata": {},
   "source": [
    "# issubset()\n",
    "\n",
    "returns True if the set is subset of another set, meaning all elements of the set are in the other set."
   ]
  },
  {
   "cell_type": "code",
   "execution_count": 97,
   "id": "a677fdfc-62bc-4e9c-ae05-69a9aa39b3ce",
   "metadata": {},
   "outputs": [
    {
     "name": "stdout",
     "output_type": "stream",
     "text": [
      "True\n",
      "False\n"
     ]
    }
   ],
   "source": [
    "set1={1,2,3,4}\n",
    "set2={1,2,3,4,5}\n",
    "print(set1.issubset(set2))\n",
    "print(set2.issubset(set1))"
   ]
  },
  {
   "cell_type": "code",
   "execution_count": 99,
   "id": "77c43af4-0c5a-4603-9adb-6f2b2f27e56d",
   "metadata": {},
   "outputs": [
    {
     "name": "stdout",
     "output_type": "stream",
     "text": [
      "True\n"
     ]
    }
   ],
   "source": [
    "set1={10,20,30,40}\n",
    "set2={10,20}\n",
    "print(set2.issubset(set1))"
   ]
  },
  {
   "cell_type": "markdown",
   "id": "ed20ad10-4ea3-43b9-b225-652397069f6b",
   "metadata": {},
   "source": [
    "# issuperset()\n",
    "\n",
    "returns true if the set is a superset of another set, meaning it contains all element of the other set."
   ]
  },
  {
   "cell_type": "code",
   "execution_count": 102,
   "id": "9051043b-3b03-47ce-9fd2-f96a5d0bfa6f",
   "metadata": {},
   "outputs": [
    {
     "name": "stdout",
     "output_type": "stream",
     "text": [
      "False\n",
      "True\n"
     ]
    }
   ],
   "source": [
    "set1={1,2,3,4}\n",
    "set2={1,2,3,4,5}\n",
    "print(set1.issuperset(set2))\n",
    "print(set2.issuperset(set1))"
   ]
  },
  {
   "cell_type": "code",
   "execution_count": 104,
   "id": "a90b995b-16d6-4bf0-a32b-c0e62504cd01",
   "metadata": {},
   "outputs": [
    {
     "name": "stdout",
     "output_type": "stream",
     "text": [
      "False\n"
     ]
    }
   ],
   "source": [
    "set1={10,20,30,40}\n",
    "set2={10,20}\n",
    "print(set2.issuperset(set1))"
   ]
  },
  {
   "cell_type": "markdown",
   "id": "2ffc1019-8d2c-4eee-95d1-4e2b5b1982cf",
   "metadata": {},
   "source": [
    "# isdisjoint()\n",
    "\n",
    "returns true if the sets have no elements in common."
   ]
  },
  {
   "cell_type": "code",
   "execution_count": 107,
   "id": "44a48341-87e5-4f98-abe2-e505b316064b",
   "metadata": {},
   "outputs": [
    {
     "name": "stdout",
     "output_type": "stream",
     "text": [
      "True\n"
     ]
    }
   ],
   "source": [
    "set1={10,20,30,40}\n",
    "set2={90,60}\n",
    "x=set1.isdisjoint(set2)\n",
    "print(x)\n",
    "#print(set1.isdisjoint(set2))"
   ]
  },
  {
   "cell_type": "code",
   "execution_count": 109,
   "id": "8e3e5fff-ee97-4283-99dd-b2e4bc8a98ad",
   "metadata": {},
   "outputs": [
    {
     "name": "stdout",
     "output_type": "stream",
     "text": [
      "False\n"
     ]
    }
   ],
   "source": [
    "set1={'A','X','Y','Z'}\n",
    "set2={'P','Q','Z'}\n",
    "X=set1.isdisjoint(set2)\n",
    "print(X)"
   ]
  }
 ],
 "metadata": {
  "kernelspec": {
   "display_name": "Python 3 (ipykernel)",
   "language": "python",
   "name": "python3"
  },
  "language_info": {
   "codemirror_mode": {
    "name": "ipython",
    "version": 3
   },
   "file_extension": ".py",
   "mimetype": "text/x-python",
   "name": "python",
   "nbconvert_exporter": "python",
   "pygments_lexer": "ipython3",
   "version": "3.12.4"
  }
 },
 "nbformat": 4,
 "nbformat_minor": 5
}
