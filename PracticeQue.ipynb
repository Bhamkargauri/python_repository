{
 "cells": [
  {
   "cell_type": "markdown",
   "id": "8b35dd0b-6752-4b79-b6ed-acc5b835bf17",
   "metadata": {},
   "source": [
    "# Python Program to check whether number is even or odd"
   ]
  },
  {
   "cell_type": "code",
   "execution_count": 3,
   "id": "3caf5faa-b7ea-4562-8de4-3fb9fc28f74d",
   "metadata": {},
   "outputs": [
    {
     "name": "stdin",
     "output_type": "stream",
     "text": [
      "Enter a number:  6\n"
     ]
    },
    {
     "name": "stdout",
     "output_type": "stream",
     "text": [
      "number is even\n"
     ]
    }
   ],
   "source": [
    "no=int(input(\"Enter a number: \"))\n",
    "if no%2==0:\n",
    "    print(\"number is even\")\n",
    "else:\n",
    "    print(\"number is odd\")"
   ]
  },
  {
   "cell_type": "markdown",
   "id": "9082d8eb-9714-4927-9507-473b691f5d11",
   "metadata": {},
   "source": [
    "# Python Program to calculate factorial of given number using recursion"
   ]
  },
  {
   "cell_type": "code",
   "execution_count": 9,
   "id": "462c97ec-a6aa-4bc3-8c1e-87b4c575fa09",
   "metadata": {},
   "outputs": [
    {
     "name": "stdin",
     "output_type": "stream",
     "text": [
      "Enter Number:  6\n"
     ]
    },
    {
     "name": "stdout",
     "output_type": "stream",
     "text": [
      "The Factorial of 6 is 720\n"
     ]
    }
   ],
   "source": [
    "def factorial(n):\n",
    "    if n==0 or n==1:\n",
    "        return 1\n",
    "    else:\n",
    "        return n*factorial(n-1)\n",
    "no=int(input(\"Enter Number: \"))\n",
    "print(f\"The Factorial of {no} is {factorial(no)}\")"
   ]
  },
  {
   "cell_type": "code",
   "execution_count": 3,
   "id": "734579e8-e4d4-421e-bb55-001687d7969d",
   "metadata": {},
   "outputs": [
    {
     "name": "stdin",
     "output_type": "stream",
     "text": [
      "Enter a number:  5\n"
     ]
    },
    {
     "name": "stdout",
     "output_type": "stream",
     "text": [
      "Factorial of 5 is 120\n"
     ]
    }
   ],
   "source": [
    "num= int(input(\"Enter a number: \"))\n",
    "factorial=1\n",
    "for i in range(1, num+1):\n",
    "    factorial *=i\n",
    "print(f\"Factorial of {num} is {factorial}\")"
   ]
  },
  {
   "cell_type": "markdown",
   "id": "f152d19f-f8f4-4b84-9aed-7ddde9ff09c0",
   "metadata": {},
   "source": [
    "# Python program to reverse a string without slicing\n"
   ]
  },
  {
   "cell_type": "markdown",
   "id": "1600433a-5495-46ca-b0f2-b2f8c0d1c108",
   "metadata": {},
   "source": [
    "string=input(\"Enter a string: \")\n",
    "reverse=\"\"\n",
    "for char in string:\n",
    "    reverse=char+reverse\n",
    "print(\"Reverse String: \",reverse)"
   ]
  },
  {
   "cell_type": "markdown",
   "id": "6f2dfb55-9704-40d4-88fc-a6402d651ee8",
   "metadata": {},
   "source": [
    "# Python program to count the frequency of each character in a string\n"
   ]
  },
  {
   "cell_type": "code",
   "execution_count": 21,
   "id": "2098f56f-399e-430c-91d8-72cab5d692ef",
   "metadata": {},
   "outputs": [
    {
     "name": "stdin",
     "output_type": "stream",
     "text": [
      "Enter a string:  bghfeeed\n"
     ]
    },
    {
     "name": "stdout",
     "output_type": "stream",
     "text": [
      "Character Frequencies:  {'b': 1, 'g': 1, 'h': 1, 'f': 1, 'e': 3, 'd': 1}\n"
     ]
    }
   ],
   "source": [
    "string=input(\"Enter a string: \")\n",
    "frequency={}\n",
    "for char in string:\n",
    "    if char in frequency:\n",
    "        frequency[char]+=1\n",
    "    else:\n",
    "        frequency[char]=1\n",
    "print(\"Character Frequencies: \",frequency)"
   ]
  },
  {
   "cell_type": "markdown",
   "id": "fa65d775-f02b-4ca2-8a54-c272d45fd64d",
   "metadata": {},
   "source": [
    "# Python program to check if a given string is a palindrome "
   ]
  },
  {
   "cell_type": "code",
   "execution_count": 26,
   "id": "57d793fe-8b00-4d44-b7f7-42dea2e23536",
   "metadata": {},
   "outputs": [
    {
     "name": "stdin",
     "output_type": "stream",
     "text": [
      "Enter a string:  ABCBA\n"
     ]
    },
    {
     "name": "stdout",
     "output_type": "stream",
     "text": [
      "The string is palindrome\n"
     ]
    }
   ],
   "source": [
    "string=input(\"Enter a string: \")\n",
    "if string==string[::-1]:\n",
    "    print(\"The string is palindrome\")\n",
    "else:\n",
    "    print(\"The string is not a palindrome\")"
   ]
  },
  {
   "cell_type": "markdown",
   "id": "b8c993d7-f222-4e14-92f9-7a75bc2af9e1",
   "metadata": {},
   "source": [
    "# Python program to replace all occurrence of a substring in a string"
   ]
  },
  {
   "cell_type": "code",
   "execution_count": null,
   "id": "ef74f696-7a0a-45c8-ad2d-a72bc0c581ca",
   "metadata": {},
   "outputs": [],
   "source": [
    "string1=input(\"Enter the string: \")\n",
    "old_string=input(\"Enter the old string: \")\n",
    "new_string=input(\"Enter the new string: \")\n",
    "result=string1.replace(old_string,new_string)\n",
    "print(\"The result string is: \",result)"
   ]
  },
  {
   "cell_type": "markdown",
   "id": "9d0104ce-656b-4c2e-abc7-ad255e3e9ef5",
   "metadata": {},
   "source": [
    "# Python program to round a float to 2 decimal places.\n"
   ]
  },
  {
   "cell_type": "code",
   "execution_count": 37,
   "id": "5b136346-5b71-46bf-a366-48d26f25e573",
   "metadata": {},
   "outputs": [
    {
     "name": "stdin",
     "output_type": "stream",
     "text": [
      "Enter a number:  56.234789\n"
     ]
    },
    {
     "name": "stdout",
     "output_type": "stream",
     "text": [
      "The round number is:  56.23\n"
     ]
    }
   ],
   "source": [
    "num=float(input(\"Enter a number: \"))\n",
    "a=round(num,2)\n",
    "print(\"The round number is: \",a)"
   ]
  },
  {
   "cell_type": "markdown",
   "id": "a0807a47-db75-41a8-9096-268b148eafcc",
   "metadata": {},
   "source": [
    "# Python program to convert float number to string and vice versa"
   ]
  },
  {
   "cell_type": "code",
   "execution_count": 42,
   "id": "df5938e3-2c49-49e5-a57c-182d81508f95",
   "metadata": {},
   "outputs": [
    {
     "name": "stdout",
     "output_type": "stream",
     "text": [
      "Float to string 5.894\n",
      "string to float 58.465\n"
     ]
    }
   ],
   "source": [
    "float_no=5.894\n",
    "float_to_string=str(float_no)\n",
    "print(\"Float to string\",float_to_string)\n",
    "\n",
    "string_no=\"58.465\"\n",
    "str_to_float=float(string_no)\n",
    "print(\"string to float\",str_to_float)"
   ]
  },
  {
   "cell_type": "markdown",
   "id": "fa8b1929-a280-4ccc-a8a6-ab37c2d85739",
   "metadata": {},
   "source": [
    "# Python program to perform basic arithematic operations(addition, substraction, multiplication, division) on floating point number"
   ]
  },
  {
   "cell_type": "code",
   "execution_count": 45,
   "id": "27a5ab13-4bc7-4763-bdf7-0de1d7f19540",
   "metadata": {},
   "outputs": [
    {
     "name": "stdin",
     "output_type": "stream",
     "text": [
      "Enter num1:  25.55\n",
      "Enter num2:  5.63\n"
     ]
    },
    {
     "name": "stdout",
     "output_type": "stream",
     "text": [
      "Addition:  31.18\n",
      "Substraction:  19.92\n",
      "Multiplication:  143.8465\n",
      "Division:  4.538188277087034\n"
     ]
    }
   ],
   "source": [
    "num1=float(input(\"Enter num1: \"))\n",
    "num2=float(input(\"Enter num2: \"))\n",
    "\n",
    "a=num1+num2\n",
    "print(\"Addition: \",a)\n",
    "b=num1-num2\n",
    "print(\"Substraction: \",b)\n",
    "c=num1*num2\n",
    "print(\"Multiplication: \",c)\n",
    "d=num1/num2\n",
    "print(\"Division: \",d)"
   ]
  },
  {
   "cell_type": "markdown",
   "id": "05eb2349-05cf-4d8f-8de4-21d95da09fe2",
   "metadata": {},
   "source": [
    "# Python program to add two complex number\n"
   ]
  },
  {
   "cell_type": "code",
   "execution_count": 50,
   "id": "7bc2d3f9-5ff3-411e-9544-527c3421c011",
   "metadata": {},
   "outputs": [
    {
     "name": "stdin",
     "output_type": "stream",
     "text": [
      "Enter first no.:  5+j\n",
      "Enter second no.:  4+8j\n"
     ]
    },
    {
     "name": "stdout",
     "output_type": "stream",
     "text": [
      "(9+9j)\n"
     ]
    }
   ],
   "source": [
    "num1=complex(input(\"Enter first no.: \"))\n",
    "num2=complex(input(\"Enter second no.: \"))\n",
    "sum=num1+num2\n",
    "print(sum)"
   ]
  },
  {
   "cell_type": "markdown",
   "id": "4bfe55f9-3861-4aa7-a1f8-99ef1e0a4992",
   "metadata": {},
   "source": [
    "# Python program to find magnitude of a complex number\n"
   ]
  },
  {
   "cell_type": "code",
   "execution_count": 59,
   "id": "da667f37-dea7-4260-adea-d3da4ee08852",
   "metadata": {},
   "outputs": [
    {
     "name": "stdin",
     "output_type": "stream",
     "text": [
      "Enter a complex no.:  4+j\n"
     ]
    },
    {
     "name": "stdout",
     "output_type": "stream",
     "text": [
      "The magnitude is:  4.123105625617661\n"
     ]
    }
   ],
   "source": [
    "num=complex(input(\"Enter a complex no.: \"))\n",
    "magnitude=abs(num)\n",
    "print(\"The magnitude is: \",magnitude)"
   ]
  },
  {
   "cell_type": "markdown",
   "id": "368e8eb1-4a3b-46d7-b2c1-ed851e883b52",
   "metadata": {},
   "source": [
    "# Python program to multiply two complex number"
   ]
  },
  {
   "cell_type": "code",
   "execution_count": 88,
   "id": "f2cf4d86-1b67-4d71-b12b-ebc9fd4cf5cf",
   "metadata": {},
   "outputs": [
    {
     "name": "stdin",
     "output_type": "stream",
     "text": [
      "Enter num1:  4+5j\n",
      "Enter num2:  5+8j\n"
     ]
    },
    {
     "name": "stdout",
     "output_type": "stream",
     "text": [
      "(-20+57j)\n"
     ]
    }
   ],
   "source": [
    "num1=complex(input(\"Enter num1: \"))\n",
    "num2=complex(input(\"Enter num2: \"))\n",
    "multiply=num1*num2\n",
    "print(multiply)"
   ]
  },
  {
   "cell_type": "markdown",
   "id": "2f450f18-bdb5-49de-829f-43318abcdb76",
   "metadata": {},
   "source": [
    "# Python program to find sum of all elements in a list\n"
   ]
  },
  {
   "cell_type": "code",
   "execution_count": null,
   "id": "708bd058-316e-4f5c-95a0-341876cc8fdc",
   "metadata": {},
   "outputs": [],
   "source": [
    "numbers=[1, 2, 3, 4, 5, 6]\n",
    "total=sum(numbers)\n",
    "print(total)"
   ]
  },
  {
   "cell_type": "markdown",
   "id": "c35aed6e-1445-4304-97e8-c45638dc19a4",
   "metadata": {},
   "source": [
    "# Python program remove duplicates from list"
   ]
  },
  {
   "cell_type": "code",
   "execution_count": 105,
   "id": "437ebd26-2f1d-43f0-8957-e230f390dab1",
   "metadata": {},
   "outputs": [
    {
     "name": "stdout",
     "output_type": "stream",
     "text": [
      "New List is:  {8, 1, 5, 6}\n"
     ]
    }
   ],
   "source": [
    "old_list=[1, 5, 6, 8, 1, 6, 5]\n",
    "new_list=set(old_list)\n",
    "print(\"New List is: \", new_list)"
   ]
  },
  {
   "cell_type": "markdown",
   "id": "a7e06525-a7d8-448c-9439-86361aa92776",
   "metadata": {},
   "source": [
    "# Python program to merge two lists and remove duplicates"
   ]
  },
  {
   "cell_type": "code",
   "execution_count": 111,
   "id": "56f9f2dd-e1f7-4547-b037-221377e60c6a",
   "metadata": {},
   "outputs": [
    {
     "name": "stdout",
     "output_type": "stream",
     "text": [
      "Merge list with removing duplicates is:  {1, 2, 3, 4, 5, 6, 7, 8}\n"
     ]
    }
   ],
   "source": [
    "list1=[1, 2, 3, 4, 5, 6]\n",
    "list2=[4, 5, 6, 7, 8]\n",
    "merge_list=list1+list2\n",
    "new_list=set(merge_list)\n",
    "print(\"Merge list with removing duplicates is: \",new_list)"
   ]
  },
  {
   "cell_type": "markdown",
   "id": "6749b77c-ed93-4874-bf6f-ae4147d3c0da",
   "metadata": {},
   "source": [
    "# Python program to find index of an element in a tuple\n"
   ]
  },
  {
   "cell_type": "code",
   "execution_count": 120,
   "id": "d760755d-e464-44f9-b660-dbaef47528d8",
   "metadata": {},
   "outputs": [
    {
     "name": "stdin",
     "output_type": "stream",
     "text": [
      "Enter element to find:  50\n"
     ]
    },
    {
     "name": "stdout",
     "output_type": "stream",
     "text": [
      "The Index is:  1\n"
     ]
    }
   ],
   "source": [
    "tuple=(10, 50, 80, 90)\n",
    "element=int(input(\"Enter element to find: \"))\n",
    "index=tuple.index(element)\n",
    "print(\"The Index is: \",index)"
   ]
  },
  {
   "cell_type": "markdown",
   "id": "bb3c2841-bdc0-4d56-a6ff-27faae666ea0",
   "metadata": {},
   "source": [
    "# Python program to convert tuple into list and vice versa"
   ]
  },
  {
   "cell_type": "code",
   "execution_count": null,
   "id": "40bb7511-cb26-4234-a2a3-49d922a289c1",
   "metadata": {},
   "outputs": [],
   "source": [
    "tuple=(4, 5, 6, 7, 6)\n",
    "tuple_to_list=list(tuple)\n",
    "print(\"Tuple converted into list: \",tuple_to_list)\n",
    "\n",
    "list=[10, 5, 6, 6, 5, 1, 10]\n",
    "list_to_tuple=tuple(list)\n",
    "print(\"List is converted into tuple: \",list_to_tuple)"
   ]
  },
  {
   "cell_type": "markdown",
   "id": "e531b090-5bc3-4c92-bf76-d498cbbde1ee",
   "metadata": {},
   "source": [
    "# Python program to check if a given element is present in tuple "
   ]
  },
  {
   "cell_type": "code",
   "execution_count": 132,
   "id": "22913b56-a002-455d-bd0c-e126479002aa",
   "metadata": {},
   "outputs": [
    {
     "name": "stdin",
     "output_type": "stream",
     "text": [
      "Enter an element:  50\n"
     ]
    },
    {
     "name": "stdout",
     "output_type": "stream",
     "text": [
      "Element is present.\n"
     ]
    }
   ],
   "source": [
    "tuple=(50, 60, 70, 80, 90)\n",
    "element=int(input(\"Enter an element: \"))\n",
    "if element in tuple:\n",
    "    print(\"Element is present.\")\n",
    "else:\n",
    "    print(\"Element is not present.\")"
   ]
  },
  {
   "cell_type": "markdown",
   "id": "078ca735-b275-4e00-9345-6353025dd842",
   "metadata": {},
   "source": [
    "# Python program to count the occurrence of an element in a tuple"
   ]
  },
  {
   "cell_type": "code",
   "execution_count": 137,
   "id": "d510a6ed-b78c-488f-ad79-f8d7f4043963",
   "metadata": {},
   "outputs": [
    {
     "name": "stdin",
     "output_type": "stream",
     "text": [
      "Enter Element:  60\n"
     ]
    },
    {
     "name": "stdout",
     "output_type": "stream",
     "text": [
      "3\n"
     ]
    }
   ],
   "source": [
    "tuple=(50, 60, 70, 80, 90, 60, 60)\n",
    "element=int(input(\"Enter Element: \"))\n",
    "count= tuple.count(element)\n",
    "print(count)"
   ]
  },
  {
   "cell_type": "markdown",
   "id": "0877430b-c531-49f1-b403-44f6e2082c13",
   "metadata": {},
   "source": [
    "# Python program to concatenate multiple tuples"
   ]
  },
  {
   "cell_type": "code",
   "execution_count": 140,
   "id": "1a7f1b79-119b-4b43-8f7d-a007c8c33d79",
   "metadata": {},
   "outputs": [
    {
     "name": "stdout",
     "output_type": "stream",
     "text": [
      "The Concatenated tuples are:  (1, 2, 3, 4, 4, 4, 5, 6, 3, 8, 5, 6, 8, 5, 3)\n"
     ]
    }
   ],
   "source": [
    "tuple1=(1,2,3,4,4,4)\n",
    "tuple2=(5,6,3,8,5)\n",
    "tuple3=(6,8,5,3)\n",
    "result=tuple1+tuple2+tuple3\n",
    "print(\"The Concatenated tuples are: \",result)"
   ]
  },
  {
   "cell_type": "markdown",
   "id": "79bcc75b-b03e-4927-9002-87c1fc1be24e",
   "metadata": {},
   "source": [
    "# Python program to find union and intersection of two sets"
   ]
  },
  {
   "cell_type": "code",
   "execution_count": 143,
   "id": "887d35f4-7a8b-4062-9fc0-cb4b722ef592",
   "metadata": {},
   "outputs": [
    {
     "name": "stdout",
     "output_type": "stream",
     "text": [
      "The union of set is:  {1, 2, 3, 4, 5, 6, 7, 8, 9, 10}\n",
      "The union of set is:  {6}\n"
     ]
    }
   ],
   "source": [
    "set1={6,7,8,9,10}\n",
    "set2={1,2,3,4,5,6}\n",
    "result1=set1.union(set2)\n",
    "print(\"The union of set is: \",result1)\n",
    "\n",
    "result2=set1.intersection(set2)\n",
    "print(\"The union of set is: \",result2)"
   ]
  },
  {
   "cell_type": "markdown",
   "id": "29d00315-f359-463e-a25f-80d0cc56a8ff",
   "metadata": {},
   "source": [
    "# Python program to check set is subset of another set"
   ]
  },
  {
   "cell_type": "code",
   "execution_count": 148,
   "id": "d9a61227-501a-446d-8aae-a7a775450d18",
   "metadata": {},
   "outputs": [
    {
     "name": "stdout",
     "output_type": "stream",
     "text": [
      "set1 is subset of set2.\n"
     ]
    }
   ],
   "source": [
    "set1={5,6,7}\n",
    "set2={3,4,5,6,7,8}\n",
    "result=set1.issubset(set2)\n",
    "if result:\n",
    "    print(\"set1 is subset of set2.\")\n",
    "else:\n",
    "    print(\"set1 is not subset of set2.\")"
   ]
  },
  {
   "cell_type": "markdown",
   "id": "7d5b1933-3e43-495a-baf9-769ff0411ccb",
   "metadata": {},
   "source": [
    "# Python program to remove an element from a set if it exists"
   ]
  },
  {
   "cell_type": "code",
   "execution_count": 169,
   "id": "9ae69856-70bd-4277-bb0c-318ad132c8da",
   "metadata": {},
   "outputs": [
    {
     "name": "stdin",
     "output_type": "stream",
     "text": [
      "Enter an element to remove:  10\n"
     ]
    },
    {
     "name": "stdout",
     "output_type": "stream",
     "text": [
      "element remove {65, 1, 2, 4, 6, 8, 15}\n"
     ]
    }
   ],
   "source": [
    "set={1,2,6,8,6,8,10,15,4,65}\n",
    "element=int(input(\"Enter an element to remove: \"))\n",
    "if element in set:\n",
    "    set.remove(element)\n",
    "    print(\"element remove\", set)\n",
    "else:\n",
    "    print(\"element not found\",set)"
   ]
  },
  {
   "cell_type": "markdown",
   "id": "ff5d03de-d8d1-4b21-b810-8eae8f636b16",
   "metadata": {},
   "source": [
    "# Python program to find difference between two sets"
   ]
  },
  {
   "cell_type": "code",
   "execution_count": null,
   "id": "81a464ee-1d40-420a-9021-3c8de3889f7f",
   "metadata": {},
   "outputs": [],
   "source": [
    "set1={1,2,3,4,5,6,7,8,9}\n",
    "set2={4,5,6,7,5,7,3}\n",
    "difference=set1.difference(set2)\n",
    "print(\"The difference between set1 and set2 are: \",difference)"
   ]
  },
  {
   "cell_type": "markdown",
   "id": "0a157a13-b5db-4552-a714-6ae833fe21a8",
   "metadata": {},
   "source": [
    "# Python program to find the sum of all values in a dictionary"
   ]
  },
  {
   "cell_type": "code",
   "execution_count": null,
   "id": "9764d6e7-9da1-4f0b-b0c8-4820283b3a2e",
   "metadata": {},
   "outputs": [],
   "source": [
    "dictionary={'x':20,'y':30,'z':40}\n",
    "result= sum(dictionary.values())\n",
    "print(\"The Sum of all values in dictionary is: \",result)\""
   ]
  },
  {
   "cell_type": "markdown",
   "id": "65c0ae4a-f8ad-401d-b14f-04b1b59ee8a6",
   "metadata": {},
   "source": [
    "# Python program to merge two dictionary into one"
   ]
  },
  {
   "cell_type": "code",
   "execution_count": 251,
   "id": "a9727386-261c-46c9-9566-2a96d78d2c0c",
   "metadata": {},
   "outputs": [
    {
     "name": "stdout",
     "output_type": "stream",
     "text": [
      "{'a': 1, 'b': 2, 'c': 3, 'd': 4, 'e': 5, 'f': 6}\n"
     ]
    }
   ],
   "source": [
    "dict1={'a':1, 'b':2, 'c':3}\n",
    "dict2={'d':4, 'e':5, 'f':6}\n",
    "merge=dict1.copy()\n",
    "merge.update(dict2)\n",
    "print(merge)"
   ]
  },
  {
   "cell_type": "markdown",
   "id": "65b46d73-0340-48d5-bfc5-47e039b482aa",
   "metadata": {},
   "source": [
    "# Python program to get all keys from a dictionary"
   ]
  },
  {
   "cell_type": "code",
   "execution_count": 256,
   "id": "b89b316d-493e-48d4-b1a6-23fc111a7bb2",
   "metadata": {},
   "outputs": [
    {
     "name": "stdout",
     "output_type": "stream",
     "text": [
      "dict_keys(['A', 'B', 'C'])\n"
     ]
    }
   ],
   "source": [
    "dict1={'A':\"Gautami\",'B':\"Ragini\", 'C':\"Swara\"}\n",
    "x=dict1.keys()\n",
    "print(x)"
   ]
  },
  {
   "cell_type": "code",
   "execution_count": 1,
   "id": "1a5acfe1-96b0-460a-8104-9c2807a9eb85",
   "metadata": {},
   "outputs": [
    {
     "name": "stdin",
     "output_type": "stream",
     "text": [
      "Enter a password (press Enter to stop):  Gauribhamk\n"
     ]
    },
    {
     "name": "stdout",
     "output_type": "stream",
     "text": [
      "Password must contain at least one number.\n"
     ]
    },
    {
     "name": "stdin",
     "output_type": "stream",
     "text": [
      "Enter a password (press Enter to stop):  Gauribham1\n"
     ]
    },
    {
     "name": "stdout",
     "output_type": "stream",
     "text": [
      "Password must contain at least one special character ($, _, %).\n"
     ]
    },
    {
     "name": "stdin",
     "output_type": "stream",
     "text": [
      "Enter a password (press Enter to stop):  Gauribha%1\n"
     ]
    },
    {
     "name": "stdout",
     "output_type": "stream",
     "text": [
      "Password is valid!\n"
     ]
    }
   ],
   "source": [
    "allowed_special_characters = {'$', '_', '%'}\n",
    "\n",
    "while True:\n",
    "    password = input(\"Enter a password: \")\n",
    "    \n",
    "    if password == \"\":\n",
    "        break\n",
    "\n",
    "    if len(password) < 9:\n",
    "        print(\"Password must be at least 9 characters long.\")\n",
    "        continue\n",
    "\n",
    "    has_upper = False\n",
    "    has_lower = False\n",
    "    has_digit = False\n",
    "    has_special = False\n",
    "\n",
    "    for char in password:\n",
    "        if char.isupper():\n",
    "            has_upper = True\n",
    "        if char.islower():\n",
    "            has_lower = True\n",
    "        if char.isdigit():\n",
    "            has_digit = True\n",
    "        if char in allowed_special_characters:\n",
    "            has_special = True\n",
    " \n",
    "    if not has_upper:\n",
    "        print(\"Password must contain at least one uppercase letter.\")\n",
    "        continue\n",
    "    if not has_lower:\n",
    "        print(\"Password must contain at least one lowercase letter.\")\n",
    "        continue\n",
    "    if not has_digit:\n",
    "        print(\"Password must contain at least one number.\")\n",
    "        continue\n",
    "    if not has_special:\n",
    "        print(\"Password must contain at least one special character ($, _, %).\")\n",
    "        continue\n",
    "\n",
    "    print(\"Password is valid!\")\n",
    "    break\n"
   ]
  },
  {
   "cell_type": "code",
   "execution_count": null,
   "id": "97860cb3-278f-4083-9b2c-db4bbf73cbe1",
   "metadata": {},
   "outputs": [],
   "source": []
  }
 ],
 "metadata": {
  "kernelspec": {
   "display_name": "Python 3 (ipykernel)",
   "language": "python",
   "name": "python3"
  },
  "language_info": {
   "codemirror_mode": {
    "name": "ipython",
    "version": 3
   },
   "file_extension": ".py",
   "mimetype": "text/x-python",
   "name": "python",
   "nbconvert_exporter": "python",
   "pygments_lexer": "ipython3",
   "version": "3.12.4"
  }
 },
 "nbformat": 4,
 "nbformat_minor": 5
}
