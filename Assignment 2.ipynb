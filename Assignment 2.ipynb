{
 "cells": [
  {
   "cell_type": "markdown",
   "id": "bff5c8cf-276a-42fd-8884-7c67ef7bf637",
   "metadata": {},
   "source": [
    "Q.1 An anagram is a word or phrase formed by rearranging the letters of a different words or phrase, typically using all the original letters exactly once\n",
    " ex: input['eat','tea','tan','ate','nat','bat']\n",
    "output[['eat','ate','tea'],['tan','nat'],['bat']]"
   ]
  },
  {
   "cell_type": "code",
   "execution_count": 2,
   "id": "79e91419-9a9e-4a41-8be5-720a856d24d4",
   "metadata": {},
   "outputs": [
    {
     "name": "stdout",
     "output_type": "stream",
     "text": [
      "[['eat', 'tea', 'ate'], ['tan', 'nat'], ['bat']]\n"
     ]
    }
   ],
   "source": [
    "def group_of_anagrams(word_list):\n",
    "    anagram_groups = {}\n",
    "    \n",
    "    for word in word_list:\n",
    "        sorted_letters = ''.join(sorted(word))  \n",
    "        if sorted_letters in anagram_groups:\n",
    "            anagram_groups[sorted_letters].append(word)  \n",
    "        else:\n",
    "            anagram_groups[sorted_letters] = [word]  \n",
    "\n",
    "    return list(anagram_groups.values())  \n",
    "\n",
    "input_words = ['eat', 'tea', 'tan', 'ate', 'nat', 'bat']\n",
    "output_words=group_of_anagrams(input_words)\n",
    "print(output_words)"
   ]
  },
  {
   "cell_type": "markdown",
   "id": "9c68222d-7f0c-4ea2-adf9-ff0aad0196dd",
   "metadata": {},
   "source": [
    "Q.2 Write an algorithm to traverse a binary tree in 3 different ways. inorder,preorder, postorder traversing\n",
    "##### Example binary tree with 4 layers:\n",
    "#####             1\n",
    "#####         /       \\\n",
    "#####        2         3\n",
    "#####     /    \\      / \\\n",
    "#####    4     5     6   7\n",
    "#####   / \\   / \\\n",
    "#####  8   9 10 11 \n"
   ]
  },
  {
   "cell_type": "code",
   "execution_count": 9,
   "id": "2da082ab-6822-485f-b9d0-0795682ab6d8",
   "metadata": {},
   "outputs": [
    {
     "name": "stdout",
     "output_type": "stream",
     "text": [
      "Inorder: 8 4 9 2 5 1 10 6 3 11 7 \n",
      "Preorder: 1 2 4 8 9 5 3 6 10 7 11 \n",
      "Postorder: 8 9 4 5 2 10 6 11 7 3 1 "
     ]
    }
   ],
   "source": [
    "class Node:\n",
    "    def __init__(self, value):\n",
    "        self.value = value\n",
    "        self.left = None\n",
    "        self.right = None\n",
    "\n",
    "def inorder(root):\n",
    "    if root:\n",
    "        inorder(root.left)\n",
    "        print(root.value, end=' ')\n",
    "        inorder(root.right)\n",
    "\n",
    "def preorder(root):\n",
    "    if root:\n",
    "        print(root.value, end=' ')\n",
    "        preorder(root.left)\n",
    "        preorder(root.right)\n",
    "\n",
    "def postorder(root):\n",
    "    if root:\n",
    "        postorder(root.left)\n",
    "        postorder(root.right)\n",
    "        print(root.value, end=' ')\n",
    "\n",
    "root = Node(1)\n",
    "root.left = Node(2)\n",
    "root.right = Node(3)\n",
    "\n",
    "root.left.left = Node(4)\n",
    "root.left.right = Node(5)\n",
    "root.right.left = Node(6)\n",
    "root.right.right = Node(7)\n",
    "\n",
    "root.left.left.left = Node(8)\n",
    "root.left.left.right = Node(9)\n",
    "root.right.left.left= Node(10)\n",
    "root.right.right.left=Node(11)\n",
    "\n",
    "print(\"Inorder: \", end='')\n",
    "inorder(root)  \n",
    "print(\"\\nPreorder: \", end='')\n",
    "preorder(root)  \n",
    "print(\"\\nPostorder: \", end='')\n",
    "postorder(root)  \n"
   ]
  },
  {
   "cell_type": "markdown",
   "id": "9b3c8ff3-43c5-4987-8280-b6476dd8ce0e",
   "metadata": {},
   "source": [
    "Q.3 Write a program for bubble sort using python for the list a=[12,5,7,18,11,6,12,4,17,1]"
   ]
  },
  {
   "cell_type": "code",
   "execution_count": 12,
   "id": "b8e11e3a-b4be-488d-bfb4-2c6ea957de09",
   "metadata": {},
   "outputs": [
    {
     "name": "stdout",
     "output_type": "stream",
     "text": [
      "List after Sorting:  [1, 4, 5, 6, 7, 11, 12, 12, 17, 18]\n"
     ]
    }
   ],
   "source": [
    "def bubble_sort(a):\n",
    "    n = len(a)\n",
    "    for i in range(n):\n",
    "        swapped = False  \n",
    "        for j in range(0, n-i-1):\n",
    "            if a[j] > a[j+1]:\n",
    "                a[j], a[j+1] = a[j+1], a[j]\n",
    "                swapped = True\n",
    "        if not swapped:\n",
    "            break\n",
    "list = [12, 5, 7, 18, 11, 6, 12, 4, 17, 1]\n",
    "bubble_sort(list)\n",
    "\n",
    "print(\"List after Sorting: \", list)"
   ]
  },
  {
   "cell_type": "markdown",
   "id": "0b73eaae-356a-4920-bd90-0b14b09c3bbe",
   "metadata": {},
   "source": [
    "Q.4 Write a program for linear search using python test data:[11,23,58,56,77,43,12,65,19] "
   ]
  },
  {
   "cell_type": "code",
   "execution_count": 15,
   "id": "069a28b0-dee2-4c91-8e8a-f7ce684a95c4",
   "metadata": {},
   "outputs": [
    {
     "name": "stdout",
     "output_type": "stream",
     "text": [
      "(True, 3)\n"
     ]
    }
   ],
   "source": [
    "def linear_search(data, target):\n",
    "    index = 0  \n",
    "    while index < len(data):\n",
    "        if data[index] == target:\n",
    "            return True, index  \n",
    "        index += 1  \n",
    "    return False, -1  \n",
    "\n",
    "data_list = [11,23,58,31,56,77,43,12,65,19]\n",
    "target = 31\n",
    "result = linear_search(data_list, target)\n",
    "print(result)"
   ]
  }
 ],
 "metadata": {
  "kernelspec": {
   "display_name": "Python 3 (ipykernel)",
   "language": "python",
   "name": "python3"
  },
  "language_info": {
   "codemirror_mode": {
    "name": "ipython",
    "version": 3
   },
   "file_extension": ".py",
   "mimetype": "text/x-python",
   "name": "python",
   "nbconvert_exporter": "python",
   "pygments_lexer": "ipython3",
   "version": "3.12.4"
  }
 },
 "nbformat": 4,
 "nbformat_minor": 5
}
