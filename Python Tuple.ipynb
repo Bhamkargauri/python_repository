{
 "cells": [
  {
   "cell_type": "markdown",
   "id": "469afc16-fe94-4ecb-8fc7-70885d3b31a8",
   "metadata": {},
   "source": [
    "# Tuples(immutable)\n",
    "tuple is collection of python object much like a list. The sequence of values stored in a tuple can be any type, and there indexed by integers.\n",
    "Tuples are used to store multiple items in single variable.\n",
    "A tuple is a collection which is ordered and unchangeable.\n",
    "Tuples are written with round brackets ().\n",
    "# Tuple Items\n",
    "Tuple items are ordered, unchangeable, and allow duplicates values. \n",
    "# Ordered\n",
    "Tuple are ordered, it have defined order and that order will not change.\n",
    "# Unchangeable\n",
    "Tuples are un changeable we cannot change, add or remove items after tuple has been created.\n",
    "# Allow Duplicates\n",
    "tuple have indexed they can have items with same values."
   ]
  },
  {
   "cell_type": "markdown",
   "id": "d0bbfdb9-30b0-4f79-a4d3-05616b25502d",
   "metadata": {},
   "source": [
    "tuple=('a','b','c','a')\n",
    "print(tuple)"
   ]
  },
  {
   "cell_type": "markdown",
   "id": "1a97fedc-1bd8-4d3d-8e81-34814dcef149",
   "metadata": {},
   "source": [
    "# Tuple Length\n",
    "\n",
    "To determine how many items a tuple has len() function."
   ]
  },
  {
   "cell_type": "code",
   "execution_count": 4,
   "id": "48a18011-c6ae-4dab-93df-9c95c864e247",
   "metadata": {},
   "outputs": [
    {
     "name": "stdout",
     "output_type": "stream",
     "text": [
      "6\n"
     ]
    }
   ],
   "source": [
    "x=('asd','asd','wer','tyu','yui',8)\n",
    "print(len(x))"
   ]
  },
  {
   "cell_type": "markdown",
   "id": "2a90f9f5-3854-4b25-8f66-3d9eaaf14af4",
   "metadata": {},
   "source": [
    "# Tuple Items-Data Types\n",
    "\n",
    "Tuple items can be any data type"
   ]
  },
  {
   "cell_type": "code",
   "execution_count": 7,
   "id": "703392e5-d2f7-49a4-9d44-3dd0a20c9bbe",
   "metadata": {},
   "outputs": [
    {
     "name": "stdout",
     "output_type": "stream",
     "text": [
      "('a', 'b', 'c')\n",
      "(1, 5, 3, 6)\n",
      "(True, False, True)\n"
     ]
    }
   ],
   "source": [
    "t1=('a','b','c')\n",
    "t2=(1,5,3,6)\n",
    "t3=(True,False,True)\n",
    "print(t1)\n",
    "print(t2)\n",
    "print(t3)"
   ]
  },
  {
   "cell_type": "markdown",
   "id": "0d0881ee-8ad0-456f-9130-2e7c824c0f46",
   "metadata": {},
   "source": [
    "# Tuple Constructor [tuple()]"
   ]
  },
  {
   "cell_type": "code",
   "execution_count": 10,
   "id": "020e00a4-d7e0-42d9-a680-d3b28153dd51",
   "metadata": {},
   "outputs": [
    {
     "name": "stdout",
     "output_type": "stream",
     "text": [
      "('p', 's', 'd', 't')\n",
      "<class 'tuple'>\n"
     ]
    }
   ],
   "source": [
    "thistuple= tuple(('p','s','d','t'))\n",
    "print(thistuple)\n",
    "print(type(thistuple))"
   ]
  },
  {
   "cell_type": "markdown",
   "id": "edf14d3b-8b68-492d-95cd-e5eec4fbe3af",
   "metadata": {},
   "source": [
    "# Check if item Exists\n",
    "\n",
    "To determine \"if\" a specified item is present in a tuple use \"in\" keyword"
   ]
  },
  {
   "cell_type": "code",
   "execution_count": 13,
   "id": "34edd44a-9ce0-4491-b941-d5534664461c",
   "metadata": {},
   "outputs": [
    {
     "name": "stdout",
     "output_type": "stream",
     "text": [
      "Yes!, 'paas' is in tuple\n"
     ]
    }
   ],
   "source": [
    "thistuple= tuple(('paas','saas','iaas'))\n",
    "if 'paas' in thistuple:\n",
    "    print(\"Yes!, 'paas' is in tuple\")\n",
    "else:\n",
    "    print(\"not exist\")"
   ]
  },
  {
   "cell_type": "markdown",
   "id": "f974d134-09a8-4306-b84f-e0b7c707871a",
   "metadata": {},
   "source": [
    "# Update Tuples\n",
    "\n",
    "1) Tuple are unchangeable, meaning that you cannot change, add, or remove items once yhe tuple is created."
   ]
  },
  {
   "cell_type": "markdown",
   "id": "3d9bdc34-7759-4cd0-9c00-02f6c7a52d8a",
   "metadata": {},
   "source": [
    " 2) Once a tuple is created, we cannot change it's values. Tuples are unchangeable, or immutable it also is called."
   ]
  },
  {
   "cell_type": "code",
   "execution_count": 19,
   "id": "1fe61ec4-466d-4086-b25a-6ba878bf07de",
   "metadata": {},
   "outputs": [
    {
     "name": "stdout",
     "output_type": "stream",
     "text": [
      "['paas', 'saas', 'iaas']\n",
      "('kiwi', 'saas', 'iaas')\n"
     ]
    }
   ],
   "source": [
    "# convert tuple into list then we can able to do changes\n",
    "x=('paas','saas','iaas')\n",
    "y=list(x)\n",
    "print(y)\n",
    "y[0]='kiwi'\n",
    "x=tuple(y)\n",
    "print(x)"
   ]
  },
  {
   "cell_type": "code",
   "execution_count": 21,
   "id": "574da60f-99f4-4432-9498-ee3f1d7e5d4e",
   "metadata": {},
   "outputs": [
    {
     "name": "stdout",
     "output_type": "stream",
     "text": [
      "[1, 2, 3, 4, 5]\n",
      "(1, 2, 3, 1000, 5)\n"
     ]
    }
   ],
   "source": [
    "t=(1,2,3,4,5)\n",
    "x=list(t)\n",
    "print(x)\n",
    "x[3]=1000\n",
    "x=tuple(x)\n",
    "print(x)"
   ]
  },
  {
   "cell_type": "markdown",
   "id": "27404a87-24f5-438d-890c-78ee271fe00b",
   "metadata": {},
   "source": [
    "# Add, Remove Items\n",
    "\n",
    "firstly we have convert it into list then we can add or remove items in tuple."
   ]
  },
  {
   "cell_type": "code",
   "execution_count": 24,
   "id": "c060f214-be72-40ac-8d1c-72f7a3004ea8",
   "metadata": {},
   "outputs": [
    {
     "name": "stdout",
     "output_type": "stream",
     "text": [
      "['aam', 'jaam', 'kaam']\n",
      "('aam', 'jaam', 'kaam', 'saam')\n"
     ]
    }
   ],
   "source": [
    "#add item in tuple\n",
    "x=('aam','jaam','kaam')\n",
    "y=list(x)\n",
    "print(y)\n",
    "y.append('saam')\n",
    "x=tuple(y)\n",
    "print(x)"
   ]
  },
  {
   "cell_type": "code",
   "execution_count": 26,
   "id": "533a4bfe-89d3-40c8-be8f-5f990c68fcaa",
   "metadata": {},
   "outputs": [
    {
     "name": "stdout",
     "output_type": "stream",
     "text": [
      "['paroo', 'sani', 'dhani']\n",
      "('paroo', 'sani', 'dhani', 'sonu')\n"
     ]
    }
   ],
   "source": [
    "thistuple=('paroo','sani','dhani')\n",
    "y=list(thistuple)\n",
    "print(y)\n",
    "y.append('sonu')\n",
    "thistuple=tuple(y)\n",
    "print(thistuple)"
   ]
  },
  {
   "cell_type": "code",
   "execution_count": 30,
   "id": "a2c65395-ac56-4e78-8a19-9820100b5539",
   "metadata": {},
   "outputs": [
    {
     "name": "stdout",
     "output_type": "stream",
     "text": [
      "['paroo', 'sani', 'dhani']\n",
      "('sani', 'dhani')\n"
     ]
    }
   ],
   "source": [
    "# remove item in tuple\n",
    "thistuple=('paroo','sani','dhani')\n",
    "y=list(thistuple)\n",
    "print(y)\n",
    "y.remove('paroo')\n",
    "thistuple=tuple(y)\n",
    "print(thistuple)"
   ]
  },
  {
   "cell_type": "code",
   "execution_count": 32,
   "id": "a4880a6d-1c2c-4bd6-bef6-abac651da646",
   "metadata": {},
   "outputs": [
    {
     "name": "stdout",
     "output_type": "stream",
     "text": [
      "[1, 2, 3, 4, 5, 6, 7, 8, 9]\n",
      "(1, 2, 3, 4, 5, 6, 7, 9)\n"
     ]
    }
   ],
   "source": [
    "x=(1,2,3,4,5,6,7,8,9)\n",
    "y=list(x)\n",
    "print(y)\n",
    "y.remove(8)\n",
    "x=tuple(y)\n",
    "print(x)"
   ]
  },
  {
   "cell_type": "markdown",
   "id": "a4801bd7-f66e-477b-b5fd-1325d4f2e517",
   "metadata": {},
   "source": [
    "# Unpack Tuples\n",
    "\n",
    "when we create a tuple, we normally assign values to it. This is called \"packing\" a tuple."
   ]
  },
  {
   "cell_type": "code",
   "execution_count": 35,
   "id": "3c63a1b5-dc91-4dab-91f5-445e585b739d",
   "metadata": {},
   "outputs": [
    {
     "name": "stdout",
     "output_type": "stream",
     "text": [
      "('shravani', 'ram', 'ball')\n"
     ]
    }
   ],
   "source": [
    "#packing a tuple\n",
    "x=('shravani','ram','ball')\n",
    "print(x)"
   ]
  },
  {
   "cell_type": "code",
   "execution_count": 37,
   "id": "bcb1d551-5219-45a3-bdda-5271bfceb2a3",
   "metadata": {},
   "outputs": [
    {
     "name": "stdout",
     "output_type": "stream",
     "text": [
      "grapes guava banana apple\n"
     ]
    }
   ],
   "source": [
    "# In python, we are also allowed to extract the values back into variables. this is called \"unpacking\".\n",
    "fruits=('apple','banana','grapes','guava')\n",
    "(red,yellow,voilet,green)=fruits\n",
    "print(voilet,end=\" \")\n",
    "print(green,end=\" \")\n",
    "print(yellow,end=\" \")\n",
    "print(red)"
   ]
  },
  {
   "cell_type": "code",
   "execution_count": 39,
   "id": "9c796681-299d-4a68-9b80-51ea0c16df75",
   "metadata": {},
   "outputs": [
    {
     "name": "stdout",
     "output_type": "stream",
     "text": [
      "2x+3\n",
      "2-3\n",
      "4*5\n"
     ]
    }
   ],
   "source": [
    "x=('2x+3','2-3','4*5')\n",
    "(add,sub,mul)=x\n",
    "print(add)\n",
    "print(sub)\n",
    "print(mul)"
   ]
  },
  {
   "cell_type": "markdown",
   "id": "98afcf74-2ac6-4f6c-aa2d-f6eac73c1545",
   "metadata": {},
   "source": [
    "# Tuple loop\n",
    "\n",
    "we can iterate tuple items using loop."
   ]
  },
  {
   "cell_type": "code",
   "execution_count": 42,
   "id": "e7468c0a-0782-4318-bd17-c22c1c9d0848",
   "metadata": {},
   "outputs": [
    {
     "name": "stdout",
     "output_type": "stream",
     "text": [
      "apple\n",
      "banana\n",
      "grapes\n",
      "guava\n"
     ]
    }
   ],
   "source": [
    "fruits=('apple','banana','grapes','guava')\n",
    "for x in fruits:\n",
    "    print(x)"
   ]
  },
  {
   "cell_type": "markdown",
   "id": "fc6f200f-3443-4e98-99c0-a7037ca11a11",
   "metadata": {},
   "source": [
    "# Loop through the index Numbers\n",
    "\n",
    "you can also loop through the tuple items by referring to their index number. use the range() and len() function to create a suitable iterable."
   ]
  },
  {
   "cell_type": "code",
   "execution_count": 45,
   "id": "2c0d3adc-c6e9-4067-8e81-a6f6f0da995a",
   "metadata": {},
   "outputs": [
    {
     "name": "stdout",
     "output_type": "stream",
     "text": [
      "0 1 2 3 4 5 "
     ]
    }
   ],
   "source": [
    "for i in range(6):\n",
    "    print(i,end=\" \")"
   ]
  },
  {
   "cell_type": "code",
   "execution_count": 47,
   "id": "87aa9812-5ea9-40f3-b4eb-e5b90fc30dac",
   "metadata": {},
   "outputs": [
    {
     "name": "stdout",
     "output_type": "stream",
     "text": [
      "18\n",
      "1 2 3 4 5 6 7 8 9 1 2 3 4 5 6 7 8 9 "
     ]
    }
   ],
   "source": [
    "x=(1,2,3,4,5,6,7,8,9,1,2,3,4,5,6,7,8,9)\n",
    "print(len(x))\n",
    "for i in x:\n",
    "    print(i,end=\" \")"
   ]
  },
  {
   "cell_type": "markdown",
   "id": "a3a9aca8-2237-48bf-8870-8590ba8bf29d",
   "metadata": {},
   "source": [
    "# Join Tuples\n",
    "\n",
    "to join two tuples we can use \"+\" operator."
   ]
  },
  {
   "cell_type": "code",
   "execution_count": 50,
   "id": "44cf6e70-79fa-4d9e-a49b-6272bc868b09",
   "metadata": {},
   "outputs": [
    {
     "name": "stdout",
     "output_type": "stream",
     "text": [
      "(1, 2, 3, 4, 5, 5, 6, 7)\n",
      "(1, 2, 3, 4, 5, 5, 6, 7)\n"
     ]
    }
   ],
   "source": [
    "tuple1=(1,2,3,4)\n",
    "tuple2=(5,5,6,7)\n",
    "x=tuple1+tuple2\n",
    "print(x)\n",
    "print(tuple1+tuple2)"
   ]
  },
  {
   "cell_type": "markdown",
   "id": "dd25584c-535d-4a8e-b21e-5743f5bac366",
   "metadata": {},
   "source": [
    "# Multiply Tuples\n",
    "\n",
    "if we want to multiply content of tuple a given number of times, we can use the * operator."
   ]
  },
  {
   "cell_type": "code",
   "execution_count": 53,
   "id": "77f0b612-ff18-4061-bffc-c28ae5267102",
   "metadata": {},
   "outputs": [
    {
     "name": "stdout",
     "output_type": "stream",
     "text": [
      "(1, 2, 3, 4, 1, 2, 3, 4, 1, 2, 3, 4, 1, 2, 3, 4, 1, 2, 3, 4, 1, 2, 3, 4, 1, 2, 3, 4, 1, 2, 3, 4, 1, 2, 3, 4)\n"
     ]
    }
   ],
   "source": [
    "tuple1=(1,2,3,4)\n",
    "#x=tuple1*2\n",
    "x=tuple1*9\n",
    "print(x)"
   ]
  },
  {
   "cell_type": "code",
   "execution_count": 55,
   "id": "54fa0919-e6f7-4f2f-94ce-2112aa0535bb",
   "metadata": {},
   "outputs": [
    {
     "name": "stdout",
     "output_type": "stream",
     "text": [
      "('sa', 're', 'ga', 'ma', 'pa', 'sa', 're', 'ga', 'ma', 'pa', 'sa', 're', 'ga', 'ma', 'pa', 'sa', 're', 'ga', 'ma', 'pa')\n"
     ]
    }
   ],
   "source": [
    "x=('sa','re','ga','ma','pa')\n",
    "y=x * 4\n",
    "print(y)"
   ]
  },
  {
   "cell_type": "markdown",
   "id": "4587cc1c-2dbf-42f3-9309-1069b0b6f915",
   "metadata": {},
   "source": [
    "# Tuple Methods\n",
    "\n",
    "tuple has two built-in methods 1) count() 2) index()"
   ]
  },
  {
   "cell_type": "markdown",
   "id": "741be958-3021-43cb-8227-a41b4d9cd0bf",
   "metadata": {},
   "source": [
    "# 1) count()"
   ]
  },
  {
   "cell_type": "code",
   "execution_count": 60,
   "id": "a05dd0d9-5f62-4dbc-837a-3550c06a4906",
   "metadata": {},
   "outputs": [
    {
     "name": "stdout",
     "output_type": "stream",
     "text": [
      "3\n"
     ]
    }
   ],
   "source": [
    "#count() method returns number of times the value appears in tuple\n",
    "x=(1,2,2,2,3,4,5)\n",
    "y=x.count(2)\n",
    "print(y)"
   ]
  },
  {
   "cell_type": "code",
   "execution_count": 62,
   "id": "3b215871-01ec-47ea-8aed-ecf7389054a0",
   "metadata": {},
   "outputs": [
    {
     "name": "stdout",
     "output_type": "stream",
     "text": [
      "2\n"
     ]
    }
   ],
   "source": [
    "x=('sa','re','ga','ma','pa','sa')\n",
    "y=x.count('sa')\n",
    "print(y)"
   ]
  },
  {
   "cell_type": "markdown",
   "id": "dc0dda5f-b7f5-4c4e-b634-b5a44b36a610",
   "metadata": {},
   "source": [
    "# 2) index()"
   ]
  },
  {
   "cell_type": "code",
   "execution_count": 65,
   "id": "a5b1ea9c-c6f5-4f50-8846-258820982999",
   "metadata": {},
   "outputs": [
    {
     "name": "stdout",
     "output_type": "stream",
     "text": [
      "6\n"
     ]
    }
   ],
   "source": [
    "#searches tuple for specified value and returns the position of where search for the first occurence of the value and return position\n",
    "x=(1,2,2,2,3,4,5)\n",
    "y=x.index(5)\n",
    "print(y)"
   ]
  },
  {
   "cell_type": "code",
   "execution_count": 67,
   "id": "634d7f4e-7ed6-4b68-ba4b-857c5e084053",
   "metadata": {},
   "outputs": [
    {
     "name": "stdout",
     "output_type": "stream",
     "text": [
      "0\n"
     ]
    }
   ],
   "source": [
    "x=('sa','re','ga','ma','pa','sa')\n",
    "y=x.index('sa')\n",
    "print(y)"
   ]
  },
  {
   "cell_type": "markdown",
   "id": "6b85d4de-21cd-4e98-ace4-6035641a6001",
   "metadata": {},
   "source": [
    "list=[1,2,3,4] in this we have to print two numbers where their multiplication is maximum than other number 4 and 3 are those having maximum multiplication than other number."
   ]
  },
  {
   "cell_type": "code",
   "execution_count": 70,
   "id": "2cb29f51-703a-4bac-91b4-3890cef44ee3",
   "metadata": {},
   "outputs": [
    {
     "name": "stdout",
     "output_type": "stream",
     "text": [
      "[1, 2, 3, 4]\n",
      "12\n",
      "The two numbers with maximum product are 4 and 3 is: 12\n",
      "The two numbers with maximum product are 4 and 3\n"
     ]
    }
   ],
   "source": [
    "List=[1,3,2,4]\n",
    "sort_list= sorted(List)\n",
    "print(sort_list)\n",
    "# get two lagest number\n",
    "largest1=sort_list[-1]\n",
    "largest2=sort_list[-2]\n",
    "\n",
    "x=sort_list[-1]*sort_list[-2]\n",
    "print(x)\n",
    "\n",
    "print(f\"The two numbers with maximum product are {largest1} and {largest2} is: {x}\")#using f-string\n",
    "print(\"The two numbers with maximum product are {} and {}\".format(largest1, largest2))#using format() method\n"
   ]
  },
  {
   "cell_type": "code",
   "execution_count": 72,
   "id": "6f76be36-21fd-4cbb-8896-57b55ff08f37",
   "metadata": {},
   "outputs": [
    {
     "name": "stdout",
     "output_type": "stream",
     "text": [
      "[1, 2, 3, 4, 5, 6, 7, 8, 9]\n",
      "the largest two numbers are 9 and 8 and their addition is: 17\n"
     ]
    }
   ],
   "source": [
    "x=[3,4,1,2,5,6,9,7,8]\n",
    "y=sorted(x)\n",
    "print(y)\n",
    "largest1=y[-1]\n",
    "largest2=y[-2]\n",
    "\n",
    "add=largest1+largest2\n",
    "print(f\"the largest two numbers are {largest1} and {largest2} and their addition is: {add}\")"
   ]
  },
  {
   "cell_type": "code",
   "execution_count": 74,
   "id": "200199ab-6031-4399-b4fe-73f5f9ac179b",
   "metadata": {},
   "outputs": [
    {
     "name": "stdout",
     "output_type": "stream",
     "text": [
      "[-8, -6, -5, -1, 2, 6, 8, 9]\n",
      "72\n",
      "48\n",
      "product of positive numbers 9 and 8 is: 72\n"
     ]
    }
   ],
   "source": [
    "x=[2,-5,6,-8,8,-1,9,-6]\n",
    "y=sorted(x)\n",
    "print(y)\n",
    "# we have to calculate product of heighest two numbers from +ve and -ve numbers.\n",
    "pos1=y[-1]\n",
    "pos2=y[-2]\n",
    "pos_mul=pos1*pos2\n",
    "print(pos_mul)\n",
    "\n",
    "neg1=y[0]\n",
    "neg2=y[1]\n",
    "#print(neg1)\n",
    "#print(neg2)\n",
    "neg_mul=neg1*neg2\n",
    "print(neg_mul)\n",
    "\n",
    "if pos_mul>neg_mul:\n",
    "    print(f\"product of positive numbers {pos1} and {pos2} is: {pos_mul}\")\n",
    "else:\n",
    "    print(f\"product of negative numbers {neg1} and {neg2} is: {neg_mul}\")"
   ]
  },
  {
   "cell_type": "code",
   "execution_count": 76,
   "id": "61f960eb-77e4-405f-96ce-365416a404b3",
   "metadata": {},
   "outputs": [
    {
     "name": "stdout",
     "output_type": "stream",
     "text": [
      "[-7, -4, -2, 1, 3, 6]\n",
      "-7 -4 28\n",
      "None\n"
     ]
    }
   ],
   "source": [
    "def max_multiplication(list):\n",
    "    if len(list)<2:\n",
    "        return list\n",
    "    list.sort()\n",
    "    print(list)\n",
    "    product1=list[0]*list[1]\n",
    "    product2=list[-1]*list[-2]\n",
    "    if product1>product2:\n",
    "        print(list[0],list[1],product1)\n",
    "    else:\n",
    "        print(list[-1],list[-2],product2)\n",
    "num=[1,-2,3,-4,6,-7]\n",
    "result= max_multiplication(num)\n",
    "print(result)"
   ]
  }
 ],
 "metadata": {
  "kernelspec": {
   "display_name": "Python 3 (ipykernel)",
   "language": "python",
   "name": "python3"
  },
  "language_info": {
   "codemirror_mode": {
    "name": "ipython",
    "version": 3
   },
   "file_extension": ".py",
   "mimetype": "text/x-python",
   "name": "python",
   "nbconvert_exporter": "python",
   "pygments_lexer": "ipython3",
   "version": "3.12.4"
  }
 },
 "nbformat": 4,
 "nbformat_minor": 5
}
