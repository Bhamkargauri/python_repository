{
 "cells": [
  {
   "cell_type": "markdown",
   "id": "95663c79-f68e-487c-b2ff-0b975f4469b4",
   "metadata": {},
   "source": [
    "# Dictionary\n",
    "It used to store values in key:value pairs.\n",
    "\n",
    "It is a collection which is ordered*, changeable and do not allow duplicate keys duplicate value are allow.\n",
    "\n",
    "Dictionaries are written with curly brackets { } and sepate with colon and pairs are separated by comma, and have keys and values."
   ]
  },
  {
   "cell_type": "markdown",
   "id": "fea09f12-4b68-4bf3-87d5-b0a6b3eb9136",
   "metadata": {},
   "source": [
    "# Dictionary Syntax\n",
    "\n",
    "Mutable:- modify dictionary by adding, updating, deleting key:value pairs.\n",
    "\n",
    "keys must be unique:-Each key in a dictionary must be unique, while values can be duplicated.\n",
    "\n",
    "Keys Must Be Immutable:Keys can be any data type that is immutable, such as strings, numbers, or tuples, but not lists or other dictionaries.\n"
   ]
  },
  {
   "cell_type": "markdown",
   "id": "5e7c4a4d-f1be-41e7-8429-a50ba84ef183",
   "metadata": {},
   "source": [
    "# Example of valid Dictionaries Keys:\n",
    "\n",
    "1) String keys(Most Common)\n"
   ]
  },
  {
   "cell_type": "code",
   "execution_count": 4,
   "id": "8952f976-4cf8-42b6-809d-246204f1a23e",
   "metadata": {},
   "outputs": [
    {
     "name": "stdout",
     "output_type": "stream",
     "text": [
      "{'name': 'Mayuri', 'age': 21}\n"
     ]
    }
   ],
   "source": [
    "my_dict={\"name\":\"Gauri\",\"age\":21,\"name\":\"Mayuri\"}\n",
    "print(my_dict)"
   ]
  },
  {
   "cell_type": "markdown",
   "id": "8cbed424-2aa7-4833-aa1c-91a4fff26ca6",
   "metadata": {},
   "source": [
    "2) Integer keys"
   ]
  },
  {
   "cell_type": "code",
   "execution_count": 6,
   "id": "6ac503f8-cd33-499e-8552-fe7e696f60b6",
   "metadata": {},
   "outputs": [
    {
     "name": "stdout",
     "output_type": "stream",
     "text": [
      "{1: 'Gauri', 2: 21, 3: 'Mayuri'}\n"
     ]
    }
   ],
   "source": [
    "my_dict={\n",
    "    1:\"Gauri\",\n",
    "    2:21,\n",
    "    3:\"Mayuri\"\n",
    "    }\n",
    "print(my_dict)"
   ]
  },
  {
   "cell_type": "markdown",
   "id": "29eb088f-8f4e-48dd-897c-cc0c8b6a6523",
   "metadata": {},
   "source": [
    "3) Float keys"
   ]
  },
  {
   "cell_type": "code",
   "execution_count": 8,
   "id": "f7d15049-f53c-4cb1-a836-cc728159daa2",
   "metadata": {},
   "outputs": [
    {
     "name": "stdout",
     "output_type": "stream",
     "text": [
      "{1.1: 'Gauri', 2.1: 'Shraddha', 3.1: 'Mayuri', 4.1: 'Vansh'}\n"
     ]
    }
   ],
   "source": [
    "my_dict={\n",
    "    1.1:\"Gauri\",\n",
    "    2.1:\"Shraddha\",\n",
    "    3.1:\"Mayuri\",\n",
    "    4.1:\"Vansh\"\n",
    "    }\n",
    "print(my_dict)"
   ]
  },
  {
   "cell_type": "markdown",
   "id": "63c3ddd8-d363-48d3-9315-b84aad2ad961",
   "metadata": {},
   "source": [
    "4) Tuple keys"
   ]
  },
  {
   "cell_type": "code",
   "execution_count": 10,
   "id": "b5de2686-a0a4-49bf-b4cc-8d5445a25e08",
   "metadata": {},
   "outputs": [
    {
     "name": "stdout",
     "output_type": "stream",
     "text": [
      "{(1, 1): 'Gauri', (2, 1): 'Shraddha', (3, 1): 'Mayuri', (4, 1): 'Vansh'}\n"
     ]
    }
   ],
   "source": [
    "my_dict={\n",
    "    (1,1):\"Gauri\",\n",
    "    (2,1):\"Shraddha\",\n",
    "    (3,1):\"Mayuri\",\n",
    "    (4,1):\"Vansh\"\n",
    "    }\n",
    "print(my_dict)"
   ]
  },
  {
   "cell_type": "code",
   "execution_count": 11,
   "id": "67ac3c74-024c-4365-825b-0eeb300ebcd9",
   "metadata": {},
   "outputs": [
    {
     "name": "stdout",
     "output_type": "stream",
     "text": [
      "Gauri\n",
      "age\n",
      "tuple\n"
     ]
    }
   ],
   "source": [
    "mydict={\n",
    "    \"name\":\"Gauri\", # String\n",
    "    21:\"age\" ,      # Integer\n",
    "    (2,1):\"tuple\"   # Tuple\n",
    "}\n",
    "print(mydict[\"name\"])\n",
    "print(mydict[21])\n",
    "print(mydict[(2,1)])"
   ]
  },
  {
   "cell_type": "markdown",
   "id": "ef80c8e9-fee1-42f9-9642-da0cfec3f7a2",
   "metadata": {},
   "source": [
    "# Invalid Keys\n",
    "\n",
    "Using a mutable type like as a key will raise a TypeError because lists are mutable and cannot hashed."
   ]
  },
  {
   "cell_type": "code",
   "execution_count": 13,
   "id": "727287e0-af64-4667-80f0-fe4b9743ac0a",
   "metadata": {},
   "outputs": [
    {
     "ename": "TypeError",
     "evalue": "unhashable type: 'list'",
     "output_type": "error",
     "traceback": [
      "\u001b[1;31m---------------------------------------------------------------------------\u001b[0m",
      "\u001b[1;31mTypeError\u001b[0m                                 Traceback (most recent call last)",
      "Cell \u001b[1;32mIn[13], line 1\u001b[0m\n\u001b[1;32m----> 1\u001b[0m my_dict\u001b[38;5;241m=\u001b[39m{\n\u001b[0;32m      2\u001b[0m     [\u001b[38;5;241m1\u001b[39m,\u001b[38;5;241m2\u001b[39m,\u001b[38;5;241m3\u001b[39m]:\u001b[38;5;124m\"\u001b[39m\u001b[38;5;124mlist\u001b[39m\u001b[38;5;124m\"\u001b[39m\n\u001b[0;32m      3\u001b[0m }\n\u001b[0;32m      4\u001b[0m \u001b[38;5;28mprint\u001b[39m(my_dict)\n",
      "\u001b[1;31mTypeError\u001b[0m: unhashable type: 'list'"
     ]
    }
   ],
   "source": [
    "my_dict={\n",
    "    [1,2,3]:\"list\"\n",
    "}\n",
    "print(my_dict)"
   ]
  },
  {
   "cell_type": "markdown",
   "id": "67c54d59-b0a2-4563-9c26-b1e56c06bf1e",
   "metadata": {},
   "source": [
    "# Changeable\n",
    "\n",
    "Dictionaries are changeable, meaning that we can change, add or remove items after dictionary has been created.\n",
    "\n",
    "# Duplicate Not Allowed\n",
    "\n",
    "Dictionaries cannot have two items with the same key"
   ]
  },
  {
   "cell_type": "code",
   "execution_count": 17,
   "id": "096ab495-1ffd-420c-b0d3-126134172445",
   "metadata": {},
   "outputs": [
    {
     "name": "stdout",
     "output_type": "stream",
     "text": [
      "{'Name': 'Gauri', 'Age': 21, 'Salary': 30000}\n"
     ]
    }
   ],
   "source": [
    "# Duplicate values will overwrite existing values\n",
    "my_dict={\n",
    "    \"Name\":\"Gauri\",\n",
    "    \"Age\":21,\n",
    "    \"Salary\":25000,\n",
    "    \"Salary\":30000\n",
    "}\n",
    "print(my_dict)"
   ]
  },
  {
   "cell_type": "markdown",
   "id": "01b2ad5d-8059-4b98-917f-66083c1c7911",
   "metadata": {},
   "source": [
    "# Dictionary Length\n",
    "\n",
    "To determine how many items a dictionary has, use the len() function"
   ]
  },
  {
   "cell_type": "code",
   "execution_count": 20,
   "id": "1a690c7a-546d-40e0-997a-43b62c2b919b",
   "metadata": {},
   "outputs": [
    {
     "name": "stdout",
     "output_type": "stream",
     "text": [
      "3\n"
     ]
    }
   ],
   "source": [
    "print(len(my_dict))"
   ]
  },
  {
   "cell_type": "markdown",
   "id": "9cedf4b3-5b98-4db5-a873-45e57230cc2d",
   "metadata": {},
   "source": [
    "# Dictionary Items-Data Types\n",
    "\n",
    "The values in dictionary items can be any data type"
   ]
  },
  {
   "cell_type": "code",
   "execution_count": 23,
   "id": "d490fa74-d098-4ee6-ac6d-430098667ff1",
   "metadata": {},
   "outputs": [
    {
     "name": "stdout",
     "output_type": "stream",
     "text": [
      "{'Name': 'Lenevo', 'Bool': False, 12: 'year', 'colors': ['red', 'orange', 'silver']}\n"
     ]
    }
   ],
   "source": [
    "# String, int, boolean and list \n",
    "my_dict={\n",
    "    \"Name\":\"Lenevo\",\n",
    "    \"Bool\":False,\n",
    "    12:\"year\",\n",
    "    \"colors\":[\"red\",\"orange\",\"silver\"]\n",
    "}\n",
    "print(my_dict)"
   ]
  },
  {
   "cell_type": "markdown",
   "id": "a188bc28-6ca8-4472-a0b6-58c500f053b8",
   "metadata": {},
   "source": [
    "# type()"
   ]
  },
  {
   "cell_type": "code",
   "execution_count": 26,
   "id": "a38e200c-8fa9-485b-9d8b-df5cab2c1c83",
   "metadata": {},
   "outputs": [
    {
     "name": "stdout",
     "output_type": "stream",
     "text": [
      "{'name': 'gauri', 'age': 21, 'salary': 30000}\n",
      "<class 'dict'>\n"
     ]
    }
   ],
   "source": [
    "my_dict={\n",
    "    \"name\":\"gauri\",\n",
    "    \"age\":21,\n",
    "    \"salary\":30000\n",
    "}\n",
    "print(my_dict)\n",
    "print(type(my_dict))"
   ]
  },
  {
   "cell_type": "markdown",
   "id": "9a6c310a-20d8-49e7-be71-532287a0f9fb",
   "metadata": {},
   "source": [
    "# The dict() Constructor\n",
    "\n",
    "It is possible to use the dict() constructor to make a dictionary."
   ]
  },
  {
   "cell_type": "code",
   "execution_count": 29,
   "id": "79b3a685-aff3-4d00-80a2-6ce141757c8e",
   "metadata": {},
   "outputs": [
    {
     "name": "stdout",
     "output_type": "stream",
     "text": [
      "{'name': 'Gauri', 'age': 21, 'country': 'India'}\n"
     ]
    }
   ],
   "source": [
    "# Using the dict() method to make a dictionary\n",
    "# thisdict = dict(name=\"Gauri\",age=21,country=\"India\")\n",
    "# print(thisdict)\n",
    "thisdict = dict(name=\"Gauri\",age=21,country=\"India\")\n",
    "print(thisdict)"
   ]
  },
  {
   "cell_type": "markdown",
   "id": "d1bdda8a-cc13-438d-9329-35e2bcfb94d0",
   "metadata": {},
   "source": [
    "# Access Dictionary Items\n",
    "\n",
    "access items of a dictionary by reffering to its key name, inside square brackets."
   ]
  },
  {
   "cell_type": "code",
   "execution_count": 32,
   "id": "6a9e4226-ef67-47a6-a73f-f611c29d7df5",
   "metadata": {},
   "outputs": [
    {
     "name": "stdout",
     "output_type": "stream",
     "text": [
      "abc\n",
      "['Tab', 'Phone', 'OTG', 'TV']\n",
      "['Mayuri', 'Gauri', 'Shraddha']\n",
      "['Vansh', 'Vijay']\n"
     ]
    }
   ],
   "source": [
    "this_dict={\n",
    "    \"a\":\"abc\",\n",
    "    \"Gadgets\":[\"Tab\",\"Phone\",\"OTG\",\"TV\"],\n",
    "    \"Girls\":[\"Mayuri\",\"Gauri\",\"Shraddha\"],\n",
    "    \"Boys\":[\"Vansh\",\"Vijay\"]\n",
    "}\n",
    "print(this_dict[\"a\"])\n",
    "print(this_dict[\"Gadgets\"])\n",
    "print(this_dict[\"Girls\"])\n",
    "print(this_dict[\"Boys\"])"
   ]
  },
  {
   "cell_type": "code",
   "execution_count": 34,
   "id": "2465e142-8863-4ab9-a0d1-62cf5661d73d",
   "metadata": {},
   "outputs": [
    {
     "name": "stdout",
     "output_type": "stream",
     "text": [
      "['Tab', 'Phone', 'OTG', 'TV']\n"
     ]
    }
   ],
   "source": [
    "# There is also method called get() that will give you the same result\n",
    "x=this_dict.get(\"Gadgets\")\n",
    "print(x)"
   ]
  },
  {
   "cell_type": "markdown",
   "id": "14181948-dbc5-48f9-9d57-0210db992e15",
   "metadata": {},
   "source": [
    "# Get Keys\n",
    "\n",
    "The keys() method will return a list of all the keys in the dictionary."
   ]
  },
  {
   "cell_type": "code",
   "execution_count": 37,
   "id": "8606dc2c-33f0-4306-96eb-cf44b69cfada",
   "metadata": {},
   "outputs": [
    {
     "name": "stdout",
     "output_type": "stream",
     "text": [
      "dict_keys(['a', 'Gadgets', 'Girls', 'Boys'])\n"
     ]
    }
   ],
   "source": [
    "this_dict={\n",
    "    \"a\":\"abc\",\n",
    "    \"Gadgets\":[\"Tab\",\"Phone\",\"OTG\",\"TV\"],\n",
    "    \"Girls\":[\"Mayuri\",\"Gauri\",\"Shraddha\"],\n",
    "    \"Boys\":[\"Vansh\",\"Vijay\"]\n",
    "}\n",
    "x=this_dict.keys()\n",
    "print(x)"
   ]
  },
  {
   "cell_type": "code",
   "execution_count": 39,
   "id": "5d3a50db-571d-41e1-a9c2-8cfa7645311c",
   "metadata": {},
   "outputs": [
    {
     "name": "stdout",
     "output_type": "stream",
     "text": [
      "dict_keys(['Name', 'Age', 'Class'])\n"
     ]
    },
    {
     "data": {
      "text/plain": [
       "'10th'"
      ]
     },
     "execution_count": 39,
     "metadata": {},
     "output_type": "execute_result"
    }
   ],
   "source": [
    "# Add new item to the original dictionary, and see that keys\n",
    "# list gets updated as well\n",
    "student={\n",
    "    \"Name\":\"Shraddha\",\n",
    "    \"Age\":14,\n",
    "    \"Class\":\"10th\"\n",
    "}\n",
    "print(student.keys())\n",
    "student[\"Class\"]\n"
   ]
  },
  {
   "cell_type": "markdown",
   "id": "664df655-725b-4812-a34a-8ac5deed736a",
   "metadata": {},
   "source": [
    "# Get Values\n",
    "\n",
    "The values() method will return a list of all the values in the dictionary."
   ]
  },
  {
   "cell_type": "code",
   "execution_count": 42,
   "id": "bb402e6d-82e2-4b66-9eb5-fdef5de5c8ae",
   "metadata": {},
   "outputs": [
    {
     "name": "stdout",
     "output_type": "stream",
     "text": [
      "dict_values(['Shraddha', 14, '10th'])\n"
     ]
    }
   ],
   "source": [
    "student={\n",
    "    \"Name\":\"Shraddha\",\n",
    "    \"Age\":14,\n",
    "    \"Class\":\"10th\"\n",
    "}\n",
    "print(student.values())"
   ]
  },
  {
   "cell_type": "markdown",
   "id": "21bb4ee5-5cff-42d9-8d7d-8a345b61d3cb",
   "metadata": {},
   "source": [
    "### Make a change in the original dictionary, and see that the values list gets updated as well"
   ]
  },
  {
   "cell_type": "code",
   "execution_count": null,
   "id": "4ed441be-444b-42ec-b851-a4ed88e1979f",
   "metadata": {},
   "outputs": [],
   "source": [
    "student={\n",
    "    \"Name\":\"Shraddha\",\n",
    "    \"Age\":14,\n",
    "    \"Class\":\"10th\"\n",
    "}\n",
    "print(student.values())\n",
    "student[\"Area\"]=\"Mahal\"\n",
    "print(student.values())"
   ]
  },
  {
   "cell_type": "markdown",
   "id": "eafcffd4-b87f-41ad-927a-10d8298fcc40",
   "metadata": {},
   "source": [
    "# Get Items\n",
    "\n",
    "The items() method will return each item in a dictionary, as tuples in a list."
   ]
  },
  {
   "cell_type": "code",
   "execution_count": 1,
   "id": "4ad1552a-164e-4599-bb42-a2d27c368082",
   "metadata": {},
   "outputs": [
    {
     "name": "stdout",
     "output_type": "stream",
     "text": [
      "dict_values(['Shraddha', 14, '10th'])\n",
      "dict_items([('Name', 'Shraddha'), ('Age', 14), ('Class', '10th')])\n"
     ]
    }
   ],
   "source": [
    "# Get a list of values\n",
    "student={\n",
    "    \"Name\":\"Shraddha\",\n",
    "    \"Age\":14,\n",
    "    \"Class\":\"10th\"\n",
    "}\n",
    "print(student.values())\n",
    "print(student.items())"
   ]
  },
  {
   "cell_type": "code",
   "execution_count": 4,
   "id": "33c2c7ec-fd33-408a-8744-104f4ba15fef",
   "metadata": {},
   "outputs": [
    {
     "name": "stdout",
     "output_type": "stream",
     "text": [
      "dict_items([('Name', 'Shraddha'), ('Age', 14), ('Class', '10th')])\n",
      "dict_items([('Name', 'Shraddha'), ('Age', 14), ('Class', '10th'), ('Location', 'India')])\n",
      "{'Name': 'Shraddha', 'Age': 14, 'Class': '10th', 'Location': 'India'}\n"
     ]
    }
   ],
   "source": [
    "# make change in the original dictionary, and see that the item list gets updated as well\n",
    "student={\n",
    "    \"Name\":\"Shraddha\",\n",
    "    \"Age\":14,\n",
    "    \"Class\":\"10th\"\n",
    "}\n",
    "x=student.items()\n",
    "print(x)\n",
    "student[\"Location\"]=\"India\"\n",
    "print(x)\n",
    "print(student)"
   ]
  },
  {
   "cell_type": "markdown",
   "id": "7c55a528-3ff6-464a-ac35-6a5dec370eb0",
   "metadata": {},
   "source": [
    "# Check if Key Exists\n",
    "\n",
    "To determine if a specified key is present in a dictionary use the in keyword."
   ]
  },
  {
   "cell_type": "code",
   "execution_count": 7,
   "id": "e2453e62-b3ea-493a-80a3-85cd672398ca",
   "metadata": {},
   "outputs": [
    {
     "name": "stdout",
     "output_type": "stream",
     "text": [
      "Yess!\n"
     ]
    }
   ],
   "source": [
    "student={\n",
    "    \"Name\":\"Shraddha\",\n",
    "    \"Age\":14,\n",
    "    \"Class\":\"10th\"\n",
    "}\n",
    "if \"Age\" in student:\n",
    "    print(\"Yess!\")\n",
    "else:\n",
    "    print(\"Noo!\")"
   ]
  },
  {
   "cell_type": "markdown",
   "id": "079a5968-e733-413f-bba3-b76b97946aa6",
   "metadata": {},
   "source": [
    "# Change Dictionary Item\n",
    "\n",
    "we can change the value of a specific item by referring to its key name"
   ]
  },
  {
   "cell_type": "code",
   "execution_count": 10,
   "id": "aea66c84-14ef-43d9-850d-1ca545a1eab7",
   "metadata": {},
   "outputs": [
    {
     "name": "stdout",
     "output_type": "stream",
     "text": [
      "{'Name': 'Shravani', 'Age': 14, 'Class': '10th'}\n"
     ]
    }
   ],
   "source": [
    "student={\n",
    "    \"Name\":\"Shraddha\",\n",
    "    \"Age\":14,\n",
    "    \"Class\":\"10th\"\n",
    "}\n",
    "student[\"Name\"]=\"Shravani\"\n",
    "print(student)"
   ]
  },
  {
   "cell_type": "markdown",
   "id": "f875a2b6-a1d7-48af-b24d-b32aff07b3db",
   "metadata": {},
   "source": [
    "# Update Dictionary\n",
    "\n",
    "The update() method will update the dictionary with the items from the give argument.\n",
    "\n",
    "The argument must be a dictionary, or an iterable object with key:value pairs.\n"
   ]
  },
  {
   "cell_type": "code",
   "execution_count": 14,
   "id": "1586665b-6e59-4033-b631-627f01dfaa13",
   "metadata": {},
   "outputs": [
    {
     "name": "stdout",
     "output_type": "stream",
     "text": [
      "{'Name': 'Shraddha', 'Age': 14, 'Class': '10th'}\n",
      "{'Name': 'Shraddha', 'Age': 15, 'Class': '10th'}\n"
     ]
    }
   ],
   "source": [
    "# Update the \"year\" of the details by using the update() method\n",
    "student={\n",
    "    \"Name\":\"Shraddha\",\n",
    "    \"Age\":14,\n",
    "    \"Class\":\"10th\"\n",
    "}\n",
    "print(student)\n",
    "student.update({\"Age\":15})\n",
    "print(student)"
   ]
  },
  {
   "cell_type": "markdown",
   "id": "4a28b99c-3e0d-4a41-a6b6-d21d29584f6c",
   "metadata": {},
   "source": [
    "# Add Dictionary Items\n",
    "\n",
    "Adding an item to the dictionary is done by using new index key and assigning a value to it."
   ]
  },
  {
   "cell_type": "code",
   "execution_count": 17,
   "id": "0fefea2e-cdd3-488f-9576-87b8759ccf0f",
   "metadata": {},
   "outputs": [
    {
     "name": "stdout",
     "output_type": "stream",
     "text": [
      "{'Name': 'Shraddha', 'Age': 14, 'Class': '10th', 'Marks': 100}\n"
     ]
    }
   ],
   "source": [
    "student={\n",
    "    \"Name\":\"Shraddha\",\n",
    "    \"Age\":14,\n",
    "    \"Class\":\"10th\"\n",
    "}\n",
    "student[\"Marks\"]=100\n",
    "print(student)"
   ]
  },
  {
   "cell_type": "markdown",
   "id": "082671c5-1d80-4039-b12d-e6be9024ead2",
   "metadata": {},
   "source": [
    "# Remove Dictionary Items\n",
    "\n",
    "There are several methods to remove items from a dictionary."
   ]
  },
  {
   "cell_type": "code",
   "execution_count": 20,
   "id": "950fe4c0-5ba4-48bc-954a-6b007af98840",
   "metadata": {},
   "outputs": [
    {
     "name": "stdout",
     "output_type": "stream",
     "text": [
      "{'Name': 'Shraddha', 'Class': '10th'}\n"
     ]
    }
   ],
   "source": [
    "# The pop() method removes the item with the specified key name\n",
    "student={\n",
    "    \"Name\":\"Shraddha\",\n",
    "    \"Age\":14,\n",
    "    \"Class\":\"10th\"\n",
    "}\n",
    "student.pop(\"Age\")\n",
    "print(student)"
   ]
  },
  {
   "cell_type": "code",
   "execution_count": 22,
   "id": "d1493963-9106-4656-891a-055a435c1f35",
   "metadata": {},
   "outputs": [
    {
     "name": "stdout",
     "output_type": "stream",
     "text": [
      "{'Name': 'Shraddha', 'Age': 14}\n",
      "{'Name': 'Shraddha'}\n",
      "{}\n"
     ]
    }
   ],
   "source": [
    "# The popitem() method removes the last inserted item\n",
    "student={\n",
    "    \"Name\":\"Shraddha\",\n",
    "    \"Age\":14,\n",
    "    \"Class\":\"10th\"\n",
    "}\n",
    "student.popitem()\n",
    "print(student)\n",
    "student.popitem()\n",
    "print(student)\n",
    "student.popitem()\n",
    "print(student)"
   ]
  },
  {
   "cell_type": "code",
   "execution_count": 24,
   "id": "233b5dc9-ce1c-4a18-ab44-48d47a3bbe2e",
   "metadata": {},
   "outputs": [
    {
     "name": "stdout",
     "output_type": "stream",
     "text": [
      "{'Name': 'Shraddha', 'Class': '10th'}\n"
     ]
    }
   ],
   "source": [
    "# The 'del' keyword removes the item with specified key name\n",
    "student={\n",
    "    \"Name\":\"Shraddha\",\n",
    "    \"Age\":14,\n",
    "    \"Class\":\"10th\"\n",
    "}\n",
    "del student[\"Age\"]\n",
    "print(student)"
   ]
  },
  {
   "cell_type": "code",
   "execution_count": 26,
   "id": "6b6e9c0a-2c45-4ac0-81d5-27397c405720",
   "metadata": {},
   "outputs": [
    {
     "name": "stdout",
     "output_type": "stream",
     "text": [
      "{}\n"
     ]
    }
   ],
   "source": [
    "# Remove all element from the details list\n",
    "student={\n",
    "    \"Name\":\"Shraddha\",\n",
    "    \"Age\":14,\n",
    "    \"Class\":\"10th\"\n",
    "}\n",
    "student.clear()\n",
    "print(student)"
   ]
  },
  {
   "cell_type": "markdown",
   "id": "fe79bfd9-cfaa-4138-85b0-b4d4f02726ba",
   "metadata": {},
   "source": [
    "# Loop Dictionaries\n",
    "\n",
    "We can loop through a dictionary by using for loop"
   ]
  },
  {
   "cell_type": "code",
   "execution_count": 29,
   "id": "53107c7a-9d81-4ade-a078-a964e24be98b",
   "metadata": {},
   "outputs": [
    {
     "name": "stdout",
     "output_type": "stream",
     "text": [
      "Name\n",
      "Age\n",
      "Class\n",
      "Location\n",
      "Marks\n",
      "Section\n"
     ]
    }
   ],
   "source": [
    "student={\n",
    "    \"Name\":\"Shraddha\",\n",
    "    \"Age\":14,\n",
    "    \"Class\":\"10th\",\n",
    "    \"Location\":\"India\",\n",
    "    \"Marks\":100,\n",
    "    \"Section\":\"A\"\n",
    "}\n",
    "for x in student:\n",
    "    print(x) # keys will print"
   ]
  },
  {
   "cell_type": "code",
   "execution_count": 31,
   "id": "f7e4bb8c-34ef-463c-a573-4714b6df4144",
   "metadata": {},
   "outputs": [
    {
     "name": "stdout",
     "output_type": "stream",
     "text": [
      "Shraddha\n",
      "14\n",
      "10th\n",
      "India\n",
      "100\n",
      "A\n"
     ]
    }
   ],
   "source": [
    "# print all values in the dictionary, one by one\n",
    "student={\n",
    "    \"Name\":\"Shraddha\",\n",
    "    \"Age\":14,\n",
    "    \"Class\":\"10th\",\n",
    "    \"Location\":\"India\",\n",
    "    \"Marks\":100,\n",
    "    \"Section\":\"A\"\n",
    "}\n",
    "for x in student:\n",
    "    print(student[x]) # values will print"
   ]
  },
  {
   "cell_type": "code",
   "execution_count": 33,
   "id": "b1c1b650-ac6c-4a0e-b579-78875e9b7ab6",
   "metadata": {},
   "outputs": [
    {
     "name": "stdout",
     "output_type": "stream",
     "text": [
      "Shraddha\n",
      "14\n",
      "10th\n",
      "India\n",
      "100\n",
      "A\n"
     ]
    }
   ],
   "source": [
    "# We can also use values() method to return values of a dictionary\n",
    "for x in student.values():\n",
    "    print(x)"
   ]
  },
  {
   "cell_type": "code",
   "execution_count": 35,
   "id": "ba8e1aab-3d3c-4292-9ea2-dab12e9fc43b",
   "metadata": {},
   "outputs": [
    {
     "name": "stdout",
     "output_type": "stream",
     "text": [
      "Name\n",
      "Age\n",
      "Class\n",
      "Location\n",
      "Marks\n",
      "Section\n"
     ]
    }
   ],
   "source": [
    "# We can also use keys() method to return values of a dictionary\n",
    "for x in student.keys():\n",
    "    print(x)"
   ]
  },
  {
   "cell_type": "code",
   "execution_count": 37,
   "id": "d6df9b5d-e1fa-44aa-abce-7564df5af446",
   "metadata": {},
   "outputs": [
    {
     "name": "stdout",
     "output_type": "stream",
     "text": [
      "Name Shraddha\n",
      "Age 14\n",
      "Class 10th\n",
      "Location India\n",
      "Marks 100\n",
      "Section A\n"
     ]
    }
   ],
   "source": [
    "# Loop through both keys and values, by using the items() method\n",
    "for x,y in student.items():\n",
    "    print(x,y)"
   ]
  },
  {
   "cell_type": "markdown",
   "id": "f47e09f9-def3-4ae4-81e0-dd6f22b60bc9",
   "metadata": {},
   "source": [
    "# Copy Dictionaries\n",
    "\n",
    "There are ways to make a copy, one way is to use built-in Dictionary method copy()."
   ]
  },
  {
   "cell_type": "code",
   "execution_count": 40,
   "id": "bffe014d-56d7-4631-a0da-0a0db9c2b1db",
   "metadata": {},
   "outputs": [
    {
     "name": "stdout",
     "output_type": "stream",
     "text": [
      "{'Name': 'Shraddha', 'Age': 14, 'Class': '10th', 'Location': 'India', 'Marks': 100, 'Section': 'A'}\n",
      "{'Name': 'Shraddha', 'Age': 14, 'Class': '10th', 'Location': 'India', 'Marks': 100, 'Section': 'A'}\n"
     ]
    }
   ],
   "source": [
    "student={\n",
    "    \"Name\":\"Shraddha\",\n",
    "    \"Age\":14,\n",
    "    \"Class\":\"10th\",\n",
    "    \"Location\":\"India\",\n",
    "    \"Marks\":100,\n",
    "    \"Section\":\"A\"\n",
    "}\n",
    "print(student)\n",
    "x=student.copy()\n",
    "print(x)"
   ]
  },
  {
   "cell_type": "markdown",
   "id": "2986dc00-2c5d-4b2e-84ce-bb20407f6eda",
   "metadata": {},
   "source": [
    "## Another way to make a copy is to use the built-in function dict()\n"
   ]
  },
  {
   "cell_type": "code",
   "execution_count": 43,
   "id": "35154abb-97f6-4d38-a290-f3986e664da4",
   "metadata": {},
   "outputs": [
    {
     "name": "stdout",
     "output_type": "stream",
     "text": [
      "{'Name': 'Shraddha', 'Age': 14, 'Class': '10th', 'Location': 'India', 'Marks': 100, 'Section': 'A'}\n",
      "{'Name': 'Shraddha', 'Age': 14, 'Class': '10th', 'Location': 'India', 'Marks': 100, 'Section': 'A'}\n"
     ]
    }
   ],
   "source": [
    "# Make a copy of a dictionary with the dict() function\n",
    "student={\n",
    "    \"Name\":\"Shraddha\",\n",
    "    \"Age\":14,\n",
    "    \"Class\":\"10th\",\n",
    "    \"Location\":\"India\",\n",
    "    \"Marks\":100,\n",
    "    \"Section\":\"A\"\n",
    "}\n",
    "x=dict(student)\n",
    "print(x)\n",
    "x=student\n",
    "print(x)"
   ]
  },
  {
   "cell_type": "markdown",
   "id": "e4034d84-a626-4435-bf81-f59ce1ba4721",
   "metadata": {},
   "source": [
    "# Nested Dictionaries\n",
    "\n",
    "A dictionary can dictionaries, this is called nested dictionaries."
   ]
  },
  {
   "cell_type": "code",
   "execution_count": 46,
   "id": "21f0e4e2-7bbb-4cb3-9806-f6c959abe19f",
   "metadata": {},
   "outputs": [
    {
     "name": "stdout",
     "output_type": "stream",
     "text": [
      "{'Child1': {'Name': 'Mayuri', 'Year': 2000}, 'Child2': {'Name': 'Gauri', 'Year': 2002}, 'Child3': {'Name': 'Shraddha', 'Year': 2010}, 'Child4': {'Name': 'Vansh', 'Year': 2013}}\n"
     ]
    }
   ],
   "source": [
    "# create a dictionary that contains three dictionaries\n",
    "my_family={\n",
    "    \"Child1\":{\n",
    "        \"Name\":\"Mayuri\",\n",
    "        \"Year\":2000\n",
    "    },\n",
    "    \"Child2\":{\n",
    "        \"Name\":\"Gauri\",\n",
    "        \"Year\":2002\n",
    "    },\n",
    "    \"Child3\":{\n",
    "        \"Name\":\"Shraddha\",\n",
    "        \"Year\":2010\n",
    "    },\n",
    "    \"Child4\":{\n",
    "        \"Name\":\"Vansh\",\n",
    "        \"Year\":2013\n",
    "    }\n",
    "}\n",
    "print(my_family)"
   ]
  },
  {
   "cell_type": "code",
   "execution_count": 48,
   "id": "576e03a3-0e96-4e6c-ad67-f2c89bdd34e4",
   "metadata": {},
   "outputs": [
    {
     "name": "stdout",
     "output_type": "stream",
     "text": [
      "{'Child_01': {'Name': 'Mayuri', 'Year': 2000}, 'Child_02': {'Name': 'Gauri', 'Year': 2002}, 'Child_03': {'Name': 'Shraddha', 'Year': 2010}, 'Child_04': {'Name': 'Vansh', 'Year': 2013}}\n"
     ]
    }
   ],
   "source": [
    "# Create three dictionaries, then create one dictionary that will contain the other three dictionaries\n",
    "Child1={\n",
    "    \"Name\":\"Mayuri\",\n",
    "        \"Year\":2000\n",
    "}\n",
    "Child2={\n",
    "     \"Name\":\"Gauri\",\n",
    "        \"Year\":2002\n",
    "}\n",
    "Child3={\n",
    "    \"Name\":\"Shraddha\",\n",
    "        \"Year\":2010\n",
    "}\n",
    "Child4={\n",
    "    \"Name\":\"Vansh\",\n",
    "        \"Year\":2013\n",
    "}\n",
    "my_family={\n",
    "    \"Child_01\":Child1,\n",
    "    \"Child_02\":Child2,\n",
    "    \"Child_03\":Child3,\n",
    "    \"Child_04\":Child4\n",
    "}\n",
    "print(my_family)"
   ]
  },
  {
   "cell_type": "markdown",
   "id": "274f5703-7bff-467f-9592-d59bc61d587a",
   "metadata": {},
   "source": [
    "# Dictionary fromkeys() Method\n",
    "\n",
    "fromkeys() function returns the dictionary with key mapped and specific value."
   ]
  },
  {
   "cell_type": "code",
   "execution_count": 51,
   "id": "ede1dbc7-dc31-4dba-8ba4-3ca4c99db6fe",
   "metadata": {},
   "outputs": [
    {
     "name": "stdout",
     "output_type": "stream",
     "text": [
      "{'key1': 500, 'key2': 500, 'key3': 500}\n"
     ]
    }
   ],
   "source": [
    "# Create a dictionry with 3 keys, all with the value 0\n",
    "x=('key1','key2','key3')\n",
    "y=500\n",
    "thisdict=dict.fromkeys(x,y)\n",
    "print(thisdict)"
   ]
  },
  {
   "cell_type": "markdown",
   "id": "f986cee8-00ae-479a-87cf-c84821c3bb5a",
   "metadata": {},
   "source": [
    "keys required. An iterable specifying the keys of the new dictionary value optional. The values for all keys. Default value is none"
   ]
  },
  {
   "cell_type": "code",
   "execution_count": 54,
   "id": "627e2301-59ef-449a-a2c6-981984b2a94a",
   "metadata": {},
   "outputs": [
    {
     "name": "stdout",
     "output_type": "stream",
     "text": [
      "{'key1': None, 'key2': None, 'key3': None}\n"
     ]
    }
   ],
   "source": [
    "# Same example as above, but without specifying the value\n",
    "x=('key1','key2','key3')\n",
    "thisdict=dict.fromkeys(x)\n",
    "print(thisdict)"
   ]
  },
  {
   "cell_type": "markdown",
   "id": "01bb1f8e-d1d4-4646-a723-d0d6baa6fe7b",
   "metadata": {},
   "source": [
    "# Dictionary Methods\n",
    "\n",
    "   1) clear()- Return all elemens from the dictionary\n",
    "   2) copy()- Returns a copy of dictionary\n",
    "   3) get()- Returns the value of specified key\n",
    "   4) items()- Returns a list containig a tuple for each key value pair\n",
    "   5) keys()- Returns a list containing dictionary's keys\n",
    "   6) pop()- Returns the element with specified key\n",
    "   7) popitem()- Removes the last inserted key:value pairs\n",
    "   8) update()- Updates dictionary with specified key:value pairs\n",
    "   9) values()- Returns a list of all the values of dictionary\n"
   ]
  },
  {
   "cell_type": "code",
   "execution_count": 57,
   "id": "3e8fbbd6-7c8c-4b39-b17f-eace85dc4fe6",
   "metadata": {},
   "outputs": [
    {
     "name": "stdout",
     "output_type": "stream",
     "text": [
      "{1: 'Python', 2: 'Java', 3: 'Javascript', 4: 'React'}\n",
      "***************************************\n",
      "{}\n",
      "***************************************\n",
      "Python\n",
      "***************************************\n",
      "dict_items([(1, 'Python'), (2, 'Java'), (3, 'Javascript'), (4, 'React')])\n",
      "***************************************\n",
      "dict_keys([1, 2, 3, 4])\n",
      "***************************************\n",
      "{2: 'Java', 3: 'Javascript', 4: 'React'}\n",
      "***************************************\n",
      "{2: 'Java', 3: 'Javascript'}\n",
      "***************************************\n",
      "{3: 'ExpressJs'}\n",
      "***************************************\n",
      "dict_values(['Java', 'Javascript'])\n"
     ]
    }
   ],
   "source": [
    "# demo for all dictionary methods\n",
    "my_dict={1:'Python',2:'Java',3:'Javascript',4:'React'}\n",
    "\n",
    "#copy() method\n",
    "copy_dict=my_dict.copy()\n",
    "print(copy_dict)\n",
    "print(\"***************************************\") #{1: 'Python', 2: 'Java', 3: 'Javascript', 4: 'React'}\n",
    "\n",
    "\n",
    "#clear() method\n",
    "my_dict.clear()\n",
    "print(my_dict)\n",
    "print(\"***************************************\") #{}\n",
    "\n",
    "#get() method\n",
    "print(copy_dict.get(1))\n",
    "print(\"***************************************\") #Python\n",
    "\n",
    "#items() method\n",
    "print(copy_dict.items())\n",
    "print(\"***************************************\") #dict_items([(1, 'Python'), (2, 'Java'), (3, 'Javascript'), (4, 'React')])\n",
    "\n",
    "#keys method\n",
    "print(copy_dict.keys())\n",
    "print(\"***************************************\")  #dict_keys([1, 2, 3, 4])\n",
    "\n",
    "#pop() method\n",
    "copy_dict.pop(1)\n",
    "print(copy_dict)\n",
    "print(\"***************************************\")  #{2: 'Java', 3: 'Javascript', 4: 'React'}\n",
    "\n",
    "#popitem() method\n",
    "copy_dict.popitem()\n",
    "print(copy_dict)\n",
    "print(\"***************************************\") #{2: 'Java', 3: 'Javascript'}\n",
    "\n",
    "#update() method\n",
    "my_dict.update({3:\"ExpressJs\"})\n",
    "print(my_dict)\n",
    "print(\"***************************************\")  #{3: 'ExpressJs'}\n",
    "\n",
    "#values() method\n",
    "print(copy_dict.values())                        #dict_values(['Java', 'ExpressJs'])"
   ]
  },
  {
   "cell_type": "code",
   "execution_count": null,
   "id": "c210ba47-fd62-48e1-8957-88a378bdb477",
   "metadata": {},
   "outputs": [],
   "source": []
  }
 ],
 "metadata": {
  "kernelspec": {
   "display_name": "Python 3 (ipykernel)",
   "language": "python",
   "name": "python3"
  },
  "language_info": {
   "codemirror_mode": {
    "name": "ipython",
    "version": 3
   },
   "file_extension": ".py",
   "mimetype": "text/x-python",
   "name": "python",
   "nbconvert_exporter": "python",
   "pygments_lexer": "ipython3",
   "version": "3.12.4"
  }
 },
 "nbformat": 4,
 "nbformat_minor": 5
}
