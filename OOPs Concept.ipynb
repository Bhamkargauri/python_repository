{
 "cells": [
  {
   "cell_type": "markdown",
   "id": "027ffb28-5308-4e58-a01b-e66bfbeff386",
   "metadata": {},
   "source": [
    "# <center><span style='color:red; font-family:Britannic Bold'>OOPS(Object Programming System)</span></center>"
   ]
  },
  {
   "cell_type": "markdown",
   "id": "f6eaac36-ac35-4196-a12f-f6748bd96871",
   "metadata": {},
   "source": [
    "The languages like C, Pascal, Fortran etc., are called Procedure Oriented Programming languages since in these languages, a programmer uses procedures or functions to perform a task. While developing software, the main task is divided into several sub tasks and each sub task is represented as a procedure or function. The main task is thus composed of several procedures and functions. This approach is called Procedure oriented approach.\n",
    "\n",
    "On the other hand, languages like C++, Java and Python use classes and objects in their programs and are called Object Oriented Programming languages. A class is a module which itself contains data and methods (functions) to achieve the task. The main task is divided into several sub tasks, and these are represented as classes. Each class can perform several inter-related tasks for which several methods are written in a class. This approach is called Object Oriented approach."
   ]
  },
  {
   "cell_type": "markdown",
   "id": "0844b625-4be5-4db4-9cc3-1e233ec2e70d",
   "metadata": {},
   "source": [
    "## <span style='color:green; font-family:Arial Rounded MT Bold'>Speciality of Python language</span>"
   ]
  },
  {
   "cell_type": "markdown",
   "id": "5ff8dd1e-12e8-4947-b0dc-1fdeb6c415b9",
   "metadata": {},
   "source": [
    "In OOPS, all programs involve creation of classes and objects. This makes programs lengthy. For example, we have to write all the statements of the program inside a class and then create objects to the class. Then use the features of the class through objects. This type of programming requires much code to perform a simple task like adding two numbers. Also, the program execution takes more time. So, for simple tasks, it is still better to go for procedure oriented approach which offers less code and more speed. For example, a C program executes faster than its equivalent program written in Python or Java!\n",
    "\n",
    "Even though, Python is an object oriented programming language like Java, it does not force the programmers to write programs in complete object oriented way. Unlike Java, Python has a blend of both the object oriented and procedure oriented features. Hence, Python programmers can write programs using procedure oriented approach (like C) or object oriented approach (like Java) depending on their requirements. This is definitely an advantage for Python programmers"
   ]
  },
  {
   "cell_type": "markdown",
   "id": "b7ec1976-681d-4b24-bd64-547535063add",
   "metadata": {},
   "source": [
    "## <span style='color:green; font-family:Arial Rounded MT Bold'>Features od Object Oriented Prgramming System(OOPS)</span>"
   ]
  },
  {
   "cell_type": "markdown",
   "id": "08b4d9b5-8f49-485b-b260-9b26c6e15f05",
   "metadata": {},
   "source": [
    "There are five important features related to Object Oriented Programming System. They are:\n",
    "\n",
    "1. Classes and objects\n",
    "\n",
    "2. Encapsulation\n",
    "\n",
    "3. Abstraction\n",
    "\n",
    "4. Inheritance\n",
    "\n",
    "5. Polymorphism"
   ]
  },
  {
   "cell_type": "markdown",
   "id": "cb1006a7-7cf1-44ee-a515-b9321d345183",
   "metadata": {},
   "source": [
    "## <span style='color:green; font-family:Arial Rounded MT Bold'>Classes and Object</span>"
   ]
  },
  {
   "cell_type": "markdown",
   "id": "6d888898-aef8-4f21-a7a3-d3c1f01c09d9",
   "metadata": {},
   "source": [
    "The entire OOPS methodology has been derived from a single root concept called object. An object is anything that really exists in the world and can be distinguished from others This definition specifies that everything in this world is an object. For example, a table, a ball, a car, a dog, a person, etc. will come under objects. Then what is not an object? If something does not really exist, then it is not an object. For example, our thoughts, imagination, plans, ideas etc. are not objects, because they do not physically exist.\n",
    "\n",
    "Every object has some behavior. The behavior of an object is represented by attributes and actions. For example, let's take a person whose name is 'Raju' Raju is an object because he exists physically. He has attributes like name, age, sex, etc. These attributes can be represented by variables in our programming. For example, 'name' is a string type variable, 'age' is an integer type variable.\n",
    "\n",
    "Similarly, Raju can perform some actions like talking, walking, eating and sleeping. We may not write code for such actions in programming. But, we can consider calculations and processing of data as actions. These actions are performed by methods. We should understand that a function written inside a class is called a method. So an object contains variables and methods.\n",
    "\n",
    "It is possible that some objects may have similar behavior. Such objects belong to same category called a class. For example, not only Raju, but all the other persons have various common attributes and actions. So they are all objects of same class, Person Now observe that the 'Person' will not exist physically but only Raju, Ravi, Sita, etc. exist physically. This means, a class is a group name and does not exist physically, but objects exist physically."
   ]
  },
  {
   "cell_type": "markdown",
   "id": "022410c5-477b-4686-947c-eefbbb7e6005",
   "metadata": {},
   "source": [
    "## <span style='color:green; font-family:Arial Rounded MT Bold'>Creating Classes and Objects in Python</span>"
   ]
  },
  {
   "cell_type": "code",
   "execution_count": 5,
   "id": "d51ddc24-36eb-41b6-a983-4c894f5389cb",
   "metadata": {},
   "outputs": [
    {
     "name": "stdout",
     "output_type": "stream",
     "text": [
      "hi\n"
     ]
    }
   ],
   "source": [
    "class A:\n",
    "    print(\"hi\")\n",
    "x=A()"
   ]
  },
  {
   "cell_type": "code",
   "execution_count": 7,
   "id": "55c00467-a226-45ce-9fe5-6ee26aae7034",
   "metadata": {},
   "outputs": [
    {
     "name": "stdout",
     "output_type": "stream",
     "text": [
      "welcome!\n"
     ]
    }
   ],
   "source": [
    "# simple class method\n",
    "class Person:\n",
    "    def greet(self):\n",
    "        print(\"welcome!\")\n",
    "obj=Person()\n",
    "obj.greet()"
   ]
  },
  {
   "cell_type": "markdown",
   "id": "eca5e341-b3c3-46f4-adbf-afa5c5af5dd7",
   "metadata": {},
   "source": [
    "Let's create a class with the name Person for which Gauri is object. A class is created by using the keyword, class. A class describes the attributes and actions performed by its objects. So, we write the attributes(variables) and actions(methods or functions) in the class as:"
   ]
  },
  {
   "cell_type": "code",
   "execution_count": 1,
   "id": "24c0762a-c711-492a-80de-74fc62c4fe4a",
   "metadata": {},
   "outputs": [
    {
     "name": "stdout",
     "output_type": "stream",
     "text": [
      "Gauri\n",
      "21\n"
     ]
    }
   ],
   "source": [
    "# creating a class\n",
    "class Person:\n",
    "    # attribute means variables\n",
    "    name=\"Gauri\"                      # class or static variable\n",
    "    age=21                            # class or static variable\n",
    "\n",
    "    # actions means methods/function\n",
    "    def talk(cls):                    # Class or static method\n",
    "        print(Person.name)            # accessing the class variable \"name\"\n",
    "        print(Person.age)             # accessing the class variable \"age\"\n",
    "\n",
    "p=Person()                            # creating the object\n",
    "p.talk()                              # calling the class / static method"
   ]
  },
  {
   "cell_type": "markdown",
   "id": "4556f194-2d9d-4805-8ce0-6e2a234edb1a",
   "metadata": {},
   "source": [
    "1) self is used to accessing instance variable and methods\n",
    "2) self is used to creating new instance variable"
   ]
  },
  {
   "cell_type": "code",
   "execution_count": 10,
   "id": "02f3dfb6-56ab-418d-8166-3b9d9e792fb9",
   "metadata": {},
   "outputs": [
    {
     "name": "stdout",
     "output_type": "stream",
     "text": [
      "Welcome Gauri\n"
     ]
    }
   ],
   "source": [
    "# __init__()\n",
    "\n",
    "class People:\n",
    "    def __init__(self,name):                   # __init__() is creating instance to access variables and method \n",
    "        self.name=name                         # self.name is instance variable\n",
    "    def hello(self):\n",
    "        print(\"Welcome\",self.name)\n",
    "obj=People(\"Gauri\")\n",
    "obj.hello()"
   ]
  },
  {
   "cell_type": "code",
   "execution_count": 14,
   "id": "19eb9827-ad09-4938-a81a-2388ece15f3a",
   "metadata": {},
   "outputs": [
    {
     "name": "stdout",
     "output_type": "stream",
     "text": [
      "This is init method\n",
      "This is Activa\n",
      "This is Jupiter\n"
     ]
    }
   ],
   "source": [
    "class Moped:\n",
    "    def __init__(self):\n",
    "        print(\"This is init method\")\n",
    "    def Activa(self):\n",
    "        print(\"This is Activa\")\n",
    "    def Jupiter(self):\n",
    "        print(\"This is Jupiter\")\n",
    "M=Moped()\n",
    "M.Activa()\n",
    "M.Jupiter()"
   ]
  },
  {
   "cell_type": "code",
   "execution_count": 18,
   "id": "775c1bba-9974-42c4-9fe6-675868e96241",
   "metadata": {},
   "outputs": [
    {
     "name": "stdout",
     "output_type": "stream",
     "text": [
      "Brand Jupiter\n",
      "Price 1,40,000\n",
      "------------------\n",
      "Brand OLA EV\n",
      "Price 1,58,000\n",
      "------------------\n"
     ]
    }
   ],
   "source": [
    "class Moped:\n",
    "    def __init__(self,Brand,Price):\n",
    "        self.Brand=Brand\n",
    "        self.Price=Price\n",
    "    def Detail(self):\n",
    "        print(\"Brand\",self.Brand)\n",
    "        print(\"Price\",self.Price)\n",
    "        print(\"------------------\")\n",
    "\n",
    "M=Moped(\"Jupiter\",\"1,40,000\")\n",
    "M.Detail()\n",
    "m=Moped(\"OLA EV\",\"1,58,000\")\n",
    "m.Detail()"
   ]
  },
  {
   "cell_type": "code",
   "execution_count": 24,
   "id": "5efac5de-e64f-4e49-8b5a-06a71bdaaa98",
   "metadata": {},
   "outputs": [
    {
     "name": "stdout",
     "output_type": "stream",
     "text": [
      "Brand Jupiter\n",
      "Price 1,40,000\n",
      "------------------\n",
      "Brand OLA EV\n",
      "Price 1,58,000\n",
      "------------------\n",
      "Brand Jupiter\n",
      "Price 1,40,000\n",
      "------------------\n",
      "Brand OLA EV\n",
      "Price 1,58,000\n",
      "------------------\n"
     ]
    }
   ],
   "source": [
    "class Moped:\n",
    "    def __init__(self,Brand,Price):\n",
    "        self.Brand=Brand\n",
    "        self.Price=Price\n",
    "    def Detail(self):\n",
    "        print(\"Brand\",self.Brand)\n",
    "        print(\"Price\",self.Price)\n",
    "        print(\"------------------\")\n",
    "\n",
    "for i in range(2):\n",
    "    M=Moped(\"Jupiter\",\"1,40,000\")\n",
    "    M.Detail()\n",
    "    m=Moped(\"OLA EV\",\"1,58,000\")\n",
    "    m.Detail()"
   ]
  },
  {
   "cell_type": "markdown",
   "id": "320d2f95-8e30-46c5-9fdc-c4a3ab591eba",
   "metadata": {},
   "source": [
    "## <span style='color:green; font-family:Arial Rounded MT Bold'>Encapsulation</span>"
   ]
  },
  {
   "cell_type": "code",
   "execution_count": 5,
   "id": "cc0f6345-88bd-4119-b134-d4f4a477d233",
   "metadata": {},
   "outputs": [
    {
     "name": "stdout",
     "output_type": "stream",
     "text": [
      "Balance:  1400\n"
     ]
    }
   ],
   "source": [
    "class BankAcc:\n",
    "    def __init__(self,balance):\n",
    "        self.__balance=balance              #private attribute\n",
    "   \n",
    "    def deposite(self,amount):              # updating\n",
    "        if amount>0:\n",
    "            self.__balance+=amount\n",
    "    def get_balance(self):\n",
    "        return self.__balance              # accessing private attribute\n",
    "\n",
    "b=BankAcc(1000)\n",
    "b.deposite(400)\n",
    "print(\"Balance: \",b.get_balance())"
   ]
  },
  {
   "cell_type": "code",
   "execution_count": 9,
   "id": "8cee2f93-909d-4f1c-9a2e-a4e1fe5e9bc2",
   "metadata": {},
   "outputs": [
    {
     "name": "stdout",
     "output_type": "stream",
     "text": [
      "Balance:  2600\n"
     ]
    }
   ],
   "source": [
    "class BankAccount:\n",
    "    def __init__(self,balance):\n",
    "        self.balance=balance          # public attribute\n",
    "ba=BankAccount(2000)\n",
    "ba.balance+=600                       #modification\n",
    "print(\"Balance: \",ba.balance)"
   ]
  },
  {
   "cell_type": "markdown",
   "id": "c8aaaf24-80cf-49b4-92d7-e856c3d868a3",
   "metadata": {},
   "source": [
    "## <span style='color:green; font-family:Arial Rounded MT Bold'>Abstraction</span>\n",
    "\n",
    "Abstraction is nothing but hiding details and showing functionality."
   ]
  },
  {
   "cell_type": "code",
   "execution_count": 17,
   "id": "771d135a-db99-4a14-aceb-90d13a086857",
   "metadata": {},
   "outputs": [
    {
     "name": "stdout",
     "output_type": "stream",
     "text": [
      "Area:  240\n",
      "Perimeter:  64\n"
     ]
    }
   ],
   "source": [
    "from abc import ABC,abstractmethod\n",
    "\n",
    "#shape class is an abstract method\n",
    "class Shape(ABC):\n",
    "    @abstractmethod\n",
    "    def area(self):\n",
    "        pass\n",
    "    @abstractmethod\n",
    "    def perimeter(self):\n",
    "        pass\n",
    "\n",
    "class Rectangle(Shape):\n",
    "    def __init__(self,length,width):\n",
    "        self.length=length                   #public attribute\n",
    "        self.width=width                     #public attribute\n",
    "\n",
    "    def area(self):\n",
    "        return self.length*self.width\n",
    "\n",
    "    def perimeter(self):\n",
    "        return 2*(self.length+self.width)\n",
    "\n",
    "rec=Rectangle(20,12)\n",
    "print(\"Area: \",rec.area())\n",
    "print(\"Perimeter: \",rec.perimeter())"
   ]
  },
  {
   "cell_type": "code",
   "execution_count": 11,
   "id": "4963b7b5-81a0-4bde-8bca-07f362d08db4",
   "metadata": {},
   "outputs": [
    {
     "name": "stdout",
     "output_type": "stream",
     "text": [
      "Area of Sphere: 314.0\n",
      "Area of Hemisphere: 235.5\n"
     ]
    }
   ],
   "source": [
    "from abc import ABC,abstractmethod\n",
    "class Shape(ABC):\n",
    "    @abstractmethod\n",
    "    def area(self):\n",
    "        pass                       # placeholder for the abstract method {} format\n",
    "\n",
    "class Sphere(Shape):\n",
    "    def __init__(self,pi,radius):\n",
    "        self.pi=pi\n",
    "        self.radius=radius\n",
    "\n",
    "    def area(self):\n",
    "        return 4*self.pi*self.radius**2\n",
    "\n",
    "class Hemisphere(Shape):\n",
    "    def __init__(self,pi,radius):\n",
    "        self.pi=pi\n",
    "        self.radius=radius\n",
    "\n",
    "    def area(self):\n",
    "        return 3*self.pi*self.radius**2\n",
    "\n",
    "# object creation\n",
    "sh = Sphere(3.14, 5)\n",
    "print(\"Area of Sphere:\", sh.area())\n",
    "\n",
    "hem = Hemisphere(3.14, 5)\n",
    "print(\"Area of Hemisphere:\", hem.area())\n"
   ]
  },
  {
   "cell_type": "markdown",
   "id": "94476fc1-53a5-4bd5-8153-e072aef85412",
   "metadata": {},
   "source": [
    "## <span style='color:green; font-family:Arial Rounded MT Bold'>Interitance</span>"
   ]
  },
  {
   "cell_type": "markdown",
   "id": "659194f3-4a35-485e-8c96-33367231c66d",
   "metadata": {},
   "source": [
    "Creating new classes from existing classes, so that the new classes will acquire all the features of the existing classes is called Inheritance. A good example for Inheritance in nature is parents producing the children and children inheriting the qualities of the parents. Let's take a class A with some members i.e., variables and methods. If we feel another class B wants almost same members, then we can derive or create class B from A as:"
   ]
  },
  {
   "cell_type": "markdown",
   "id": "73ea2a2e-68aa-4682-9269-1531f226b5b8",
   "metadata": {},
   "source": [
    "### classB(A)"
   ]
  },
  {
   "cell_type": "markdown",
   "id": "b69c5eb4-3cb3-4394-ae2c-1f09bcc26d85",
   "metadata": {},
   "source": [
    "Now, all the features of A are available to B. If an object to B is created, it contains all the members of class A and also its own members. Thus, the programmer can access and use all the members of both the classes A and B. Thus, class B becomes more useful. This is called inheritance. The original class (A) is called the base class or super class and the derived class (B) is called the sub class or derived class.\n",
    "\n",
    "There are three advantages of inheritance. First, we can create more useful classes needed by the application (software). Next, the process of creating the new classes is very easy, since they are built upon already existing classes. The last, but very important advantage is managing the code becomes easy, since the programmer creates several classes in a hierarchical manner, and segregates the code into several modules."
   ]
  },
  {
   "cell_type": "markdown",
   "id": "fa0fb1e1-6928-4847-877c-954415a075d4",
   "metadata": {},
   "source": [
    "### <span style='color:purple; font-family:Arial Rounded MT Bold'>1) Single Inheritance</span>"
   ]
  },
  {
   "cell_type": "code",
   "execution_count": 35,
   "id": "ad16ca99-fa8a-4177-9311-14dea0e89e18",
   "metadata": {},
   "outputs": [
    {
     "name": "stdout",
     "output_type": "stream",
     "text": [
      "This is Perent Class\n",
      "This is a Child Class\n"
     ]
    }
   ],
   "source": [
    "# 1) single Interitance\n",
    "class Parent:\n",
    "    def fun1(self):\n",
    "        print(\"This is Perent Class\")\n",
    "\n",
    "class Child(Parent):\n",
    "    def fun2(self):\n",
    "        print(\"This is a Child Class\")\n",
    "\n",
    "c=Child()\n",
    "c.fun1()\n",
    "c.fun2()"
   ]
  },
  {
   "cell_type": "code",
   "execution_count": 1,
   "id": "d4b48232-242c-4802-b4bd-7c9e49434df8",
   "metadata": {},
   "outputs": [
    {
     "name": "stdout",
     "output_type": "stream",
     "text": [
      "My new Moped\n",
      "May new Car maruti\n"
     ]
    }
   ],
   "source": [
    "class Vehicle:\n",
    "    def moped(m):\n",
    "        print(\"My new Moped\")\n",
    "\n",
    "class Car(Vehicle):\n",
    "    def Maruti(s):\n",
    "        print(\"May new Car maruti\")\n",
    "\n",
    "c=Car()\n",
    "c.moped()\n",
    "c.Maruti()"
   ]
  },
  {
   "cell_type": "markdown",
   "id": "d4277c10-1666-4062-b396-8ff9ab8d7a58",
   "metadata": {},
   "source": [
    "### <span style='color:purple; font-family:Arial Rounded MT Bold'>2) Multiple Inheritance</span>\n",
    "\n",
    "In Multiple Inheritance, a child class can inherit from more than one parent class."
   ]
  },
  {
   "cell_type": "code",
   "execution_count": 19,
   "id": "6edab106-1765-4fa2-99d0-9c62a4564035",
   "metadata": {},
   "outputs": [
    {
     "name": "stdout",
     "output_type": "stream",
     "text": [
      "My Mother is a Teacher\n",
      "My Father is an Artist\n",
      "I am a Student\n"
     ]
    }
   ],
   "source": [
    "class Mother:\n",
    "    def Teacher(self):\n",
    "        print(\"My Mother is a Teacher\")\n",
    "\n",
    "class Father:\n",
    "    def Artist(self):\n",
    "        print(\"My Father is an Artist\")\n",
    "\n",
    "class Child(Mother, Father):\n",
    "    def Student(self):\n",
    "        print(\"I am a Student\")\n",
    "\n",
    "c=Child()\n",
    "c.Teacher()\n",
    "c.Artist()\n",
    "c.Student()"
   ]
  },
  {
   "cell_type": "code",
   "execution_count": 33,
   "id": "39b00926-d390-4b60-82a3-2460319ca8ea",
   "metadata": {},
   "outputs": [
    {
     "name": "stdout",
     "output_type": "stream",
     "text": [
      "Good Morning Everyone\n",
      "Good Afternoon Everyone\n",
      "Good Evening Everyone\n",
      "Good Night Everyone\n"
     ]
    }
   ],
   "source": [
    "class Morning:\n",
    "    def good_morning(self):\n",
    "        print(\"Good Morning Everyone\")\n",
    "\n",
    "class Afternoon:\n",
    "    def good_afternoon(self):\n",
    "        print(\"Good Afternoon Everyone\")\n",
    "\n",
    "class Evening:\n",
    "   def good_evening(self):\n",
    "        print(\"Good Evening Everyone\")\n",
    "\n",
    "class Night(Morning, Afternoon, Evening):\n",
    "    def good_night(self):\n",
    "        print(\"Good Night Everyone\")\n",
    "\n",
    "n=Night()\n",
    "n.good_morning()\n",
    "n.good_afternoon()\n",
    "n.good_evening()\n",
    "n.good_night()"
   ]
  },
  {
   "cell_type": "markdown",
   "id": "bde112e7-bebf-443d-a77b-13e6185c3e86",
   "metadata": {},
   "source": [
    "### <span style='color:purple; font-family:Arial Rounded MT Bold'>3) Multilevel Inheritance</span>\n",
    "\n",
    "In multiple inheritance, a child class is derived from a parent class which is also a child class of another class."
   ]
  },
  {
   "cell_type": "code",
   "execution_count": 37,
   "id": "bc5b6c17-5ef9-445f-b712-728a20739538",
   "metadata": {},
   "outputs": [
    {
     "name": "stdout",
     "output_type": "stream",
     "text": [
      "This is a Parent Class\n",
      "This is a Child Class\n",
      "This is a GrandChild\n"
     ]
    }
   ],
   "source": [
    "# 2) multilevel Inheritance\n",
    "class Parent:\n",
    "    def funct1(self):\n",
    "        print(\"This is a Parent Class\")\n",
    "        \n",
    "class Child(Parent):\n",
    "    def funct2(self):\n",
    "        print(\"This is a Child Class\")\n",
    "\n",
    "class Grandchild(Child):\n",
    "    def funct3(self):\n",
    "        print(\"This is a GrandChild\")\n",
    "\n",
    "obj=Grandchild()\n",
    "obj.funct1()\n",
    "obj.funct2()\n",
    "obj.funct3()"
   ]
  },
  {
   "cell_type": "code",
   "execution_count": 4,
   "id": "558eec63-eade-4bb5-97db-a6b785defc25",
   "metadata": {},
   "outputs": [
    {
     "name": "stdout",
     "output_type": "stream",
     "text": [
      "Living Things can breath\n",
      "Animal can breath as well as walk\n",
      "Humans can breath, walk as well as think\n"
     ]
    }
   ],
   "source": [
    "class LivingThings:\n",
    "    def breath(b):                                                  # b is creating instance as self we can use any element instead of self\n",
    "        print(\"Living Things can breath\")\n",
    "\n",
    "class Animal(LivingThings):\n",
    "    def walk(w):\n",
    "        print(\"Animal can breath as well as walk\")\n",
    "\n",
    "class Human(Animal):\n",
    "    def think(t):\n",
    "        print(\"Humans can breath, walk as well as think\")\n",
    "\n",
    "h=Human()\n",
    "h.breath()\n",
    "h.walk()\n",
    "h.think()"
   ]
  },
  {
   "cell_type": "markdown",
   "id": "2dbd70dd-3856-4d69-82f7-148de6767a71",
   "metadata": {},
   "source": [
    "### <span style='color:purple; font-family:Arial Rounded MT Bold'>4) Hierarchical Inheritance</span>\n",
    "\n",
    "In Hierarchical Inheritance, multiple child classes inherit from a single parent class."
   ]
  },
  {
   "cell_type": "code",
   "execution_count": 43,
   "id": "ce154b9e-d38b-461c-8d51-6ebe2ef2f480",
   "metadata": {},
   "outputs": [
    {
     "name": "stdout",
     "output_type": "stream",
     "text": [
      "This is a tree class\n",
      "White Mogra\n",
      "This is a tree class\n",
      "Ripe mangos\n"
     ]
    }
   ],
   "source": [
    "# Hierarchical Inheritance\n",
    "# multiple derived class is created from the base class\n",
    "\n",
    "class Tree:\n",
    "    def Root(self):\n",
    "        print(\"This is a tree class\")\n",
    "\n",
    "class Flower(Tree):\n",
    "    def Mogra(self):\n",
    "        print(\"White Mogra\")\n",
    "class Fruit(Tree):\n",
    "    def Mango(self):\n",
    "        print(\"Ripe mangos\")\n",
    "\n",
    "f1=Flower()\n",
    "f2=Fruit()\n",
    "\n",
    "f1.Root()\n",
    "f1.Mogra()\n",
    "f2.Root()\n",
    "f2.Mango()"
   ]
  },
  {
   "cell_type": "code",
   "execution_count": 48,
   "id": "c515d926-a4e7-4c20-aea0-2b88eed14d2e",
   "metadata": {},
   "outputs": [
    {
     "name": "stdout",
     "output_type": "stream",
     "text": [
      "Welcome Gitanjali\n",
      "score 65\n",
      "Good\n"
     ]
    }
   ],
   "source": [
    "class Student:\n",
    "    def __init__(self,name,marks):\n",
    "        self.name=name\n",
    "        self.marks=marks\n",
    "\n",
    "    def Results(self):\n",
    "        print(\"Welcome\",self.name)\n",
    "        print(\"score\",self.marks)\n",
    "    def Grade(self):\n",
    "        if(self.marks>=95):\n",
    "            print(\"Excellent\")\n",
    "        elif(self.marks>=75):\n",
    "            print(\"Best\")\n",
    "        elif(self.marks>=60):\n",
    "            print(\"Good\")\n",
    "        else:\n",
    "            print(\"Poor Score\")\n",
    "\n",
    "std=Student(\"Gitanjali\",65)\n",
    "std.Results()\n",
    "std.Grade()"
   ]
  },
  {
   "cell_type": "code",
   "execution_count": 50,
   "id": "ab5f0149-69dc-47d5-92f6-b02247465886",
   "metadata": {},
   "outputs": [
    {
     "name": "stdout",
     "output_type": "stream",
     "text": [
      "ABCDEF\n"
     ]
    }
   ],
   "source": [
    "class A:\n",
    "    x=\"ABCDEF\"\n",
    "obj=A()\n",
    "print(obj.x)"
   ]
  },
  {
   "cell_type": "code",
   "execution_count": 13,
   "id": "daa668b6-f5fa-4caf-924a-89ac2247b4c9",
   "metadata": {},
   "outputs": [
    {
     "name": "stdout",
     "output_type": "stream",
     "text": [
      "Calculate Area\n",
      "Calculate Radius\n",
      "==================\n",
      "Calculate Area\n",
      "Calculate Sides\n"
     ]
    }
   ],
   "source": [
    "class Shape:\n",
    "    def Area(self):\n",
    "        print(\"Calculate Area\")\n",
    "\n",
    "class Circle(Shape):\n",
    "    def Radius(self):\n",
    "        print(\"Calculate Radius\")\n",
    "\n",
    "class Rectangle(Shape):\n",
    "    def Sides(Shape):\n",
    "        print(\"Calculate Sides\")\n",
    "\n",
    "c=Circle()\n",
    "c.Area()\n",
    "c.Radius()\n",
    "print(\"==================\")\n",
    "r=Rectangle()\n",
    "r.Area()\n",
    "r.Sides()\n",
    "        "
   ]
  },
  {
   "cell_type": "markdown",
   "id": "511a3864-345f-46f9-9bd0-db9144dda2ac",
   "metadata": {},
   "source": [
    "### <span style='color:purple; font-family:Arial Rounded MT Bold'>5) Hibrid Inheritance</span>\n",
    "\n",
    "Hybrid Inheritance is a combination of more than one type of inheritance, such as multiple inheritance and hierarchical inheritance. "
   ]
  },
  {
   "cell_type": "code",
   "execution_count": 41,
   "id": "0b26f129-c606-4e3b-a223-388e7d77196a",
   "metadata": {},
   "outputs": [
    {
     "name": "stdout",
     "output_type": "stream",
     "text": [
      "car needs Engine\n",
      "Car need petrol and charges of petrol is too high\n",
      "=====================================\n",
      "Engine Started\n",
      "bike needs Engine\n"
     ]
    }
   ],
   "source": [
    "class Engine:\n",
    "    def start_engine(s):\n",
    "        print(\"Engine Started\")\n",
    "\n",
    "class Car(Engine):\n",
    "    def need(n):\n",
    "        print(\"car needs Engine\")\n",
    "\n",
    "class Bike(Engine):\n",
    "    def need2(e):\n",
    "        print(\"bike needs Engine\")\n",
    "\n",
    "class Petrol(Car):\n",
    "    def charges(c):\n",
    "        print(\"Car need petrol and charges of petrol is too high\")\n",
    "\n",
    "p=Petrol()\n",
    "p.need()\n",
    "p.charges()\n",
    "print(\"=====================================\")\n",
    "b=Bike()\n",
    "b.start_engine()\n",
    "b.need2()"
   ]
  },
  {
   "cell_type": "markdown",
   "id": "a2e428cf-8ee7-4d78-9eed-f04a9b5f659c",
   "metadata": {},
   "source": [
    "## <span style='color:green; font-family:Arial Rounded MT Bold'>Polymorphism</span>\n",
    "1) The word polymorphism means having many forms. In programming, polymorphism means the same function name (but different signatures) being used for different types and number of arguments used in function.\n",
    "2) one thing many signature is called \"Polymorphism\".\n",
    "3) It provides flexibility in program.\n",
    "4) There are two types of polymorphism\n",
    "    1) Method Overloading(Compile time polymorphism):- same method but different parameter in same class.\n",
    "    2) Method Overriding(Run time polymorphism):- same method but different parameter in different class."
   ]
  },
  {
   "cell_type": "code",
   "execution_count": 7,
   "id": "67028983-2a20-4900-8bf8-b420e035bd50",
   "metadata": {},
   "outputs": [
    {
     "name": "stdout",
     "output_type": "stream",
     "text": [
      "12\n",
      "4\n"
     ]
    }
   ],
   "source": [
    "# Polymorphic functions\n",
    "# len() being used for a string \n",
    "print(len(\"Hello world!\"))\n",
    "\n",
    "# len() being used for a list\n",
    "print(len([10,30,52,60]))"
   ]
  },
  {
   "cell_type": "code",
   "execution_count": 37,
   "id": "f9e9fda0-f853-43da-bc80-f798c8e7eb56",
   "metadata": {},
   "outputs": [
    {
     "name": "stdout",
     "output_type": "stream",
     "text": [
      "New Delhi is the capital of India.\n",
      "My Mother Tongue is Marathi.\n",
      "I am from Maharashtra.\n",
      "Washington, D.C. is capital of USA.\n",
      "English is the primary language of USA.\n",
      "I am from California.\n"
     ]
    }
   ],
   "source": [
    "# method overriding\n",
    "class India():\n",
    "    def capital(self):\n",
    "        print(\"New Delhi is the capital of India.\")\n",
    "    def language(self):\n",
    "        print(\"My Mother Tongue is Marathi.\")\n",
    "    def state(self):\n",
    "        print(\"I am from Maharashtra.\")\n",
    "\n",
    "class USA():\n",
    "    def capital(self):\n",
    "        print(\"Washington, D.C. is capital of USA.\")\n",
    "    def language(self):\n",
    "        print(\"English is the primary language of USA.\")\n",
    "    def state(self):\n",
    "        print(\"I am from California.\")\n",
    "\n",
    "i=India()\n",
    "u=USA()\n",
    "\n",
    "for contry in (i,u):\n",
    "    contry.capital()\n",
    "    contry.language()\n",
    "    contry.state()"
   ]
  },
  {
   "cell_type": "code",
   "execution_count": 12,
   "id": "4d5d0d8e-d10a-4a17-a8ad-57cd3ad3708f",
   "metadata": {},
   "outputs": [
    {
     "name": "stdout",
     "output_type": "stream",
     "text": [
      "7\n",
      "17\n"
     ]
    }
   ],
   "source": [
    "def add(a,b,c=0):\n",
    "    return a+b+c\n",
    "print(add(5,2))\n",
    "print(add(5,2,10))"
   ]
  },
  {
   "cell_type": "code",
   "execution_count": 6,
   "id": "dfb6e607-3787-4756-b8fe-a67b5b80224d",
   "metadata": {},
   "outputs": [
    {
     "ename": "TypeError",
     "evalue": "A.multiply() missing 1 required positional argument: 'c'",
     "output_type": "error",
     "traceback": [
      "\u001b[1;31m---------------------------------------------------------------------------\u001b[0m",
      "\u001b[1;31mTypeError\u001b[0m                                 Traceback (most recent call last)",
      "Cell \u001b[1;32mIn[6], line 9\u001b[0m\n\u001b[0;32m      6\u001b[0m         \u001b[38;5;28;01mreturn\u001b[39;00m a\u001b[38;5;241m*\u001b[39mb\u001b[38;5;241m*\u001b[39mc\n\u001b[0;32m      8\u001b[0m obj\u001b[38;5;241m=\u001b[39mA()\n\u001b[1;32m----> 9\u001b[0m obj\u001b[38;5;241m.\u001b[39mmultiply(\u001b[38;5;241m5\u001b[39m,\u001b[38;5;241m2\u001b[39m)\n\u001b[0;32m     10\u001b[0m obj\u001b[38;5;241m.\u001b[39mmultiply(\u001b[38;5;241m6\u001b[39m,\u001b[38;5;241m1\u001b[39m,\u001b[38;5;241m2\u001b[39m)\n",
      "\u001b[1;31mTypeError\u001b[0m: A.multiply() missing 1 required positional argument: 'c'"
     ]
    }
   ],
   "source": [
    "# method overloading\n",
    "class A:\n",
    "    def multiply(self,a,b):\n",
    "        return a*b\n",
    "    def multiply(self,a,b,c):\n",
    "        return a*b*c\n",
    "\n",
    "obj=A()\n",
    "obj.multiply(5,2)\n",
    "obj.multiply(6,1,2)"
   ]
  },
  {
   "cell_type": "code",
   "execution_count": 49,
   "id": "611a9ca2-0ea2-418c-9b77-ce8fd5d1c88d",
   "metadata": {},
   "outputs": [
    {
     "name": "stdout",
     "output_type": "stream",
     "text": [
      "There are many types of birds.\n",
      "Most of the birds can fly but some cannot.\n",
      "Sparrows can fly.\n",
      "Ostriches cannot fly.\n"
     ]
    }
   ],
   "source": [
    "# method overriding\n",
    "class Bird():\n",
    "    def intro(self):\n",
    "        print(\"There are many types of birds.\")\n",
    "    def flight(self):\n",
    "        print(\"Most of the birds can fly but some cannot.\")\n",
    "\n",
    "class sparrow(Bird):\n",
    "    def flight(self):\n",
    "        print(\"Sparrows can fly.\")\n",
    "\n",
    "class ostrich(Bird):\n",
    "    def flight(self):\n",
    "        print(\"Ostriches cannot fly.\")\n",
    "\n",
    "bird=Bird()\n",
    "spa=sparrow()\n",
    "os=ostrich()\n",
    "\n",
    "bird.intro()\n",
    "for obj in (bird,spa,os):\n",
    "    obj.flight()"
   ]
  },
  {
   "cell_type": "code",
   "execution_count": null,
   "id": "aa7ae4ac-21ce-45d9-b4ef-e7eb65857348",
   "metadata": {},
   "outputs": [],
   "source": []
  }
 ],
 "metadata": {
  "kernelspec": {
   "display_name": "Python 3 (ipykernel)",
   "language": "python",
   "name": "python3"
  },
  "language_info": {
   "codemirror_mode": {
    "name": "ipython",
    "version": 3
   },
   "file_extension": ".py",
   "mimetype": "text/x-python",
   "name": "python",
   "nbconvert_exporter": "python",
   "pygments_lexer": "ipython3",
   "version": "3.12.4"
  }
 },
 "nbformat": 4,
 "nbformat_minor": 5
}
