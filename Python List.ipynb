{
 "cells": [
  {
   "cell_type": "markdown",
   "id": "a322cd9b-1f1d-4cd7-98ee-8a8c8f5c42a3",
   "metadata": {},
   "source": [
    "# List(Mutable)\n",
    "\n",
    "it allow duplicate value and its elements are ordered. list enclosed in box bracket[]"
   ]
  },
  {
   "cell_type": "code",
   "execution_count": 2,
   "id": "66f4fc6c-2851-4461-8dfa-48eb32621585",
   "metadata": {},
   "outputs": [
    {
     "name": "stdout",
     "output_type": "stream",
     "text": [
      "[2, 5, 6, 8, 9, 9]\n",
      "<class 'list'>\n"
     ]
    }
   ],
   "source": [
    "x=[2,5,6,8,9,9]\n",
    "print(x)\n",
    "print(type(x))"
   ]
  },
  {
   "cell_type": "code",
   "execution_count": 4,
   "id": "28258499-9170-45bc-97a9-957a48d7fa4f",
   "metadata": {},
   "outputs": [
    {
     "name": "stdout",
     "output_type": "stream",
     "text": [
      "['April', 'May', 1, 2, 3, 3]\n"
     ]
    }
   ],
   "source": [
    "my_list=[\"April\",\"May\",1,2,3,3]\n",
    "print(my_list)"
   ]
  },
  {
   "cell_type": "code",
   "execution_count": 6,
   "id": "76fc7bd9-6152-4af8-a696-33920b48f3da",
   "metadata": {},
   "outputs": [
    {
     "name": "stdout",
     "output_type": "stream",
     "text": [
      "012345"
     ]
    }
   ],
   "source": [
    "for i in range(6):\n",
    "    print(i,end=\"\")\n",
    "   # print(my_list)"
   ]
  },
  {
   "cell_type": "code",
   "execution_count": 8,
   "id": "5556f715-4bca-4005-b8f8-6ef4a44e46df",
   "metadata": {},
   "outputs": [
    {
     "name": "stdout",
     "output_type": "stream",
     "text": [
      "A\n",
      "ABCDE\n",
      "B\n",
      "ABCDE\n",
      "C\n",
      "ABCDE\n",
      "D\n",
      "ABCDE\n",
      "E\n",
      "ABCDE\n"
     ]
    }
   ],
   "source": [
    "e=\"ABCDE\"\n",
    "for p in e:\n",
    "    print(p)\n",
    "    print(e)"
   ]
  },
  {
   "cell_type": "markdown",
   "id": "d346e5bc-9946-40bc-953f-7e36be22027b",
   "metadata": {},
   "source": [
    "# Access the list element with indexing"
   ]
  },
  {
   "cell_type": "code",
   "execution_count": 11,
   "id": "950a731f-365b-44c9-ae41-4496b981e822",
   "metadata": {},
   "outputs": [
    {
     "name": "stdout",
     "output_type": "stream",
     "text": [
      "elem\n"
     ]
    }
   ],
   "source": [
    "o=\"element\"\n",
    "print(o[0:4])# start:stop:step, n-1"
   ]
  },
  {
   "cell_type": "code",
   "execution_count": 13,
   "id": "9ab34e43-2ae0-4c76-8dd6-1bf77864bc27",
   "metadata": {},
   "outputs": [
    {
     "name": "stdout",
     "output_type": "stream",
     "text": [
      "5\n",
      "6\n",
      "2\n",
      "3\n",
      "5\n",
      "6\n",
      "7\n"
     ]
    }
   ],
   "source": [
    "b=[5,6,2,3,5,6,7]\n",
    "print(b[0])\n",
    "print(b[1])\n",
    "print(b[2])\n",
    "print(b[3])\n",
    "print(b[4])\n",
    "print(b[5])\n",
    "print(b[6])\n",
    "#print(b[7])"
   ]
  },
  {
   "cell_type": "code",
   "execution_count": 15,
   "id": "f5563b7e-01d2-4c33-b560-d0ee5c980015",
   "metadata": {},
   "outputs": [
    {
     "name": "stdout",
     "output_type": "stream",
     "text": [
      "Prisha\n",
      "prapti\n",
      "1\n",
      "2\n",
      "3\n",
      "['Prisha', 2, 6]\n"
     ]
    }
   ],
   "source": [
    "p=[\"Prisha\",\"prapti\",1,2,3,5,6]\n",
    "print(p[0])\n",
    "print(p[1])\n",
    "print(p[2])\n",
    "print(p[3])\n",
    "print(p[4])\n",
    "print(p[0:8:3])  # start:stop:step, n-1"
   ]
  },
  {
   "cell_type": "code",
   "execution_count": 17,
   "id": "2d94522c-ce44-4f63-af54-46f59e2fd350",
   "metadata": {},
   "outputs": [
    {
     "name": "stdout",
     "output_type": "stream",
     "text": [
      "nohtyp\n"
     ]
    }
   ],
   "source": [
    "s=\"python\"\n",
    "print(s[::-1])#reverse string"
   ]
  },
  {
   "cell_type": "code",
   "execution_count": 19,
   "id": "0deed6c2-b49b-4c53-abeb-7ede2ef1eb8c",
   "metadata": {},
   "outputs": [
    {
     "name": "stdout",
     "output_type": "stream",
     "text": [
      "5\n",
      "-------------------\n",
      "4\n",
      "-------------------\n",
      "6\n",
      "2\n"
     ]
    }
   ],
   "source": [
    "x=[1,2,3,4,5]\n",
    "print(len(x))\n",
    "print(\"-------------------\")\n",
    "print(x[3])\n",
    "print(\"-------------------\")\n",
    "y=[5,8,6,[5,2,6],4,2]\n",
    "print(len(y))\n",
    "print(y[3][1])  #nested list"
   ]
  },
  {
   "cell_type": "code",
   "execution_count": 21,
   "id": "d2e6777d-61f3-483d-994d-25aab6b97bd8",
   "metadata": {},
   "outputs": [
    {
     "name": "stdout",
     "output_type": "stream",
     "text": [
      "[1, 2, [5, 6, 3, 4, 1], 4, 5]\n",
      "5\n",
      "[5, 6, 3, 4, 1]\n",
      "4\n"
     ]
    }
   ],
   "source": [
    "my_list=[1,2,[5,6,3,4,1],4,5]\n",
    "print(my_list)\n",
    "print(len(my_list))\n",
    "\n",
    "print(my_list[2])\n",
    "print(my_list[2][3])"
   ]
  },
  {
   "cell_type": "markdown",
   "id": "af23a351-b1b8-4c6e-93af-be8f08fc34b5",
   "metadata": {},
   "source": [
    "# Allow Duplicate"
   ]
  },
  {
   "cell_type": "code",
   "execution_count": 24,
   "id": "3351b736-df40-4824-a9cc-4fe754ea34f3",
   "metadata": {},
   "outputs": [
    {
     "name": "stdout",
     "output_type": "stream",
     "text": [
      "['apple', 'orange', 'cherry', 'apple']\n",
      "[4, 5, 5, 6]\n"
     ]
    }
   ],
   "source": [
    "x=['apple','orange','cherry','apple']\n",
    "print(x)\n",
    "\n",
    "y=[4,5,5,6]\n",
    "print(y)"
   ]
  },
  {
   "cell_type": "markdown",
   "id": "16bd15f9-8a29-45a6-b6fd-ccdfce76d70f",
   "metadata": {},
   "source": [
    "# Access List Item"
   ]
  },
  {
   "cell_type": "code",
   "execution_count": 27,
   "id": "0331aee5-2278-437c-a590-a457b30c266d",
   "metadata": {},
   "outputs": [
    {
     "name": "stdout",
     "output_type": "stream",
     "text": [
      "apple\n",
      "orange\n",
      "cherry\n",
      "apple\n"
     ]
    }
   ],
   "source": [
    "x=['apple','orange','cherry','apple']\n",
    "print(x[0])\n",
    "print(x[1])\n",
    "print(x[2])\n",
    "print(x[3])"
   ]
  },
  {
   "cell_type": "markdown",
   "id": "17894191-39a1-427f-926e-dfb222017916",
   "metadata": {},
   "source": [
    "# Negative Indexing\n",
    "refers -1 to start last item, -2 to the second last item and so on."
   ]
  },
  {
   "cell_type": "code",
   "execution_count": 31,
   "id": "b007b3e9-b3ea-43b4-b004-6359ab559c52",
   "metadata": {},
   "outputs": [
    {
     "name": "stdout",
     "output_type": "stream",
     "text": [
      "apple\n",
      "cherry\n",
      "orange\n",
      "apple\n"
     ]
    }
   ],
   "source": [
    "x=['apple','orange','cherry','apple']\n",
    "print(x[-1])\n",
    "print(x[-2])\n",
    "print(x[-3])\n",
    "print(x[-4])"
   ]
  },
  {
   "cell_type": "markdown",
   "id": "d5f3b694-6c6f-4f7d-8823-fc565dab271c",
   "metadata": {},
   "source": [
    "# Range of Indexes"
   ]
  },
  {
   "cell_type": "code",
   "execution_count": 34,
   "id": "6f07fd43-2a10-482c-ba71-9446d5828175",
   "metadata": {},
   "outputs": [
    {
     "name": "stdout",
     "output_type": "stream",
     "text": [
      "['cherry', 'apple']\n"
     ]
    }
   ],
   "source": [
    "x=['apple','orange','cherry','apple']\n",
    "print(x[2:4])  #start:stop==> o/p[cherry,apple]"
   ]
  },
  {
   "cell_type": "markdown",
   "id": "63f459a7-1bac-4deb-b2c7-0b9642e37b08",
   "metadata": {},
   "source": [
    "# Range of Negative Indexes\n",
    "use when we want to search from ending."
   ]
  },
  {
   "cell_type": "code",
   "execution_count": 38,
   "id": "53af304b-8b2a-46bf-be3a-ed3abe76f102",
   "metadata": {},
   "outputs": [
    {
     "name": "stdout",
     "output_type": "stream",
     "text": [
      "pineapple\n",
      "['apple', 'cherry', 'mango', 'guava', 'blueberry']\n"
     ]
    }
   ],
   "source": [
    "x=['apple','cherry','mango','guava','blueberry','pineapple']\n",
    "print(x[-1])\n",
    "print(x[-6:-1])"
   ]
  },
  {
   "cell_type": "markdown",
   "id": "78291f70-46a1-42de-b22e-f903fd84d8eb",
   "metadata": {},
   "source": [
    "# Insert items\n",
    "\n",
    "insert element without replacing existing values."
   ]
  },
  {
   "cell_type": "code",
   "execution_count": 41,
   "id": "89ae2cbb-f0ea-4e98-87e2-fe69d0b3cad0",
   "metadata": {},
   "outputs": [
    {
     "name": "stdout",
     "output_type": "stream",
     "text": [
      "['chikoo', 'draksh', 'peru', 'aamba']\n",
      "=================================\n",
      "[12, 23, 'mina', 23, 34, 56, 46]\n",
      "=================================\n",
      "['peru', 'aamba', 4, 'ridima', 5, 3]\n"
     ]
    }
   ],
   "source": [
    "x=['chikoo','peru','aamba']\n",
    "x.insert(1,'draksh')\n",
    "print(x)\n",
    "print(\"=================================\")\n",
    "y=[12,23,23,34,56,46]\n",
    "y.insert(2,'mina')\n",
    "print(y)\n",
    "print(\"=================================\")\n",
    "z=['peru','aamba',4,5,3]\n",
    "z.insert(3,'ridima')\n",
    "print(z)"
   ]
  },
  {
   "cell_type": "markdown",
   "id": "ed47b272-516c-4b4b-a033-58262d9d0f5d",
   "metadata": {},
   "source": [
    "# Add list Item\n",
    "\n",
    "to add items we use append method()"
   ]
  },
  {
   "cell_type": "code",
   "execution_count": 44,
   "id": "c65a3765-036f-4855-8a4c-7e41f5837778",
   "metadata": {},
   "outputs": [
    {
     "name": "stdout",
     "output_type": "stream",
     "text": [
      "['chikoo', 'peru', 'aamba', 'jam']\n",
      "=================================\n",
      "[1, 2, 3, 4, 5]\n",
      "=================================\n",
      "[4.15, 5.6, 2.5, 45, 25]\n",
      "<class 'list'>\n"
     ]
    }
   ],
   "source": [
    "x=['chikoo','peru','aamba']\n",
    "x.append('jam')\n",
    "print(x)\n",
    "print(\"=================================\")\n",
    "y=[1,2,3,4]\n",
    "y.append(5)\n",
    "print(y)\n",
    "print(\"=================================\")\n",
    "z=[4.15,5.6,2.5,45]\n",
    "z.append(25)\n",
    "print(z)\n",
    "print(type(z))"
   ]
  },
  {
   "cell_type": "markdown",
   "id": "d9da7c91-a4af-4827-9c57-1f87c37fdce7",
   "metadata": {},
   "source": [
    "# Extend List\n",
    "\n",
    "append elements of another list to current list using extend() method"
   ]
  },
  {
   "cell_type": "code",
   "execution_count": 47,
   "id": "d1612d29-7b84-498b-9e29-106c660c16fd",
   "metadata": {},
   "outputs": [
    {
     "name": "stdout",
     "output_type": "stream",
     "text": [
      "['chikoo', 'peru', 'aamba', 1, 2, 3, 4]\n",
      "[1, 2, 3, 4, 'chikoo', 'peru', 'aamba']\n"
     ]
    }
   ],
   "source": [
    "x=['chikoo','peru','aamba']\n",
    "y=[1,2,3,4]\n",
    "x.extend(y)\n",
    "print(x)\n",
    "\n",
    "x=['chikoo','peru','aamba']\n",
    "y=[1,2,3,4]\n",
    "y.extend(x)\n",
    "print(y)"
   ]
  },
  {
   "cell_type": "code",
   "execution_count": 49,
   "id": "11b37153-ecd5-4632-bd6c-0fc9ff493d04",
   "metadata": {},
   "outputs": [
    {
     "name": "stdout",
     "output_type": "stream",
     "text": [
      "['A', 'B', 'C', 'D', 'E', 'F', 'G', 'H', 'I']\n",
      "['A', 'B', 'C', 'D', ['E', 'F', 'G', 'H', 'I']]\n"
     ]
    }
   ],
   "source": [
    "a=['A','B','C','D']\n",
    "b=['E','F','G','H','I']\n",
    "a.extend(b)\n",
    "print(a)\n",
    "\n",
    "a=['A','B','C','D']\n",
    "b=['E','F','G','H','I']\n",
    "a.append(b)\n",
    "print(a)"
   ]
  },
  {
   "cell_type": "markdown",
   "id": "c4325c3f-c168-4c89-901d-d69c7935f4e3",
   "metadata": {},
   "source": [
    "# Add any iterable\n",
    "\n",
    "to extend() method does not have to append lists, you can add any iterable object(tuples, sets, dictionary, etc.)"
   ]
  },
  {
   "cell_type": "code",
   "execution_count": 52,
   "id": "a4c568b8-2ba6-4531-8336-67b5bee619b0",
   "metadata": {},
   "outputs": [
    {
     "name": "stdout",
     "output_type": "stream",
     "text": [
      "[1, 2, 3, 4, 5, 6, 7, 8]\n"
     ]
    }
   ],
   "source": [
    "my_list=[1,2,3,4]\n",
    "my_tuple=(5,6,7,8)\n",
    "my_list.extend(my_tuple)\n",
    "print(my_list)"
   ]
  },
  {
   "cell_type": "code",
   "execution_count": 54,
   "id": "b753f2d4-5454-400e-8ab9-7e30ea8b046c",
   "metadata": {},
   "outputs": [
    {
     "name": "stdout",
     "output_type": "stream",
     "text": [
      "[1, 2, 3, 4, 8, 5, 6, 7]\n"
     ]
    }
   ],
   "source": [
    "my_list=[1,2,3,4]\n",
    "my_set={5,6,7,8}\n",
    "my_list.extend(my_set)\n",
    "print(my_list)"
   ]
  },
  {
   "cell_type": "code",
   "execution_count": 56,
   "id": "09869533-117f-4562-a962-267cc2df64d7",
   "metadata": {},
   "outputs": [
    {
     "name": "stdout",
     "output_type": "stream",
     "text": [
      "[1, 2, 3, 4, 'a', 'b', 'c', 'd']\n"
     ]
    }
   ],
   "source": [
    "my_list=[1,2,3,4]\n",
    "my_dict={'a':5,'b':6,'c':7,'d':8}\n",
    "my_list.extend(my_dict)\n",
    "print(my_list)"
   ]
  },
  {
   "cell_type": "markdown",
   "id": "8f65b9b9-32d1-446f-b17d-013327fbb525",
   "metadata": {},
   "source": [
    "# extend() vs append()\n",
    "\n",
    "extend() adds each element of the iterable to the list, whereas append() add the iterable itself as a single element to the list"
   ]
  },
  {
   "cell_type": "code",
   "execution_count": 59,
   "id": "ff354689-419a-4aec-bd1d-7982d1d286e0",
   "metadata": {},
   "outputs": [
    {
     "name": "stdout",
     "output_type": "stream",
     "text": [
      "[1, 2, 3, 4, (5, 6, 7, 8)]\n",
      "=======================\n",
      "[6, 7, 8, 5, 6, 7, 8]\n"
     ]
    }
   ],
   "source": [
    "my_list=[1,2,3,4]\n",
    "my_tuple=(5,6,7,8)\n",
    "my_list.append(my_tuple)\n",
    "print(my_list)\n",
    "print(\"=======================\")\n",
    "my_list=[6,7,8]\n",
    "my_list.extend(my_tuple)\n",
    "print(my_list)"
   ]
  },
  {
   "cell_type": "code",
   "execution_count": 61,
   "id": "3831342a-f405-4749-a962-c4fbbf728750",
   "metadata": {},
   "outputs": [
    {
     "name": "stdout",
     "output_type": "stream",
     "text": [
      "[1, 2, 3, 4, {8, 5, 6, 7}]\n",
      "=======================\n",
      "[5, 6, 7, 8, 5, 6, 7]\n"
     ]
    }
   ],
   "source": [
    "my_list=[1,2,3,4]\n",
    "my_set={5,6,7,8}\n",
    "my_list.append(my_set)\n",
    "print(my_list)\n",
    "print(\"=======================\")\n",
    "my_list=[5,6,7]\n",
    "my_list.extend(my_set)\n",
    "print(my_list)"
   ]
  },
  {
   "cell_type": "markdown",
   "id": "00b3257d-6f7d-4175-b7f4-f5a7f1a09140",
   "metadata": {},
   "source": [
    "# Remove List items\n",
    "\n",
    "use remove() method to removes specific items\n"
   ]
  },
  {
   "cell_type": "code",
   "execution_count": 64,
   "id": "543f9212-ee80-4099-a7d7-afc74b62f715",
   "metadata": {},
   "outputs": [
    {
     "name": "stdout",
     "output_type": "stream",
     "text": [
      "['cherry']\n"
     ]
    }
   ],
   "source": [
    "x=['apple','banana','cherry']\n",
    "x.remove('apple')\n",
    "x.remove('banana')\n",
    "print(x)"
   ]
  },
  {
   "cell_type": "markdown",
   "id": "848e8ef2-4f41-4fca-b342-c68d741a169c",
   "metadata": {},
   "source": [
    "# Remove specified Index\n",
    "\n",
    "pop() method removes specified index"
   ]
  },
  {
   "cell_type": "code",
   "execution_count": 67,
   "id": "8667d14e-1728-46e4-8bcf-35581409b0da",
   "metadata": {},
   "outputs": [
    {
     "name": "stdout",
     "output_type": "stream",
     "text": [
      "['apple', 'cherry']\n"
     ]
    }
   ],
   "source": [
    "x=['apple','banana','cherry']\n",
    "x.pop(1)\n",
    "print(x)"
   ]
  },
  {
   "cell_type": "code",
   "execution_count": 69,
   "id": "f1bb6980-8cd2-4bf0-8e18-48e6b7cde440",
   "metadata": {},
   "outputs": [
    {
     "name": "stdout",
     "output_type": "stream",
     "text": [
      "['apple', 'banana', 'cherry', 'chikoo', 'aamba']\n"
     ]
    }
   ],
   "source": [
    "x=['apple','banana','cherry','chikoo','peru','aamba']\n",
    "x.pop(4)\n",
    "print(x)"
   ]
  },
  {
   "cell_type": "markdown",
   "id": "abe6d98d-6ad2-4b06-9340-febb362b2194",
   "metadata": {},
   "source": [
    "# Clear the List\n",
    "\n",
    "clear() method empties the list, The list still remain, but has no content"
   ]
  },
  {
   "cell_type": "code",
   "execution_count": 72,
   "id": "29ffcf2c-ca08-4f60-9f97-5a5e0d2c0c7a",
   "metadata": {},
   "outputs": [
    {
     "name": "stdout",
     "output_type": "stream",
     "text": [
      "[]\n"
     ]
    }
   ],
   "source": [
    "x=['apple','banana','cherry','chikoo','peru','aamba']\n",
    "x.clear()\n",
    "print(x)"
   ]
  },
  {
   "cell_type": "markdown",
   "id": "e913c470-72d9-4779-834e-6cfac092375f",
   "metadata": {},
   "source": [
    "# List Comprehension\n",
    "\n",
    "List comprehension offers a shorter syntax when you want to create a new list based on the values of an existing list."
   ]
  },
  {
   "cell_type": "code",
   "execution_count": 1,
   "id": "f7cd99c9-39a1-4b80-b526-3c8bb7850576",
   "metadata": {},
   "outputs": [
    {
     "data": {
      "text/plain": [
       "[0, 4, 16, 36, 64]"
      ]
     },
     "execution_count": 1,
     "metadata": {},
     "output_type": "execute_result"
    }
   ],
   "source": [
    "# To create a list of sq. for even numbers from 0 to 9\n",
    "sq=[x**2 for x in range(10) if x%2==0]\n",
    "sq"
   ]
  },
  {
   "cell_type": "markdown",
   "id": "c99dbf26-abbc-4848-88b7-e525bc0bc9bd",
   "metadata": {},
   "source": [
    "# Sort List\n",
    "\n",
    "use sort() method for sorting elements. It sorts ascending order by default"
   ]
  },
  {
   "cell_type": "code",
   "execution_count": 4,
   "id": "d78d06da-d805-4d16-a1da-607387be48e3",
   "metadata": {},
   "outputs": [
    {
     "name": "stdout",
     "output_type": "stream",
     "text": [
      "['aamba', 'apple', 'banana', 'cherry', 'chikoo', 'peru']\n"
     ]
    }
   ],
   "source": [
    "x=['apple','banana','cherry','chikoo','peru','aamba']\n",
    "x.sort()\n",
    "print(x)"
   ]
  },
  {
   "cell_type": "code",
   "execution_count": 6,
   "id": "ea8499e2-3988-4092-abc4-44dd60099136",
   "metadata": {},
   "outputs": [
    {
     "name": "stdout",
     "output_type": "stream",
     "text": [
      "['peru', 'chikoo', 'cherry', 'banana', 'apple', 'aamba']\n"
     ]
    }
   ],
   "source": [
    "#To descending we use 'reverse=true'\n",
    "x=['apple','banana','cherry','chikoo','peru','aamba']\n",
    "x.sort(reverse=True)\n",
    "print(x)"
   ]
  },
  {
   "cell_type": "markdown",
   "id": "384f56da-0309-4f6e-b9dd-6918effedc67",
   "metadata": {},
   "source": [
    "# Join List\n",
    "\n",
    "Join Two Lists :- easiest way by using + operator"
   ]
  },
  {
   "cell_type": "code",
   "execution_count": 9,
   "id": "a04c2ab5-1cd9-4328-b6da-3b9b7274aad0",
   "metadata": {},
   "outputs": [
    {
     "name": "stdout",
     "output_type": "stream",
     "text": [
      "['apple', 'banana', 'cherry', 'chikoo', 'peru', 'aamba', 1, 2, 3, 4]\n"
     ]
    }
   ],
   "source": [
    "x=['apple','banana','cherry','chikoo','peru','aamba']\n",
    "y=[1,2,3,4]\n",
    "z=x+y\n",
    "print(z)"
   ]
  },
  {
   "cell_type": "markdown",
   "id": "a0d23b3f-900b-4fbf-b92d-a009ffe9ba4d",
   "metadata": {},
   "source": [
    "# count() : Return number of occurrences of value."
   ]
  },
  {
   "cell_type": "code",
   "execution_count": 12,
   "id": "271ea9a3-ee80-43de-b814-28c47fffdba3",
   "metadata": {},
   "outputs": [
    {
     "name": "stdout",
     "output_type": "stream",
     "text": [
      "1\n"
     ]
    }
   ],
   "source": [
    "L1=[1,2,3,4,5,1,1]\n",
    "print(L1.count(5)) #it prints how many times no. is repeated in list."
   ]
  },
  {
   "cell_type": "markdown",
   "id": "7e09d916-bf97-4353-ac88-225cafb45941",
   "metadata": {},
   "source": [
    "# max()"
   ]
  },
  {
   "cell_type": "code",
   "execution_count": 15,
   "id": "6763412f-0b63-464f-9a15-b1c2c64e6b55",
   "metadata": {},
   "outputs": [
    {
     "name": "stdout",
     "output_type": "stream",
     "text": [
      "5\n"
     ]
    }
   ],
   "source": [
    "L1=[1,2,3,4,5,1,1]\n",
    "print(max(L1))"
   ]
  },
  {
   "cell_type": "markdown",
   "id": "fc5234be-2663-4c6c-8899-1135b5afe256",
   "metadata": {},
   "source": [
    "# min()"
   ]
  },
  {
   "cell_type": "code",
   "execution_count": 17,
   "id": "0bf40883-c4f5-4ca4-9067-2f064b99b67e",
   "metadata": {},
   "outputs": [
    {
     "name": "stdout",
     "output_type": "stream",
     "text": [
      "90\n",
      "1\n"
     ]
    }
   ],
   "source": [
    "L1=[1,2,3,4,5,1,10,20,35,60,9,90]\n",
    "print(max(L1))\n",
    "print(min(L1))"
   ]
  },
  {
   "cell_type": "markdown",
   "id": "9c983f04-4d9e-47ac-9ecb-f430ecfe784b",
   "metadata": {},
   "source": [
    "# reverse()"
   ]
  },
  {
   "cell_type": "code",
   "execution_count": 22,
   "id": "6d0b976c-4bdb-4985-a298-2bcc9093452c",
   "metadata": {},
   "outputs": [
    {
     "name": "stdout",
     "output_type": "stream",
     "text": [
      "Original List:  [1, 2, 3, 4, 5, 1, 10, 20, 35, 60, 9, 90]\n",
      "Reversed List:  [90, 9, 60, 35, 20, 10, 1, 5, 4, 3, 2, 1]\n"
     ]
    }
   ],
   "source": [
    "L1=[1,2,3,4,5,1,10,20,35,60,9,90]\n",
    "print(\"Original List: \",L1)\n",
    "L1.reverse()\n",
    "print(\"Reversed List: \",L1)"
   ]
  },
  {
   "cell_type": "code",
   "execution_count": 24,
   "id": "f8013dda-db7d-49ef-b8fd-aaf65dc40bae",
   "metadata": {},
   "outputs": [
    {
     "name": "stdout",
     "output_type": "stream",
     "text": [
      "tsrqponmlkjihgfedcba\n"
     ]
    }
   ],
   "source": [
    "x=\"abcdefghijklmnopqrst\"\n",
    "print(x[::-1])"
   ]
  },
  {
   "cell_type": "code",
   "execution_count": 26,
   "id": "7240ecb1-ce07-46ad-87ea-77afa27c1216",
   "metadata": {},
   "outputs": [
    {
     "name": "stdout",
     "output_type": "stream",
     "text": [
      "(1). List:  ['a', 'b', 'c', 'd']\n",
      "(2). list after append operation:  ['a', 'b', 'c', 'd', 'e']\n",
      "(3). accessing items in a list:  b\n",
      "(4). changing items in the list:  ['a', 'A', 'c', 'd', 'e']\n",
      "(5). after removing item:  ['A', 'c', 'd', 'e']\n",
      "(6). after pop operation:  e\n",
      "(7).  ['A', 'c', 'd']\n",
      "(8). sort:  ['A', 'c', 'd']\n"
     ]
    }
   ],
   "source": [
    "#creating a list\n",
    "list=['a','b','c','d']\n",
    "print(\"(1). List: \",list)\n",
    "\n",
    "#appending element in a list\n",
    "list.append('e')\n",
    "print(\"(2). list after append operation: \",list)\n",
    "\n",
    "#accessing item in a list\n",
    "print(\"(3). accessing items in a list: \",list[1])\n",
    "\n",
    "#changing item in a list\n",
    "list[1]=\"A\"\n",
    "print(\"(4). changing items in the list: \",list)\n",
    "\n",
    "#removing item in a list\n",
    "list.remove(\"a\")\n",
    "print(\"(5). after removing item: \",list)\n",
    "\n",
    "#remove item in a specified index\n",
    "print(\"(6). after pop operation: \",list.pop(3))\n",
    "print(\"(7). \",list)\n",
    "\n",
    "#sort function\n",
    "list.sort()\n",
    "print(\"(8). sort: \",list)\n"
   ]
  }
 ],
 "metadata": {
  "kernelspec": {
   "display_name": "Python 3 (ipykernel)",
   "language": "python",
   "name": "python3"
  },
  "language_info": {
   "codemirror_mode": {
    "name": "ipython",
    "version": 3
   },
   "file_extension": ".py",
   "mimetype": "text/x-python",
   "name": "python",
   "nbconvert_exporter": "python",
   "pygments_lexer": "ipython3",
   "version": "3.12.4"
  }
 },
 "nbformat": 4,
 "nbformat_minor": 5
}
